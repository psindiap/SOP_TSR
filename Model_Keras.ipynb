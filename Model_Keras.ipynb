{
 "cells": [
  {
   "cell_type": "code",
   "metadata": {
    "tags": [],
    "cell_id": "00000-8a1f76ac-fff8-4024-942e-185ac9d5295e",
    "deepnote_to_be_reexecuted": false,
    "source_hash": "7176ae63",
    "execution_start": 1650280329923,
    "execution_millis": 4260,
    "deepnote_cell_type": "code",
    "deepnote_cell_height": 172.796875
   },
   "source": "import nltk\nnltk.download('stopwords')\nimport pickle",
   "execution_count": null,
   "outputs": [
    {
     "name": "stderr",
     "text": "[nltk_data] Downloading package stopwords to /root/nltk_data...\n[nltk_data]   Package stopwords is already up-to-date!\n",
     "output_type": "stream"
    }
   ]
  },
  {
   "cell_type": "code",
   "metadata": {
    "tags": [],
    "cell_id": "00001-f09fefa6-a20e-4cb4-babb-6d946c1b6182",
    "deepnote_to_be_reexecuted": false,
    "source_hash": "f660047",
    "execution_start": 1650280334198,
    "execution_millis": 15557,
    "deepnote_cell_type": "code",
    "deepnote_cell_height": 701
   },
   "source": "pip install gensim==3.8.3",
   "execution_count": null,
   "outputs": [
    {
     "name": "stdout",
     "text": "Requirement already satisfied: gensim==3.8.3 in /root/venv/lib/python3.7/site-packages (3.8.3)\nRequirement already satisfied: numpy>=1.11.3 in /shared-libs/python3.7/py/lib/python3.7/site-packages (from gensim==3.8.3) (1.21.5)\nRequirement already satisfied: scipy>=0.18.1 in /shared-libs/python3.7/py/lib/python3.7/site-packages (from gensim==3.8.3) (1.7.3)\nRequirement already satisfied: six>=1.5.0 in /shared-libs/python3.7/py-core/lib/python3.7/site-packages (from gensim==3.8.3) (1.16.0)\nRequirement already satisfied: smart-open>=1.8.1 in /shared-libs/python3.7/py/lib/python3.7/site-packages (from gensim==3.8.3) (5.2.1)\n\u001b[31mERROR: Error checking for conflicts.\nTraceback (most recent call last):\n  File \"/root/venv/lib/python3.7/site-packages/pip/_vendor/pkg_resources/__init__.py\", line 3021, in _dep_map\n    return self.__dep_map\n  File \"/root/venv/lib/python3.7/site-packages/pip/_vendor/pkg_resources/__init__.py\", line 2815, in __getattr__\n    raise AttributeError(attr)\nAttributeError: _DistInfoDistribution__dep_map\n\nDuring handling of the above exception, another exception occurred:\n\nTraceback (most recent call last):\n  File \"/root/venv/lib/python3.7/site-packages/pip/_vendor/pkg_resources/__init__.py\", line 3012, in _parsed_pkg_info\n    return self._pkg_info\n  File \"/root/venv/lib/python3.7/site-packages/pip/_vendor/pkg_resources/__init__.py\", line 2815, in __getattr__\n    raise AttributeError(attr)\nAttributeError: _pkg_info\n\nDuring handling of the above exception, another exception occurred:\n\nTraceback (most recent call last):\n  File \"/root/venv/lib/python3.7/site-packages/pip/_internal/commands/install.py\", line 512, in _warn_about_conflicts\n    package_set, _dep_info = check_install_conflicts(to_install)\n  File \"/root/venv/lib/python3.7/site-packages/pip/_internal/operations/check.py\", line 114, in check_install_conflicts\n    package_set, _ = create_package_set_from_installed()\n  File \"/root/venv/lib/python3.7/site-packages/pip/_internal/operations/check.py\", line 53, in create_package_set_from_installed\n    package_set[name] = PackageDetails(dist.version, dist.requires())\n  File \"/root/venv/lib/python3.7/site-packages/pip/_vendor/pkg_resources/__init__.py\", line 2736, in requires\n    dm = self._dep_map\n  File \"/root/venv/lib/python3.7/site-packages/pip/_vendor/pkg_resources/__init__.py\", line 3023, in _dep_map\n    self.__dep_map = self._compute_dependencies()\n  File \"/root/venv/lib/python3.7/site-packages/pip/_vendor/pkg_resources/__init__.py\", line 3032, in _compute_dependencies\n    for req in self._parsed_pkg_info.get_all('Requires-Dist') or []:\n  File \"/root/venv/lib/python3.7/site-packages/pip/_vendor/pkg_resources/__init__.py\", line 3014, in _parsed_pkg_info\n    metadata = self.get_metadata(self.PKG_INFO)\n  File \"/root/venv/lib/python3.7/site-packages/pip/_vendor/pkg_resources/__init__.py\", line 1420, in get_metadata\n    value = self._get(path)\n  File \"/root/venv/lib/python3.7/site-packages/pip/_vendor/pkg_resources/__init__.py\", line 1616, in _get\n    with open(path, 'rb') as stream:\nFileNotFoundError: [Errno 2] No such file or directory: '/root/venv/lib/python3.7/site-packages/np_utils-0.6.0.dist-info/METADATA'\u001b[0m\n\u001b[33mWARNING: You are using pip version 20.1.1; however, version 22.0.4 is available.\nYou should consider upgrading via the '/usr/local/bin/python -m pip install --upgrade pip' command.\u001b[0m\nNote: you may need to restart the kernel to use updated packages.\n",
     "output_type": "stream"
    }
   ]
  },
  {
   "cell_type": "code",
   "metadata": {
    "tags": [],
    "cell_id": "00002-e30ed68c-405e-4bc0-a3cc-8f3a0bf80eda",
    "deepnote_to_be_reexecuted": false,
    "source_hash": "d2e0150d",
    "execution_start": 1650280349782,
    "execution_millis": 24424,
    "deepnote_cell_type": "code",
    "deepnote_cell_height": 259.796875
   },
   "source": "!pip install np_utils==0.5.12.1",
   "execution_count": null,
   "outputs": [
    {
     "name": "stdout",
     "text": "Requirement already satisfied: np_utils==0.5.12.1 in /root/venv/lib/python3.7/site-packages (0.5.12.1)\nRequirement already satisfied: numpy>=1.0 in /shared-libs/python3.7/py/lib/python3.7/site-packages (from np_utils==0.5.12.1) (1.21.5)\nRequirement already satisfied: future>=0.16 in /shared-libs/python3.7/py/lib/python3.7/site-packages (from np_utils==0.5.12.1) (0.18.2)\n\u001b[33mWARNING: You are using pip version 20.1.1; however, version 22.0.4 is available.\nYou should consider upgrading via the '/root/venv/bin/python -m pip install --upgrade pip' command.\u001b[0m\n",
     "output_type": "stream"
    }
   ]
  },
  {
   "cell_type": "code",
   "metadata": {
    "tags": [],
    "cell_id": "00003-2de211a7-8644-423b-873b-022497576c5a",
    "deepnote_to_be_reexecuted": false,
    "source_hash": "c3ec9a55",
    "execution_start": 1650280374232,
    "execution_millis": 21663,
    "deepnote_cell_type": "code",
    "deepnote_cell_height": 539.796875
   },
   "source": "pip install scikit-plot",
   "execution_count": null,
   "outputs": [
    {
     "name": "stdout",
     "text": "Requirement already satisfied: scikit-plot in /root/venv/lib/python3.7/site-packages (0.3.7)\nRequirement already satisfied: scikit-learn>=0.18 in /shared-libs/python3.7/py/lib/python3.7/site-packages (from scikit-plot) (1.0.2)\nRequirement already satisfied: scipy>=0.9 in /shared-libs/python3.7/py/lib/python3.7/site-packages (from scikit-plot) (1.7.3)\nRequirement already satisfied: matplotlib>=1.4.0 in /shared-libs/python3.7/py/lib/python3.7/site-packages (from scikit-plot) (3.5.1)\nRequirement already satisfied: joblib>=0.10 in /shared-libs/python3.7/py/lib/python3.7/site-packages (from scikit-plot) (1.1.0)\nRequirement already satisfied: threadpoolctl>=2.0.0 in /shared-libs/python3.7/py/lib/python3.7/site-packages (from scikit-learn>=0.18->scikit-plot) (3.1.0)\nRequirement already satisfied: numpy>=1.14.6 in /shared-libs/python3.7/py/lib/python3.7/site-packages (from scikit-learn>=0.18->scikit-plot) (1.21.5)\nRequirement already satisfied: pyparsing>=2.2.1 in /shared-libs/python3.7/py-core/lib/python3.7/site-packages (from matplotlib>=1.4.0->scikit-plot) (3.0.7)\nRequirement already satisfied: cycler>=0.10 in /shared-libs/python3.7/py/lib/python3.7/site-packages (from matplotlib>=1.4.0->scikit-plot) (0.11.0)\nRequirement already satisfied: packaging>=20.0 in /shared-libs/python3.7/py-core/lib/python3.7/site-packages (from matplotlib>=1.4.0->scikit-plot) (21.3)\nRequirement already satisfied: pillow>=6.2.0 in /shared-libs/python3.7/py/lib/python3.7/site-packages (from matplotlib>=1.4.0->scikit-plot) (9.0.1)\nRequirement already satisfied: kiwisolver>=1.0.1 in /shared-libs/python3.7/py/lib/python3.7/site-packages (from matplotlib>=1.4.0->scikit-plot) (1.4.0)\nRequirement already satisfied: fonttools>=4.22.0 in /shared-libs/python3.7/py/lib/python3.7/site-packages (from matplotlib>=1.4.0->scikit-plot) (4.31.2)\nRequirement already satisfied: python-dateutil>=2.7 in /shared-libs/python3.7/py-core/lib/python3.7/site-packages (from matplotlib>=1.4.0->scikit-plot) (2.8.2)\nRequirement already satisfied: typing-extensions; python_version < \"3.8\" in /shared-libs/python3.7/py-core/lib/python3.7/site-packages (from kiwisolver>=1.0.1->matplotlib>=1.4.0->scikit-plot) (4.1.1)\nRequirement already satisfied: six>=1.5 in /shared-libs/python3.7/py-core/lib/python3.7/site-packages (from python-dateutil>=2.7->matplotlib>=1.4.0->scikit-plot) (1.16.0)\n\u001b[33mWARNING: You are using pip version 20.1.1; however, version 22.0.4 is available.\nYou should consider upgrading via the '/usr/local/bin/python -m pip install --upgrade pip' command.\u001b[0m\nNote: you may need to restart the kernel to use updated packages.\n",
     "output_type": "stream"
    }
   ]
  },
  {
   "cell_type": "code",
   "metadata": {
    "cell_id": "00000-f7ce3089-daa7-4b84-ae4b-eceb469fdbae",
    "deepnote_to_be_reexecuted": false,
    "source_hash": "fbe30a2c",
    "execution_start": 1650280395905,
    "execution_millis": 27321,
    "deepnote_cell_type": "code",
    "deepnote_cell_height": 550.796875
   },
   "source": "#!/usr/bin/env python3\n# -*- coding: utf-8 -*-\n\n\"\"\"\nFake news detection\nThe Keras version of neural network\n\"\"\"\n\nfrom  getEmbeddings import getEmbeddings\nimport matplotlib.pyplot as plt\nimport numpy as np\nfrom tensorflow import keras \nfrom tensorflow.keras import backend as K\nimport np_utils\nfrom tensorflow.keras.models import Sequential\nfrom tensorflow.keras.layers import Dense, Dropout, LSTM, Embedding, Input, RepeatVector\nfrom tensorflow.keras.optimizers import SGD\nfrom sklearn.preprocessing import LabelEncoder\nfrom sklearn.model_selection import train_test_split\nimport scikitplot.plotters as skplt\nimport os\n\n\n",
   "execution_count": null,
   "outputs": [
    {
     "name": "stderr",
     "text": "[nltk_data] Downloading package stopwords to /root/nltk_data...\n[nltk_data]   Package stopwords is already up-to-date!\n",
     "output_type": "stream"
    }
   ]
  },
  {
   "cell_type": "code",
   "metadata": {
    "cell_id": "00001-4e28a04c-a805-49c0-ab3c-2d6b36d4d020",
    "deepnote_to_be_reexecuted": false,
    "source_hash": "df93c8a7",
    "execution_start": 1650280423295,
    "execution_millis": 109,
    "owner_user_id": "90d8e9a7-4cf7-49f2-843d-0f73d1ab4387",
    "deepnote_cell_type": "code",
    "deepnote_cell_height": 459
   },
   "source": "\n\n# Read the data\nif not os.path.isfile('./xtr.npy') or \\\n    not os.path.isfile('./xte.npy') or \\\n    not os.path.isfile('./ytr.npy') or \\\n    not os.path.isfile('./yte.npy'):\n    xtr,xte,ytr,yte = getEmbeddings(\"datasets/train.csv\")\n    np.save('./xtr', xtr)\n    np.save('./xte', xte)\n    np.save('./ytr', ytr)\n    np.save('./yte', yte)\n\nxtr = np.load('./xtr.npy')\nxte = np.load('./xte.npy')\nytr = np.load('./ytr.npy')\nyte = np.load('./yte.npy')\nytr = np.where(ytr<1, 1, 0)\nyte  = np.where(yte <1, 1, 0)\n\n\n",
   "execution_count": null,
   "outputs": []
  },
  {
   "cell_type": "code",
   "metadata": {
    "cell_id": "00002-b02d034f-58dc-4f35-ac4f-eecee9e71a43",
    "deepnote_to_be_reexecuted": false,
    "source_hash": "d6f62097",
    "execution_start": 1650280423418,
    "execution_millis": 59,
    "deepnote_cell_type": "code",
    "deepnote_cell_height": 459
   },
   "source": "def baseline_model():\n    '''Neural network with 3 hidden layers'''\n    model = Sequential()\n    model.add(Dense(256, input_dim=300, activation='relu', kernel_initializer='normal'))\n    model.add(Dropout(0.3))\n    model.add(Dense(256, activation='relu', kernel_initializer='normal'))\n    model.add(Dropout(0.5))\n    model.add(Dense(256, activation='relu', kernel_initializer='normal'))\n    model.add(Dropout(0.5))\n    model.add(Dense(256, activation='relu', kernel_initializer='normal'))\n    model.add(Dropout(0.5))\n    model.add(Dense(80, activation='relu', kernel_initializer='normal'))\n    model.add(Dense(1, activation=\"sigmoid\", kernel_initializer='normal'))\n\n    # gradient descent\n    sgd = SGD(lr=0.04, decay=1e-6, momentum=0.9, nesterov=True)\n    \n    # configure the learning process of the model\n    model.compile(loss='binary_crossentropy', optimizer=sgd, metrics=['accuracy'])\n    return model\n\n",
   "execution_count": null,
   "outputs": []
  },
  {
   "cell_type": "code",
   "metadata": {
    "cell_id": "7dce4edf-0cc9-4e58-8923-a021f91c9e8d",
    "tags": [],
    "deepnote_to_be_reexecuted": false,
    "source_hash": "b623e53d",
    "execution_start": 1650280423487,
    "execution_millis": 8,
    "deepnote_cell_type": "code",
    "deepnote_cell_height": 81
   },
   "source": "",
   "execution_count": null,
   "outputs": []
  },
  {
   "cell_type": "code",
   "metadata": {
    "cell_id": "91bd642af6684c29b23f62843d513880",
    "tags": [],
    "deepnote_to_be_reexecuted": false,
    "source_hash": "6c19982e",
    "execution_start": 1650280423503,
    "execution_millis": 542,
    "deepnote_cell_type": "code",
    "deepnote_cell_height": 737
   },
   "source": "model = baseline_model()\nmodel.summary()\nx_train, x_test, y_train, y_test = train_test_split(xtr, ytr, test_size=0.2, random_state=42)",
   "execution_count": null,
   "outputs": [
    {
     "name": "stdout",
     "text": "Model: \"sequential\"\n_________________________________________________________________\n Layer (type)                Output Shape              Param #   \n=================================================================\n dense (Dense)               (None, 256)               77056     \n                                                                 \n dropout (Dropout)           (None, 256)               0         \n                                                                 \n dense_1 (Dense)             (None, 256)               65792     \n                                                                 \n dropout_1 (Dropout)         (None, 256)               0         \n                                                                 \n dense_2 (Dense)             (None, 256)               65792     \n                                                                 \n dropout_2 (Dropout)         (None, 256)               0         \n                                                                 \n dense_3 (Dense)             (None, 256)               65792     \n                                                                 \n dropout_3 (Dropout)         (None, 256)               0         \n                                                                 \n dense_4 (Dense)             (None, 80)                20560     \n                                                                 \n dense_5 (Dense)             (None, 1)                 81        \n                                                                 \n=================================================================\nTotal params: 295,073\nTrainable params: 295,073\nNon-trainable params: 0\n_________________________________________________________________\n/shared-libs/python3.7/py/lib/python3.7/site-packages/keras/optimizer_v2/gradient_descent.py:102: UserWarning: The `lr` argument is deprecated, use `learning_rate` instead.\n  super(SGD, self).__init__(name, **kwargs)\n",
     "output_type": "stream"
    }
   ]
  },
  {
   "cell_type": "code",
   "metadata": {
    "cell_id": "6bb55d8157c84dc3aa651b5ed8df0cbd",
    "tags": [],
    "deepnote_to_be_reexecuted": false,
    "source_hash": "f0ea23ea",
    "execution_start": 1650280424303,
    "execution_millis": 5544753,
    "deepnote_cell_type": "code",
    "deepnote_cell_height": 130
   },
   "source": "print(y_train)\n#print(encoded_y)",
   "execution_count": null,
   "outputs": [
    {
     "name": "stdout",
     "text": "[1 1 1 ... 1 0 0]\n",
     "output_type": "stream"
    }
   ]
  },
  {
   "cell_type": "code",
   "metadata": {
    "cell_id": "337607b18f0e43c9bd1847b4a6fd67cc",
    "tags": [],
    "deepnote_to_be_reexecuted": false,
    "source_hash": "94ff858f",
    "execution_start": 1650280424442,
    "execution_millis": 5544761,
    "deepnote_cell_type": "code",
    "deepnote_cell_height": 394.796875
   },
   "source": "print(x_train.shape)\nprint(x_train)",
   "execution_count": null,
   "outputs": [
    {
     "name": "stdout",
     "text": "(6396, 300)\n[[-5.03919959e-01  1.08449662e+00 -4.89026368e-01 ... -2.45303378e-01\n   1.12291324e+00  7.47111142e-02]\n [-4.80423391e-01 -2.19838470e-02  6.18526697e-01 ... -4.21398729e-02\n  -1.61386162e-01  1.80588558e-01]\n [ 4.48938251e-01  2.33382747e-01  3.65224361e-01 ... -2.81943798e-01\n   1.60297647e-01 -4.97941732e-01]\n ...\n [ 6.69540644e-01  1.26391605e-01  7.31868371e-02 ... -1.72152132e-01\n   2.38453820e-01 -5.46325743e-01]\n [ 3.46862048e-01  1.73843265e-01  4.67469729e-02 ... -3.78008634e-01\n   7.87545800e-01  4.19207573e-01]\n [-1.03207669e-04 -3.29028029e-04 -2.33980216e-04 ...  9.15699813e-04\n  -1.17929478e-03 -4.37680574e-04]]\n",
     "output_type": "stream"
    }
   ]
  },
  {
   "cell_type": "code",
   "metadata": {
    "cell_id": "00003-5b1e3abe-91f9-4c6f-883b-84adad02c1e6",
    "deepnote_to_be_reexecuted": false,
    "source_hash": "95bed232",
    "execution_start": 1650280424443,
    "execution_millis": 19265,
    "deepnote_cell_type": "code",
    "deepnote_cell_height": 1079
   },
   "source": "# Train the model\nfrom tensorflow.keras.utils import to_categorical\n\nmodel = baseline_model()\nmodel.summary()\nx_train, x_test, y_train, y_test = train_test_split(xtr, ytr, test_size=0.2, random_state=42)\nlabel_encoder = LabelEncoder()\nlabel_encoder.fit(y_train)\nencoded_y = to_categorical((label_encoder.transform(y_train)))\n\nlabel_encoder.fit(y_test)\nencoded_y_test = to_categorical((label_encoder.transform(y_test)))\nestimator = model.fit(x_train, y_train, epochs=8, batch_size=128)\nprint(\"Model Trained!\")\nscore = model.evaluate(x_test, y_test)\nprint(\"\")\nprint(\"Accuracy = \" + format(score[1]*100, '.2f') + \"%\")   \n\n\n\n \n",
   "execution_count": null,
   "outputs": [
    {
     "name": "stdout",
     "text": "Model: \"sequential_1\"\n_________________________________________________________________\n Layer (type)                Output Shape              Param #   \n=================================================================\n dense_6 (Dense)             (None, 256)               77056     \n                                                                 \n dropout_4 (Dropout)         (None, 256)               0         \n                                                                 \n dense_7 (Dense)             (None, 256)               65792     \n                                                                 \n dropout_5 (Dropout)         (None, 256)               0         \n                                                                 \n dense_8 (Dense)             (None, 256)               65792     \n                                                                 \n dropout_6 (Dropout)         (None, 256)               0         \n                                                                 \n dense_9 (Dense)             (None, 256)               65792     \n                                                                 \n dropout_7 (Dropout)         (None, 256)               0         \n                                                                 \n dense_10 (Dense)            (None, 80)                20560     \n                                                                 \n dense_11 (Dense)            (None, 1)                 81        \n                                                                 \n=================================================================\nTotal params: 295,073\nTrainable params: 295,073\nNon-trainable params: 0\n_________________________________________________________________\nEpoch 1/8\n50/50 [==============================] - 5s 30ms/step - loss: 0.6899 - accuracy: 0.5471\nEpoch 2/8\n50/50 [==============================] - 2s 37ms/step - loss: 0.5882 - accuracy: 0.7111\nEpoch 3/8\n50/50 [==============================] - 2s 31ms/step - loss: 0.4020 - accuracy: 0.8340\nEpoch 4/8\n50/50 [==============================] - 2s 34ms/step - loss: 0.3536 - accuracy: 0.8585\nEpoch 5/8\n50/50 [==============================] - 2s 34ms/step - loss: 0.3262 - accuracy: 0.8752\nEpoch 6/8\n50/50 [==============================] - 2s 34ms/step - loss: 0.2981 - accuracy: 0.8856\nEpoch 7/8\n50/50 [==============================] - 2s 34ms/step - loss: 0.2783 - accuracy: 0.8938\nEpoch 8/8\n50/50 [==============================] - 2s 32ms/step - loss: 0.2680 - accuracy: 0.9006\nModel Trained!\n50/50 [==============================] - 1s 10ms/step - loss: 0.3200 - accuracy: 0.8674\n\nAccuracy = 86.74%\n",
     "output_type": "stream"
    }
   ]
  },
  {
   "cell_type": "code",
   "metadata": {
    "cell_id": "6de6f25a4bc94f5980aa64883b03d525",
    "tags": [],
    "deepnote_to_be_reexecuted": false,
    "source_hash": "cd1878a9",
    "execution_start": 1650280443729,
    "execution_millis": 1573,
    "deepnote_cell_type": "code",
    "deepnote_cell_height": 99
   },
   "source": "y_pred=model.predict(x_test)\n# y_pred=np.argmax(predict_prob,axis=1)",
   "execution_count": null,
   "outputs": []
  },
  {
   "cell_type": "code",
   "metadata": {
    "cell_id": "49cc75f2f2e3404ba950abc5af67aa90",
    "tags": [],
    "deepnote_to_be_reexecuted": false,
    "source_hash": "14523f58",
    "execution_start": 1650280445310,
    "execution_millis": 11,
    "deepnote_cell_type": "code",
    "deepnote_cell_height": 250
   },
   "source": "y_pred = np.where(y_pred>0.5, 1, 0)\nprint(y_pred)",
   "execution_count": null,
   "outputs": [
    {
     "name": "stdout",
     "text": "[[1]\n [1]\n [0]\n ...\n [0]\n [1]\n [1]]\n",
     "output_type": "stream"
    }
   ]
  },
  {
   "cell_type": "code",
   "metadata": {
    "cell_id": "cc46683dab204ce7bfcaa815140ed9e4",
    "tags": [],
    "deepnote_to_be_reexecuted": false,
    "source_hash": "236ffc46",
    "execution_start": 1650280445387,
    "execution_millis": 6565,
    "deepnote_cell_type": "code",
    "deepnote_cell_height": 134.796875
   },
   "source": "with open('keras.sav', 'wb') as files:\n    pickle.dump(model, files)",
   "execution_count": null,
   "outputs": [
    {
     "name": "stdout",
     "text": "INFO:tensorflow:Assets written to: ram://32a840ca-6625-4c29-9863-7f75d1c387ad/assets\n",
     "output_type": "stream"
    }
   ]
  },
  {
   "cell_type": "code",
   "metadata": {
    "cell_id": "1eedef37-f903-4466-b092-902a5daa830c",
    "tags": [],
    "deepnote_to_be_reexecuted": false,
    "source_hash": "d973b3b1",
    "execution_start": 1650280451984,
    "execution_millis": 596,
    "deepnote_cell_type": "code",
    "deepnote_cell_height": 570
   },
   "source": "m = y_test.shape[0]\ntp=0\ntn=0\nfp=0\nfn=0\nfor i in range(m):\n    if (y_pred[i]==0 and (y_test[i]!=y_pred[i])):\n        fn+=1\n    elif (y_pred[i]==1 and (y_test[i]!=y_pred[i])):\n        fp+=1\n    elif (y_pred[i]==0 and (y_test[i]==y_pred[i])):\n        tn+=1\n    elif (y_pred[i]==1 and (y_test[i]==y_pred[i])):\n        tp+=1\n\nprecision=(tp)/(tp+fp)*100\nrecall=(tp)/(tp+fn)*100\nprint(\"Accuracy = \" + format((tp+tn)/(tp+tn+fp+fn)*100, '.2f') + \"%\")   \nprint(\"F1-Score = \" + format(((2*precision*recall)/(precision+recall)), '.2f') + \"%\")   \nprint(\"Recall = \" + format((tp)/(tp+fn)*100, '.2f') + \"%\")   \nprint(\"Precision = \" + format((tp)/(tp+fp)*100, '.2f') + \"%\")   \nprint(\"Specificity = \" + format((tn)/(tn+fp)*100, '.2f') + \"%\")  ",
   "execution_count": null,
   "outputs": [
    {
     "name": "stdout",
     "text": "Accuracy = 86.74%\nF1-Score = 85.79%\nRecall = 85.22%\nPrecision = 86.37%\nSpecificity = 88.09%\n",
     "output_type": "stream"
    }
   ]
  },
  {
   "cell_type": "code",
   "metadata": {
    "cell_id": "00004-a7a887fe-e171-46c4-88fd-5790e85beff8",
    "deepnote_to_be_reexecuted": false,
    "source_hash": "bba62323",
    "execution_start": 1650280452146,
    "execution_millis": 1466,
    "deepnote_cell_type": "code",
    "deepnote_cell_height": 583.9375,
    "deepnote_output_heights": [
     null,
     272.140625
    ]
   },
   "source": "# Draw the confusion matrix\ndef plot_cmat(yte, ypred):\n    '''Plotting confusion matrix'''\n    skplt.plot_confusion_matrix(yte, ypred)\n    plt.grid(False)\n    plt.show()\n    \nplot_cmat(y_test, y_pred)\n",
   "execution_count": null,
   "outputs": [
    {
     "name": "stderr",
     "text": "/shared-libs/python3.7/py/lib/python3.7/site-packages/sklearn/utils/deprecation.py:87: FutureWarning: Function plot_confusion_matrix is deprecated; This will be removed in v0.4.0. Please use scikitplot.metrics.plot_confusion_matrix instead.\n  warnings.warn(msg, category=FutureWarning)\n",
     "output_type": "stream"
    },
    {
     "data": {
      "text/plain": "<Figure size 432x288 with 2 Axes>",
      "image/png": "[encoded data removed]"
     },
     "metadata": {
      "needs_background": "light",
      "image/png": {
       "width": 312,
       "height": 278
      }
     },
     "output_type": "display_data"
    }
   ]
  },
  {
   "cell_type": "markdown",
   "source": "<a style='text-decoration:none;line-height:16px;display:flex;color:#5B5B62;padding:10px;justify-content:end;' href='https://deepnote.com?utm_source=created-in-deepnote-cell&projectId=3a2c2a1b-c190-4238-a7b0-93cabb99b4e1' target=\"_blank\">\n<img alt='Created in deepnote.com' style='display:inline;max-height:16px;margin:0px;margin-right:7.5px;' src='data:image/svg+xml;base64,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' > </img>\nCreated in <span style='font-weight:600;margin-left:4px;'>Deepnote</span></a>",
   "metadata": {
    "tags": [],
    "created_in_deepnote_cell": true,
    "deepnote_cell_type": "markdown"
   }
  }
 ],
 "nbformat": 4,
 "nbformat_minor": 4,
 "metadata": {
  "kernelspec": {
   "display_name": "Python 3",
   "language": "python",
   "name": "python3"
  },
  "language_info": {
   "codemirror_mode": {
    "name": "ipython",
    "version": 3
   },
   "file_extension": ".py",
   "mimetype": "text/x-python",
   "name": "python",
   "nbconvert_exporter": "python",
   "pygments_lexer": "ipython3",
   "version": "3.8.5"
  },
  "deepnote_notebook_id": "dee17a37-ea03-49f6-b004-288be23e38be",
  "deepnote": {},
  "deepnote_execution_queue": []
 }
}