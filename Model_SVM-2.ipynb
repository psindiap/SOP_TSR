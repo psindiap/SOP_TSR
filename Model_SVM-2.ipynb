{
 "cells": [
  {
   "cell_type": "code",
   "metadata": {
    "tags": [],
    "deepnote_to_be_reexecuted": false,
    "source_hash": "dab3f00c",
    "execution_start": 1650317293258,
    "execution_millis": 34702,
    "cell_id": "a1ed183e-ee1e-407a-950e-71d3af406fee",
    "owner_user_id": "90d8e9a7-4cf7-49f2-843d-0f73d1ab4387",
    "deepnote_cell_type": "code",
    "deepnote_cell_height": 1025
   },
   "source": "#!/usr/bin/env python3\n# -*- coding: utf-8 -*-\n\n\"\"\"\nFake news detection\nThe SVM model\n\"\"\"\n!pip install -r /work/requirements.txt\nfrom getEmbeddings import getEmbeddings\nimport numpy as np\nfrom sklearn.svm import SVC\nimport matplotlib.pyplot as plt\nimport scikitplot.plotters as skplt\nimport os\n\n\n\n\n",
   "outputs": [
    {
     "name": "stdout",
     "text": "Requirement already satisfied: pip in /root/venv/lib/python3.7/site-packages (from -r /work/requirements.txt (line 1)) (20.1.1)\nRequirement already satisfied: Embeddings==0.0.8 in /root/venv/lib/python3.7/site-packages (from -r /work/requirements.txt (line 2)) (0.0.8)\nRequirement already satisfied: np_utils in /root/venv/lib/python3.7/site-packages (from -r /work/requirements.txt (line 3)) (0.5.12.1)\nRequirement already satisfied: scikit-plot in /root/venv/lib/python3.7/site-packages (from -r /work/requirements.txt (line 4)) (0.3.7)\nRequirement already satisfied: gensim==3.8.3 in /root/venv/lib/python3.7/site-packages (from -r /work/requirements.txt (line 5)) (3.8.3)\nRequirement already satisfied: vecstack in /root/venv/lib/python3.7/site-packages (from -r /work/requirements.txt (line 6)) (0.4.0)\nRequirement already satisfied: numpy in /shared-libs/python3.7/py/lib/python3.7/site-packages (from Embeddings==0.0.8->-r /work/requirements.txt (line 2)) (1.21.5)\nRequirement already satisfied: requests in /shared-libs/python3.7/py/lib/python3.7/site-packages (from Embeddings==0.0.8->-r /work/requirements.txt (line 2)) (2.27.1)\nRequirement already satisfied: tqdm in /shared-libs/python3.7/py/lib/python3.7/site-packages (from Embeddings==0.0.8->-r /work/requirements.txt (line 2)) (4.63.0)\nRequirement already satisfied: future>=0.16 in /shared-libs/python3.7/py/lib/python3.7/site-packages (from np_utils->-r /work/requirements.txt (line 3)) (0.18.2)\nRequirement already satisfied: matplotlib>=1.4.0 in /shared-libs/python3.7/py/lib/python3.7/site-packages (from scikit-plot->-r /work/requirements.txt (line 4)) (3.5.1)\nRequirement already satisfied: scikit-learn>=0.18 in /shared-libs/python3.7/py/lib/python3.7/site-packages (from scikit-plot->-r /work/requirements.txt (line 4)) (1.0.2)\nRequirement already satisfied: scipy>=0.9 in /shared-libs/python3.7/py/lib/python3.7/site-packages (from scikit-plot->-r /work/requirements.txt (line 4)) (1.7.3)\nRequirement already satisfied: joblib>=0.10 in /shared-libs/python3.7/py/lib/python3.7/site-packages (from scikit-plot->-r /work/requirements.txt (line 4)) (1.1.0)\nRequirement already satisfied: six>=1.5.0 in /shared-libs/python3.7/py-core/lib/python3.7/site-packages (from gensim==3.8.3->-r /work/requirements.txt (line 5)) (1.16.0)\nRequirement already satisfied: smart-open>=1.8.1 in /shared-libs/python3.7/py/lib/python3.7/site-packages (from gensim==3.8.3->-r /work/requirements.txt (line 5)) (5.2.1)\nRequirement already satisfied: charset-normalizer~=2.0.0; python_version >= \"3\" in /shared-libs/python3.7/py-core/lib/python3.7/site-packages (from requests->Embeddings==0.0.8->-r /work/requirements.txt (line 2)) (2.0.12)\nRequirement already satisfied: idna<4,>=2.5; python_version >= \"3\" in /shared-libs/python3.7/py-core/lib/python3.7/site-packages (from requests->Embeddings==0.0.8->-r /work/requirements.txt (line 2)) (3.3)\nRequirement already satisfied: urllib3<1.27,>=1.21.1 in /shared-libs/python3.7/py/lib/python3.7/site-packages (from requests->Embeddings==0.0.8->-r /work/requirements.txt (line 2)) (1.26.9)\nRequirement already satisfied: certifi>=2017.4.17 in /shared-libs/python3.7/py/lib/python3.7/site-packages (from requests->Embeddings==0.0.8->-r /work/requirements.txt (line 2)) (2021.10.8)\nRequirement already satisfied: kiwisolver>=1.0.1 in /shared-libs/python3.7/py/lib/python3.7/site-packages (from matplotlib>=1.4.0->scikit-plot->-r /work/requirements.txt (line 4)) (1.4.0)\nRequirement already satisfied: cycler>=0.10 in /shared-libs/python3.7/py/lib/python3.7/site-packages (from matplotlib>=1.4.0->scikit-plot->-r /work/requirements.txt (line 4)) (0.11.0)\nRequirement already satisfied: pyparsing>=2.2.1 in /shared-libs/python3.7/py-core/lib/python3.7/site-packages (from matplotlib>=1.4.0->scikit-plot->-r /work/requirements.txt (line 4)) (3.0.7)\nRequirement already satisfied: packaging>=20.0 in /shared-libs/python3.7/py-core/lib/python3.7/site-packages (from matplotlib>=1.4.0->scikit-plot->-r /work/requirements.txt (line 4)) (21.3)\nRequirement already satisfied: fonttools>=4.22.0 in /shared-libs/python3.7/py/lib/python3.7/site-packages (from matplotlib>=1.4.0->scikit-plot->-r /work/requirements.txt (line 4)) (4.31.2)\nRequirement already satisfied: python-dateutil>=2.7 in /shared-libs/python3.7/py-core/lib/python3.7/site-packages (from matplotlib>=1.4.0->scikit-plot->-r /work/requirements.txt (line 4)) (2.8.2)\nRequirement already satisfied: pillow>=6.2.0 in /shared-libs/python3.7/py/lib/python3.7/site-packages (from matplotlib>=1.4.0->scikit-plot->-r /work/requirements.txt (line 4)) (9.0.1)\nRequirement already satisfied: threadpoolctl>=2.0.0 in /shared-libs/python3.7/py/lib/python3.7/site-packages (from scikit-learn>=0.18->scikit-plot->-r /work/requirements.txt (line 4)) (3.1.0)\nRequirement already satisfied: typing-extensions; python_version < \"3.8\" in /shared-libs/python3.7/py-core/lib/python3.7/site-packages (from kiwisolver>=1.0.1->matplotlib>=1.4.0->scikit-plot->-r /work/requirements.txt (line 4)) (4.1.1)\n\u001b[33mWARNING: You are using pip version 20.1.1; however, version 22.0.4 is available.\nYou should consider upgrading via the '/root/venv/bin/python -m pip install --upgrade pip' command.\u001b[0m\n[nltk_data] Downloading package stopwords to /root/nltk_data...\n[nltk_data]   Package stopwords is already up-to-date!\n",
     "output_type": "stream"
    }
   ],
   "execution_count": null
  },
  {
   "cell_type": "code",
   "metadata": {
    "tags": [],
    "deepnote_to_be_reexecuted": false,
    "source_hash": "82248677",
    "execution_start": 1650317327998,
    "execution_millis": 76618,
    "cell_id": "00001-e941ad4d-a7dc-4962-a009-1cf0bd96d305",
    "deepnote_cell_type": "code",
    "deepnote_cell_height": 441
   },
   "source": "# Read the data\nif not os.path.isfile('./xxtr.npy') or \\\n    not os.path.isfile('./xxte.npy') or \\\n    not os.path.isfile('./xytr.npy') or \\\n    not os.path.isfile('./xyte.npy'):\n    xtr,xte,ytr,yte = getEmbeddings(\"datasets/news_articles.csv\")\n    np.save('./xxtr', xtr)\n    np.save('./xxte', xte)\n    np.save('./xytr', ytr)\n    np.save('./xyte', yte)\nxtr,xte,ytr,yte = getEmbeddings(\"datasets/news_articles.csv\")\nnp.save('./xxtr', xtr)\nnp.save('./xxte', xte)\nnp.save('./xytr', ytr)\nnp.save('./xyte', yte)\nxtr = np.load('./xxtr.npy')\nxte = np.load('./xxte.npy')\nytr = np.load('./xytr.npy')\nyte = np.load('./xyte.npy')\n\n",
   "outputs": [],
   "execution_count": null
  },
  {
   "cell_type": "code",
   "metadata": {
    "tags": [],
    "deepnote_to_be_reexecuted": false,
    "source_hash": "76ed4372",
    "execution_start": 1650317404659,
    "execution_millis": 496,
    "cell_id": "00002-ae836e47-6cbc-4b3b-b7b6-fde6a4c3c63b",
    "deepnote_cell_type": "code",
    "deepnote_cell_height": 459
   },
   "source": "# Use the built-in SVM for classification\nclf = SVC()\nclf.fit(xtr, ytr)\ny_pred = clf.predict(xte)\nm = yte.shape[0]\ntp=0\ntn=0\nfp=0\nfn=0\nfor i in range(m):\n    if (y_pred[i]==0 and (yte[i]!=y_pred[i])):\n        fn+=1\n    elif (y_pred[i]==1 and (yte[i]!=y_pred[i])):\n        fp+=1\n    elif (y_pred[i]==0 and (yte[i]==y_pred[i])):\n        tn+=1\n    elif (y_pred[i]==1 and (yte[i]==y_pred[i])):\n        tp+=1\n\n\n\n",
   "outputs": [],
   "execution_count": null
  },
  {
   "cell_type": "code",
   "metadata": {
    "tags": [],
    "deepnote_to_be_reexecuted": false,
    "source_hash": "13a84e59",
    "execution_start": 1650317405166,
    "execution_millis": 6,
    "cell_id": "00003-0ef31c36-127d-4dd0-b074-1bafd811ebce",
    "deepnote_cell_type": "code",
    "deepnote_cell_height": 354
   },
   "source": "precision=(tp)/(tp+fp)*100\nrecall=(tp)/(tp+fn)*100\nprint(\"Accuracy = \" + format((tp+tn)/(tp+tn+fp+fn)*100, '.2f') + \"%\")   \nprint(\"F1-Score = \" + format(((2*precision*recall)/(precision+recall)), '.2f') + \"%\")   \nprint(\"Recall = \" + format((tp)/(tp+fn)*100, '.2f') + \"%\")   \nprint(\"Precision = \" + format((tp)/(tp+fp)*100, '.2f') + \"%\")   \nprint(\"Specificity = \" + format((tn)/(tn+fp)*100, '.2f') + \"%\")   \n\n\n",
   "outputs": [
    {
     "name": "stdout",
     "text": "Accuracy = 85.85%\nF1-Score = 92.39%\nRecall = 98.60%\nPrecision = 86.91%\nSpecificity = 0.00%\n",
     "output_type": "stream"
    }
   ],
   "execution_count": null
  },
  {
   "cell_type": "code",
   "metadata": {
    "tags": [],
    "deepnote_to_be_reexecuted": false,
    "source_hash": "71d56459",
    "execution_start": 1650317405185,
    "execution_millis": 721,
    "cell_id": "00004-89876e9d-9290-401d-8472-40bd33c5ec16",
    "deepnote_cell_type": "code",
    "deepnote_cell_height": 573.796875,
    "deepnote_output_heights": [
     null,
     280
    ]
   },
   "source": "# Draw the confusion matrix\n\ndef plot_cmat(yte, ypred):\n    '''Plotting confusion matrix'''\n    skplt.plot_confusion_matrix(yte, ypred)\n    plt.grid(False)\n    plt.show()\nplot_cmat(yte, y_pred)",
   "outputs": [
    {
     "name": "stderr",
     "text": "/shared-libs/python3.7/py/lib/python3.7/site-packages/sklearn/utils/deprecation.py:87: FutureWarning: Function plot_confusion_matrix is deprecated; This will be removed in v0.4.0. Please use scikitplot.metrics.plot_confusion_matrix instead.\n  warnings.warn(msg, category=FutureWarning)\n",
     "output_type": "stream"
    },
    {
     "data": {
      "text/plain": "<Figure size 432x288 with 2 Axes>",
      "image/png": "[encoded data removed]"
     },
     "metadata": {
      "needs_background": "light",
      "image/png": {
       "width": 322,
       "height": 278
      }
     },
     "output_type": "display_data"
    }
   ],
   "execution_count": null
  },
  {
   "cell_type": "markdown",
   "source": "<a style='text-decoration:none;line-height:16px;display:flex;color:#5B5B62;padding:10px;justify-content:end;' href='https://deepnote.com?utm_source=created-in-deepnote-cell&projectId=3a2c2a1b-c190-4238-a7b0-93cabb99b4e1' target=\"_blank\">\n<img alt='Created in deepnote.com' style='display:inline;max-height:16px;margin:0px;margin-right:7.5px;' src='data:image/svg+xml;base64,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' > </img>\nCreated in <span style='font-weight:600;margin-left:4px;'>Deepnote</span></a>",
   "metadata": {
    "tags": [],
    "created_in_deepnote_cell": true,
    "deepnote_cell_type": "markdown"
   }
  }
 ],
 "nbformat": 4,
 "nbformat_minor": 2,
 "metadata": {
  "orig_nbformat": 2,
  "deepnote": {
   "is_reactive": false
  },
  "deepnote_notebook_id": "ca9ce0b1-0745-4ce8-882d-d929086bf8e8",
  "deepnote_execution_queue": []
 }
}