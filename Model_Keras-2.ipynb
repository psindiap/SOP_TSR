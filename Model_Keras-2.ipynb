{
 "cells": [
  {
   "cell_type": "code",
   "metadata": {
    "tags": [],
    "deepnote_to_be_reexecuted": false,
    "source_hash": "7176ae63",
    "execution_start": 1650348772879,
    "execution_millis": 2133,
    "cell_id": "b4266432-0726-4f94-9d45-56ff75840cdb",
    "deepnote_cell_type": "code",
    "deepnote_cell_height": 168
   },
   "source": "import nltk\nnltk.download('stopwords')\nimport pickle",
   "outputs": [
    {
     "name": "stderr",
     "text": "[nltk_data] Downloading package stopwords to /root/nltk_data...\n[nltk_data]   Package stopwords is already up-to-date!\n",
     "output_type": "stream"
    }
   ],
   "execution_count": null
  },
  {
   "cell_type": "code",
   "metadata": {
    "tags": [],
    "deepnote_to_be_reexecuted": false,
    "source_hash": "f660047",
    "execution_start": 1650348775005,
    "execution_millis": 8396,
    "cell_id": "00001-6b4760f9-ee93-4b0d-b924-bfff705bd5c5",
    "deepnote_cell_type": "code",
    "deepnote_cell_height": 297
   },
   "source": "pip install gensim==3.8.3",
   "outputs": [
    {
     "name": "stdout",
     "text": "Requirement already satisfied: gensim==3.8.3 in /root/venv/lib/python3.7/site-packages (3.8.3)\nRequirement already satisfied: numpy>=1.11.3 in /shared-libs/python3.7/py/lib/python3.7/site-packages (from gensim==3.8.3) (1.21.5)\nRequirement already satisfied: smart-open>=1.8.1 in /shared-libs/python3.7/py/lib/python3.7/site-packages (from gensim==3.8.3) (5.2.1)\nRequirement already satisfied: scipy>=0.18.1 in /shared-libs/python3.7/py/lib/python3.7/site-packages (from gensim==3.8.3) (1.7.3)\nRequirement already satisfied: six>=1.5.0 in /shared-libs/python3.7/py-core/lib/python3.7/site-packages (from gensim==3.8.3) (1.16.0)\n\u001b[33mWARNING: You are using pip version 20.1.1; however, version 22.0.4 is available.\nYou should consider upgrading via the '/usr/local/bin/python -m pip install --upgrade pip' command.\u001b[0m\nNote: you may need to restart the kernel to use updated packages.\n",
     "output_type": "stream"
    }
   ],
   "execution_count": null
  },
  {
   "cell_type": "code",
   "metadata": {
    "tags": [],
    "deepnote_to_be_reexecuted": false,
    "source_hash": "d2e0150d",
    "execution_start": 1650348783436,
    "execution_millis": 7878,
    "cell_id": "00002-14c7deaa-4f72-448a-b9d5-b1c33cad4bda",
    "deepnote_cell_type": "code",
    "deepnote_cell_height": 237
   },
   "source": "!pip install np_utils==0.5.12.1",
   "outputs": [
    {
     "name": "stdout",
     "text": "Requirement already satisfied: np_utils==0.5.12.1 in /root/venv/lib/python3.7/site-packages (0.5.12.1)\nRequirement already satisfied: future>=0.16 in /shared-libs/python3.7/py/lib/python3.7/site-packages (from np_utils==0.5.12.1) (0.18.2)\nRequirement already satisfied: numpy>=1.0 in /shared-libs/python3.7/py/lib/python3.7/site-packages (from np_utils==0.5.12.1) (1.21.5)\n\u001b[33mWARNING: You are using pip version 20.1.1; however, version 22.0.4 is available.\nYou should consider upgrading via the '/root/venv/bin/python -m pip install --upgrade pip' command.\u001b[0m\n",
     "output_type": "stream"
    }
   ],
   "execution_count": null
  },
  {
   "cell_type": "code",
   "metadata": {
    "tags": [],
    "deepnote_to_be_reexecuted": false,
    "source_hash": "c3ec9a55",
    "execution_start": 1650348791334,
    "execution_millis": 7701,
    "cell_id": "00003-75ae1c52-7d95-436e-84d5-630cd574030b",
    "deepnote_cell_type": "code",
    "deepnote_cell_height": 521.796875
   },
   "source": "pip install scikit-plot",
   "outputs": [
    {
     "name": "stdout",
     "text": "Requirement already satisfied: scikit-plot in /root/venv/lib/python3.7/site-packages (0.3.7)\nRequirement already satisfied: scikit-learn>=0.18 in /shared-libs/python3.7/py/lib/python3.7/site-packages (from scikit-plot) (1.0.2)\nRequirement already satisfied: joblib>=0.10 in /shared-libs/python3.7/py/lib/python3.7/site-packages (from scikit-plot) (1.1.0)\nRequirement already satisfied: scipy>=0.9 in /shared-libs/python3.7/py/lib/python3.7/site-packages (from scikit-plot) (1.7.3)\nRequirement already satisfied: matplotlib>=1.4.0 in /shared-libs/python3.7/py/lib/python3.7/site-packages (from scikit-plot) (3.5.1)\nRequirement already satisfied: numpy>=1.14.6 in /shared-libs/python3.7/py/lib/python3.7/site-packages (from scikit-learn>=0.18->scikit-plot) (1.21.5)\nRequirement already satisfied: threadpoolctl>=2.0.0 in /shared-libs/python3.7/py/lib/python3.7/site-packages (from scikit-learn>=0.18->scikit-plot) (3.1.0)\nRequirement already satisfied: pyparsing>=2.2.1 in /shared-libs/python3.7/py-core/lib/python3.7/site-packages (from matplotlib>=1.4.0->scikit-plot) (3.0.7)\nRequirement already satisfied: fonttools>=4.22.0 in /shared-libs/python3.7/py/lib/python3.7/site-packages (from matplotlib>=1.4.0->scikit-plot) (4.31.2)\nRequirement already satisfied: python-dateutil>=2.7 in /shared-libs/python3.7/py-core/lib/python3.7/site-packages (from matplotlib>=1.4.0->scikit-plot) (2.8.2)\nRequirement already satisfied: pillow>=6.2.0 in /shared-libs/python3.7/py/lib/python3.7/site-packages (from matplotlib>=1.4.0->scikit-plot) (9.0.1)\nRequirement already satisfied: kiwisolver>=1.0.1 in /shared-libs/python3.7/py/lib/python3.7/site-packages (from matplotlib>=1.4.0->scikit-plot) (1.4.0)\nRequirement already satisfied: cycler>=0.10 in /shared-libs/python3.7/py/lib/python3.7/site-packages (from matplotlib>=1.4.0->scikit-plot) (0.11.0)\nRequirement already satisfied: packaging>=20.0 in /shared-libs/python3.7/py-core/lib/python3.7/site-packages (from matplotlib>=1.4.0->scikit-plot) (21.3)\nRequirement already satisfied: six>=1.5 in /shared-libs/python3.7/py-core/lib/python3.7/site-packages (from python-dateutil>=2.7->matplotlib>=1.4.0->scikit-plot) (1.16.0)\nRequirement already satisfied: typing-extensions; python_version < \"3.8\" in /shared-libs/python3.7/py-core/lib/python3.7/site-packages (from kiwisolver>=1.0.1->matplotlib>=1.4.0->scikit-plot) (4.1.1)\n\u001b[33mWARNING: You are using pip version 20.1.1; however, version 22.0.4 is available.\nYou should consider upgrading via the '/usr/local/bin/python -m pip install --upgrade pip' command.\u001b[0m\nNote: you may need to restart the kernel to use updated packages.\n",
     "output_type": "stream"
    }
   ],
   "execution_count": null
  },
  {
   "cell_type": "code",
   "metadata": {
    "deepnote_to_be_reexecuted": false,
    "source_hash": "fbe30a2c",
    "execution_start": 1650348799054,
    "execution_millis": 16940,
    "cell_id": "00004-a25b75f4-1b9c-4d03-a840-4c66b8114ce4",
    "deepnote_cell_type": "code",
    "deepnote_cell_height": 546
   },
   "source": "#!/usr/bin/env python3\n# -*- coding: utf-8 -*-\n\n\"\"\"\nFake news detection\nThe Keras version of neural network\n\"\"\"\n\nfrom  getEmbeddings import getEmbeddings\nimport matplotlib.pyplot as plt\nimport numpy as np\nfrom tensorflow import keras \nfrom tensorflow.keras import backend as K\nimport np_utils\nfrom tensorflow.keras.models import Sequential\nfrom tensorflow.keras.layers import Dense, Dropout, LSTM, Embedding, Input, RepeatVector\nfrom tensorflow.keras.optimizers import SGD\nfrom sklearn.preprocessing import LabelEncoder\nfrom sklearn.model_selection import train_test_split\nimport scikitplot.plotters as skplt\nimport os\n\n\n",
   "outputs": [
    {
     "name": "stderr",
     "text": "[nltk_data] Downloading package stopwords to /root/nltk_data...\n[nltk_data]   Package stopwords is already up-to-date!\n",
     "output_type": "stream"
    }
   ],
   "execution_count": null
  },
  {
   "cell_type": "code",
   "metadata": {
    "deepnote_to_be_reexecuted": false,
    "source_hash": "bdca0c8f",
    "execution_start": 1650348815995,
    "execution_millis": 127752,
    "cell_id": "00005-7a60796e-9ee1-4cd4-b068-de3fc9a66509",
    "deepnote_cell_type": "code",
    "deepnote_cell_height": 495
   },
   "source": "\n\n# Read the data\nif not os.path.isfile('./xxtr.npy') or \\\n    not os.path.isfile('./xxte.npy') or \\\n    not os.path.isfile('./xytr.npy') or \\\n    not os.path.isfile('./xyte.npy'):\n    xtr,xte,ytr,yte = getEmbeddings(\"datasets/news_articles.csv\")\n    np.save('./xxtr', xtr)\n    np.save('./xxte', xte)\n    np.save('./xytr', ytr)\n    np.save('./xyte', yte)\nxtr,xte,ytr,yte = getEmbeddings(\"datasets/news_articles.csv\")\nnp.save('./xxtr', xtr)\nnp.save('./xxte', xte)\nnp.save('./xytr', ytr)\nnp.save('./xyte', yte)\nxtr = np.load('./xxtr.npy')\nxte = np.load('./xxte.npy')\nytr = np.load('./xytr.npy')\nyte = np.load('./xyte.npy')\n\n\n",
   "outputs": [],
   "execution_count": null
  },
  {
   "cell_type": "code",
   "metadata": {
    "deepnote_to_be_reexecuted": false,
    "source_hash": "d6f62097",
    "execution_start": 1650348943748,
    "execution_millis": 0,
    "cell_id": "00006-edaf4b87-368c-4b7c-b930-a170c45b76e5",
    "deepnote_cell_type": "code",
    "deepnote_cell_height": 459
   },
   "source": "def baseline_model():\n    '''Neural network with 3 hidden layers'''\n    model = Sequential()\n    model.add(Dense(256, input_dim=300, activation='relu', kernel_initializer='normal'))\n    model.add(Dropout(0.3))\n    model.add(Dense(256, activation='relu', kernel_initializer='normal'))\n    model.add(Dropout(0.5))\n    model.add(Dense(256, activation='relu', kernel_initializer='normal'))\n    model.add(Dropout(0.5))\n    model.add(Dense(256, activation='relu', kernel_initializer='normal'))\n    model.add(Dropout(0.5))\n    model.add(Dense(80, activation='relu', kernel_initializer='normal'))\n    model.add(Dense(1, activation=\"sigmoid\", kernel_initializer='normal'))\n\n    # gradient descent\n    sgd = SGD(lr=0.04, decay=1e-6, momentum=0.9, nesterov=True)\n    \n    # configure the learning process of the model\n    model.compile(loss='binary_crossentropy', optimizer=sgd, metrics=['accuracy'])\n    return model\n\n",
   "outputs": [],
   "execution_count": null
  },
  {
   "cell_type": "code",
   "metadata": {
    "tags": [],
    "deepnote_to_be_reexecuted": false,
    "source_hash": "b623e53d",
    "execution_start": 1650348943749,
    "execution_millis": 16,
    "cell_id": "00007-8dda7829-7e1a-4d89-be44-321e68f0fa1a",
    "deepnote_cell_type": "code",
    "deepnote_cell_height": 81
   },
   "source": "",
   "outputs": [],
   "execution_count": null
  },
  {
   "cell_type": "code",
   "metadata": {
    "tags": [],
    "deepnote_to_be_reexecuted": false,
    "source_hash": "6c19982e",
    "execution_start": 1650348943765,
    "execution_millis": 607,
    "cell_id": "00008-cb7d578f-dbc6-437b-b9a9-f483fc784b79",
    "deepnote_cell_type": "code",
    "deepnote_cell_height": 737
   },
   "source": "model = baseline_model()\nmodel.summary()\nx_train, x_test, y_train, y_test = train_test_split(xtr, ytr, test_size=0.2, random_state=42)",
   "outputs": [
    {
     "name": "stdout",
     "text": "Model: \"sequential\"\n_________________________________________________________________\n Layer (type)                Output Shape              Param #   \n=================================================================\n dense (Dense)               (None, 256)               77056     \n                                                                 \n dropout (Dropout)           (None, 256)               0         \n                                                                 \n dense_1 (Dense)             (None, 256)               65792     \n                                                                 \n dropout_1 (Dropout)         (None, 256)               0         \n                                                                 \n dense_2 (Dense)             (None, 256)               65792     \n                                                                 \n dropout_2 (Dropout)         (None, 256)               0         \n                                                                 \n dense_3 (Dense)             (None, 256)               65792     \n                                                                 \n dropout_3 (Dropout)         (None, 256)               0         \n                                                                 \n dense_4 (Dense)             (None, 80)                20560     \n                                                                 \n dense_5 (Dense)             (None, 1)                 81        \n                                                                 \n=================================================================\nTotal params: 295,073\nTrainable params: 295,073\nNon-trainable params: 0\n_________________________________________________________________\n/shared-libs/python3.7/py/lib/python3.7/site-packages/keras/optimizer_v2/gradient_descent.py:102: UserWarning: The `lr` argument is deprecated, use `learning_rate` instead.\n  super(SGD, self).__init__(name, **kwargs)\n",
     "output_type": "stream"
    }
   ],
   "execution_count": null
  },
  {
   "cell_type": "code",
   "metadata": {
    "tags": [],
    "deepnote_to_be_reexecuted": false,
    "source_hash": "f0ea23ea",
    "execution_start": 1650348944530,
    "execution_millis": 524999,
    "cell_id": "00009-e6e690c9-7951-49d9-b4a8-99ddee729889",
    "deepnote_cell_type": "code",
    "deepnote_cell_height": 130
   },
   "source": "print(y_train)\n#print(encoded_y)",
   "outputs": [
    {
     "name": "stdout",
     "text": "[1. 1. 1. ... 1. 0. 0.]\n",
     "output_type": "stream"
    }
   ],
   "execution_count": null
  },
  {
   "cell_type": "code",
   "metadata": {
    "tags": [],
    "deepnote_to_be_reexecuted": false,
    "source_hash": "94ff858f",
    "execution_start": 1650348944579,
    "execution_millis": 524994,
    "cell_id": "00010-ab8862e9-97da-4d2d-aa22-96a343be35b4",
    "deepnote_cell_type": "code",
    "deepnote_cell_height": 390
   },
   "source": "print(x_train.shape)\nprint(x_train)",
   "outputs": [
    {
     "name": "stdout",
     "text": "(1312, 300)\n[[ 0.06777865 -0.01684915  0.01260972 ... -0.04173419 -0.12791754\n   0.13687313]\n [ 0.30121589  0.1546365   0.10473321 ... -0.39380816 -0.19408989\n   0.39991799]\n [ 0.58953202  0.49579448  0.36997619 ...  0.11848239 -0.20041065\n   0.2476953 ]\n ...\n [ 0.02508753 -0.01531898  0.03086086 ... -0.00292248 -0.03124652\n   0.04158436]\n [ 0.40435535  0.24014887  0.40541121 ...  0.28782052 -0.36394662\n   0.30196369]\n [ 0.29211628  0.15090796 -0.0729457  ... -0.17578483 -0.08127735\n   0.42158714]]\n",
     "output_type": "stream"
    }
   ],
   "execution_count": null
  },
  {
   "cell_type": "code",
   "source": "print(y_train.shape)",
   "metadata": {
    "cell_id": "7bb032b2af634f7491ab107107f333c2",
    "tags": [],
    "deepnote_to_be_reexecuted": false,
    "source_hash": "2e251feb",
    "execution_start": 1650348944579,
    "execution_millis": 298524,
    "deepnote_cell_type": "code",
    "deepnote_cell_height": 112
   },
   "outputs": [
    {
     "name": "stdout",
     "text": "(1312,)\n",
     "output_type": "stream"
    }
   ],
   "execution_count": null
  },
  {
   "cell_type": "code",
   "metadata": {
    "deepnote_to_be_reexecuted": false,
    "source_hash": "24cf5b95",
    "execution_start": 1650349190289,
    "execution_millis": 43120,
    "cell_id": "00011-ca2237e6-07e2-488b-9e8f-73c97a517b02",
    "owner_user_id": "90d8e9a7-4cf7-49f2-843d-0f73d1ab4387",
    "deepnote_cell_type": "code",
    "deepnote_cell_height": 1079
   },
   "source": "# Train the model\nfrom tensorflow.keras.utils import to_categorical\n\nmodel = baseline_model()\nmodel.summary()\nx_train, x_test, y_train, y_test = train_test_split(xtr, ytr, test_size=0.1, random_state=42)\nlabel_encoder = LabelEncoder()\nlabel_encoder.fit(y_train)\nencoded_y = to_categorical((label_encoder.transform(y_train)))\n\nlabel_encoder.fit(y_test)\nencoded_y_test = to_categorical((label_encoder.transform(y_test)))\nestimator = model.fit(x_train, y_train, epochs=8, batch_size=128)\nprint(\"Model Trained!\")\nscore = model.evaluate(x_test, y_test)\nprint(\"\")\nprint(\"Accuracy = \" + format(score[1]*100, '.2f') + \"%\")   \n\n\n\n \n",
   "outputs": [
    {
     "name": "stdout",
     "text": "Model: \"sequential_2\"\n_________________________________________________________________\n Layer (type)                Output Shape              Param #   \n=================================================================\n dense_12 (Dense)            (None, 256)               77056     \n                                                                 \n dropout_8 (Dropout)         (None, 256)               0         \n                                                                 \n dense_13 (Dense)            (None, 256)               65792     \n                                                                 \n dropout_9 (Dropout)         (None, 256)               0         \n                                                                 \n dense_14 (Dense)            (None, 256)               65792     \n                                                                 \n dropout_10 (Dropout)        (None, 256)               0         \n                                                                 \n dense_15 (Dense)            (None, 256)               65792     \n                                                                 \n dropout_11 (Dropout)        (None, 256)               0         \n                                                                 \n dense_16 (Dense)            (None, 80)                20560     \n                                                                 \n dense_17 (Dense)            (None, 1)                 81        \n                                                                 \n=================================================================\nTotal params: 295,073\nTrainable params: 295,073\nNon-trainable params: 0\n_________________________________________________________________\nEpoch 1/20\n/shared-libs/python3.7/py/lib/python3.7/site-packages/keras/optimizer_v2/gradient_descent.py:102: UserWarning: The `lr` argument is deprecated, use `learning_rate` instead.\n  super(SGD, self).__init__(name, **kwargs)\n185/185 [==============================] - 2s 6ms/step - loss: 0.6136 - accuracy: 0.6904\nEpoch 2/20\n185/185 [==============================] - 1s 6ms/step - loss: 0.6081 - accuracy: 0.6870\nEpoch 3/20\n185/185 [==============================] - 1s 7ms/step - loss: 0.6100 - accuracy: 0.6924\nEpoch 4/20\n185/185 [==============================] - 1s 7ms/step - loss: 0.5834 - accuracy: 0.6904\nEpoch 5/20\n185/185 [==============================] - 1s 6ms/step - loss: 0.5848 - accuracy: 0.6870\nEpoch 6/20\n185/185 [==============================] - 1s 7ms/step - loss: 0.5975 - accuracy: 0.6877\nEpoch 7/20\n185/185 [==============================] - 1s 7ms/step - loss: 0.5793 - accuracy: 0.6863\nEpoch 8/20\n185/185 [==============================] - 1s 7ms/step - loss: 0.5733 - accuracy: 0.6944\nEpoch 9/20\n185/185 [==============================] - 1s 7ms/step - loss: 0.5733 - accuracy: 0.6992\nEpoch 10/20\n185/185 [==============================] - 1s 7ms/step - loss: 0.5775 - accuracy: 0.6938\nEpoch 11/20\n185/185 [==============================] - 1s 7ms/step - loss: 0.5735 - accuracy: 0.6999\nEpoch 12/20\n185/185 [==============================] - 1s 7ms/step - loss: 0.5754 - accuracy: 0.6924\nEpoch 13/20\n185/185 [==============================] - 1s 7ms/step - loss: 0.5735 - accuracy: 0.6985\nEpoch 14/20\n185/185 [==============================] - 1s 7ms/step - loss: 0.5693 - accuracy: 0.6890\nEpoch 15/20\n185/185 [==============================] - 1s 6ms/step - loss: 0.5710 - accuracy: 0.6917\nEpoch 16/20\n185/185 [==============================] - 1s 7ms/step - loss: 0.5557 - accuracy: 0.6992\nEpoch 17/20\n185/185 [==============================] - 1s 7ms/step - loss: 0.5528 - accuracy: 0.6978\nEpoch 18/20\n185/185 [==============================] - 1s 6ms/step - loss: 0.5717 - accuracy: 0.6931\nEpoch 19/20\n185/185 [==============================] - 1s 6ms/step - loss: 0.5688 - accuracy: 0.6890\nEpoch 20/20\n185/185 [==============================] - 1s 7ms/step - loss: 0.5730 - accuracy: 0.6938\nModel Trained!\n6/6 [==============================] - 0s 3ms/step - loss: 0.5130 - accuracy: 0.7439\n\nAccuracy = 74.39%\n",
     "output_type": "stream"
    }
   ],
   "execution_count": null
  },
  {
   "cell_type": "code",
   "metadata": {
    "tags": [],
    "deepnote_to_be_reexecuted": false,
    "source_hash": "cd1878a9",
    "execution_start": 1650348974446,
    "execution_millis": 705,
    "cell_id": "00012-663ad1a5-3737-479d-8f99-859b0bd71e40",
    "deepnote_cell_type": "code",
    "deepnote_cell_height": 99
   },
   "source": "y_pred=model.predict(x_test)\n# y_pred=np.argmax(predict_prob,axis=1)",
   "outputs": [],
   "execution_count": null
  },
  {
   "cell_type": "code",
   "source": "print(y_pred)",
   "metadata": {
    "cell_id": "73e731663bee448b92d5943f02971215",
    "tags": [],
    "deepnote_to_be_reexecuted": false,
    "source_hash": "27a0c00a",
    "execution_start": 1650348975151,
    "execution_millis": 213,
    "deepnote_cell_type": "code",
    "deepnote_cell_height": 701
   },
   "outputs": [
    {
     "name": "stdout",
     "text": "[[0.92477596]\n [0.7094275 ]\n [0.92430925]\n [0.86902136]\n [0.613286  ]\n [0.61098695]\n [0.61110926]\n [0.6110562 ]\n [0.6110562 ]\n [0.6110562 ]\n [0.6113554 ]\n [0.79033315]\n [0.6049264 ]\n [0.6110562 ]\n [0.6110562 ]\n [0.6110562 ]\n [0.60951495]\n [0.6110562 ]\n [0.6058371 ]\n [0.6110562 ]\n [0.6110562 ]\n [0.9090795 ]\n [0.6114763 ]\n [0.6083254 ]\n [0.81026214]\n [0.6111219 ]\n [0.6094513 ]\n [0.6108413 ]\n [0.6110562 ]\n [0.7598288 ]\n [0.6110562 ]\n [0.6110562 ]\n [0.67613125]\n [0.6079196 ]\n [0.6110562 ]\n [0.6101822 ]\n [0.6110562 ]\n [0.611802  ]\n [0.6110562 ]\n [0.9909413 ]\n [0.6110562 ]\n [0.6110562 ]\n [0.6101294 ]\n [0.6285989 ]\n [0.61809415]\n [0.6110562 ]\n [0.6110562 ]\n [0.6110562 ]\n [0.6432877 ]\n [0.6110562 ]\n [0.6110562 ]\n [0.6282417 ]\n [0.61175126]\n [0.6110562 ]\n [0.8575626 ]\n [0.6943524 ]\n [0.61098063]\n [0.6110562 ]\n [0.6110562 ]\n [0.88302076]\n [0.61838675]\n [0.82655305]\n [0.6110562 ]\n [0.6549634 ]\n [0.6110562 ]\n [0.6109923 ]\n [0.6110562 ]\n [0.6110562 ]\n [0.61248976]\n [0.61570233]\n [0.61147654]\n [0.73511934]\n [0.6113391 ]\n [0.7006646 ]\n [0.61195207]\n [0.6110562 ]\n [0.6081174 ]\n [0.91586626]\n [0.6110562 ]\n [0.6110562 ]\n [0.7425859 ]\n [0.6110562 ]\n [0.6704662 ]\n [0.6087149 ]\n [0.6110562 ]\n [0.6110306 ]\n [0.6522727 ]\n [0.6110562 ]\n [0.6075697 ]\n [0.6110562 ]\n [0.6110562 ]\n [0.886051  ]\n [0.6179335 ]\n [0.6110562 ]\n [0.6852833 ]\n [0.61046743]\n [0.6110562 ]\n [0.97701454]\n [0.6110562 ]\n [0.61154944]\n [0.7332361 ]\n [0.7618648 ]\n [0.60901386]\n [0.61106074]\n [0.9778119 ]\n [0.60739607]\n [0.6032703 ]\n [0.67403764]\n [0.84978926]\n [0.61130774]\n [0.6110562 ]\n [0.61238635]\n [0.6110562 ]\n [0.6110562 ]\n [0.6110562 ]\n [0.6110562 ]\n [0.6110562 ]\n [0.96475565]\n [0.6110562 ]\n [0.6110562 ]\n [0.9993956 ]\n [0.61290544]\n [0.6110562 ]\n [0.6083869 ]\n [0.6122856 ]\n [0.70650744]\n [0.6107906 ]\n [0.6110562 ]\n [0.6110562 ]\n [0.6127949 ]\n [0.6110562 ]\n [0.6110562 ]\n [0.6110562 ]\n [0.608606  ]\n [0.740558  ]\n [0.6110562 ]\n [0.61188614]\n [0.6110562 ]\n [0.6110562 ]\n [0.6130401 ]\n [0.6110562 ]\n [0.7278989 ]\n [0.6110562 ]\n [0.6094888 ]\n [0.96318805]\n [0.63771904]\n [0.9556956 ]\n [0.86080587]\n [0.62359005]\n [0.644254  ]\n [0.6161932 ]\n [0.7242861 ]\n [0.61379474]\n [0.6110562 ]\n [0.6229442 ]\n [0.6153244 ]\n [0.99183244]\n [0.9260307 ]\n [0.6110562 ]\n [0.6768613 ]\n [0.69434786]\n [0.8465235 ]\n [0.6110562 ]\n [0.7859504 ]\n [0.60459155]\n [0.6110562 ]\n [0.6110562 ]\n [0.6422045 ]\n [0.63494396]\n [0.6110562 ]\n [0.6110562 ]\n [0.6074632 ]\n [0.6110562 ]\n [0.68575764]\n [0.60758096]\n [0.6110562 ]\n [0.6786439 ]\n [0.60958177]\n [0.9104303 ]\n [0.61159   ]\n [0.826828  ]\n [0.7112503 ]\n [0.8196626 ]\n [0.6110562 ]\n [0.6110562 ]\n [0.609385  ]\n [0.6110562 ]\n [0.6110562 ]\n [0.6103025 ]\n [0.6110562 ]\n [0.9999492 ]\n [0.6110562 ]\n [0.6110562 ]\n [0.6110562 ]\n [0.61004704]\n [0.6110562 ]\n [0.6110562 ]\n [0.6110562 ]\n [0.6110562 ]\n [0.6110562 ]\n [0.61058474]\n [0.6110562 ]\n [0.6110562 ]\n [0.6218526 ]\n [0.6079944 ]\n [0.6110562 ]\n [0.6080118 ]\n [0.9103848 ]\n [0.7658876 ]\n [0.66060036]\n [0.6110562 ]\n [0.60775286]\n [0.61154324]\n [0.6110562 ]\n [0.77885437]\n [0.6110562 ]\n [0.6110562 ]\n [0.97839785]\n [0.7301884 ]\n [0.60912174]\n [0.9939274 ]\n [0.9008899 ]\n [0.6110562 ]\n [0.6110562 ]\n [0.6110562 ]\n [0.65105647]\n [0.925975  ]\n [0.7030304 ]\n [0.6099113 ]\n [0.61049104]\n [0.6114109 ]\n [0.6110562 ]\n [0.724236  ]\n [0.8862586 ]\n [0.7173378 ]\n [0.6145945 ]\n [0.6857275 ]\n [0.6110562 ]\n [0.96648836]\n [0.6110562 ]\n [0.6110562 ]\n [0.73962593]\n [0.8368149 ]\n [0.6110562 ]\n [0.6110562 ]\n [0.6110562 ]\n [0.6078608 ]\n [0.64064693]\n [0.60171926]\n [0.6110562 ]\n [0.61101997]\n [0.6110562 ]\n [0.67217994]\n [0.6110562 ]\n [0.6811677 ]\n [0.81763947]\n [0.61111593]\n [0.6755169 ]\n [0.6110562 ]\n [0.9900577 ]\n [0.60550845]\n [0.8361    ]\n [0.86297727]\n [0.6110562 ]\n [0.6110562 ]\n [0.8409942 ]\n [0.6112976 ]\n [0.6110562 ]\n [0.8097793 ]\n [0.82351387]\n [0.6110562 ]\n [0.72188026]\n [0.609692  ]\n [0.6110562 ]\n [0.6110562 ]\n [0.6268797 ]\n [0.7251961 ]\n [0.6150785 ]\n [0.6110562 ]\n [0.7278103 ]\n [0.60886884]\n [0.66917306]\n [0.65471494]\n [0.6110562 ]\n [0.8442438 ]\n [0.6110562 ]\n [0.6110562 ]\n [0.847762  ]\n [0.6781935 ]\n [0.9346227 ]\n [0.6114402 ]\n [0.6110562 ]\n [0.6104285 ]\n [0.6110562 ]\n [0.7501962 ]\n [0.6110562 ]\n [0.6110562 ]\n [0.6110562 ]\n [0.6110562 ]\n [0.6074302 ]\n [0.6125451 ]\n [0.6110562 ]\n [0.7022398 ]\n [0.6110562 ]\n [0.6110562 ]\n [0.6110562 ]\n [0.6110562 ]\n [0.61190134]\n [0.9402951 ]\n [0.7382342 ]\n [0.61256194]\n [0.6110562 ]\n [0.83749753]\n [0.6110562 ]\n [0.6110562 ]\n [0.82965916]\n [0.96565   ]\n [0.63333374]\n [0.6110562 ]\n [0.8087089 ]\n [0.6110562 ]\n [0.6521635 ]\n [0.6110562 ]\n [0.6110562 ]\n [0.6110562 ]\n [0.6110562 ]\n [0.6110562 ]\n [0.8838254 ]]\n",
     "output_type": "stream"
    }
   ],
   "execution_count": null
  },
  {
   "cell_type": "code",
   "metadata": {
    "tags": [],
    "deepnote_to_be_reexecuted": false,
    "source_hash": "14523f58",
    "execution_start": 1650348975187,
    "execution_millis": 182,
    "cell_id": "00013-e0946707-4793-4fcf-8784-34ecbbdd0552",
    "deepnote_cell_type": "code",
    "deepnote_cell_height": 719
   },
   "source": "y_pred = np.where(y_pred>0.5, 1, 0)\nprint(y_pred)",
   "outputs": [
    {
     "name": "stdout",
     "text": "[[1]\n [1]\n [1]\n [1]\n [1]\n [1]\n [1]\n [1]\n [1]\n [1]\n [1]\n [1]\n [1]\n [1]\n [1]\n [1]\n [1]\n [1]\n [1]\n [1]\n [1]\n [1]\n [1]\n [1]\n [1]\n [1]\n [1]\n [1]\n [1]\n [1]\n [1]\n [1]\n [1]\n [1]\n [1]\n [1]\n [1]\n [1]\n [1]\n [1]\n [1]\n [1]\n [1]\n [1]\n [1]\n [1]\n [1]\n [1]\n [1]\n [1]\n [1]\n [1]\n [1]\n [1]\n [1]\n [1]\n [1]\n [1]\n [1]\n [1]\n [1]\n [1]\n [1]\n [1]\n [1]\n [1]\n [1]\n [1]\n [1]\n [1]\n [1]\n [1]\n [1]\n [1]\n [1]\n [1]\n [1]\n [1]\n [1]\n [1]\n [1]\n [1]\n [1]\n [1]\n [1]\n [1]\n [1]\n [1]\n [1]\n [1]\n [1]\n [1]\n [1]\n [1]\n [1]\n [1]\n [1]\n [1]\n [1]\n [1]\n [1]\n [1]\n [1]\n [1]\n [1]\n [1]\n [1]\n [1]\n [1]\n [1]\n [1]\n [1]\n [1]\n [1]\n [1]\n [1]\n [1]\n [1]\n [1]\n [1]\n [1]\n [1]\n [1]\n [1]\n [1]\n [1]\n [1]\n [1]\n [1]\n [1]\n [1]\n [1]\n [1]\n [1]\n [1]\n [1]\n [1]\n [1]\n [1]\n [1]\n [1]\n [1]\n [1]\n [1]\n [1]\n [1]\n [1]\n [1]\n [1]\n [1]\n [1]\n [1]\n [1]\n [1]\n [1]\n [1]\n [1]\n [1]\n [1]\n [1]\n [1]\n [1]\n [1]\n [1]\n [1]\n [1]\n [1]\n [1]\n [1]\n [1]\n [1]\n [1]\n [1]\n [1]\n [1]\n [1]\n [1]\n [1]\n [1]\n [1]\n [1]\n [1]\n [1]\n [1]\n [1]\n [1]\n [1]\n [1]\n [1]\n [1]\n [1]\n [1]\n [1]\n [1]\n [1]\n [1]\n [1]\n [1]\n [1]\n [1]\n [1]\n [1]\n [1]\n [1]\n [1]\n [1]\n [1]\n [1]\n [1]\n [1]\n [1]\n [1]\n [1]\n [1]\n [1]\n [1]\n [1]\n [1]\n [1]\n [1]\n [1]\n [1]\n [1]\n [1]\n [1]\n [1]\n [1]\n [1]\n [1]\n [1]\n [1]\n [1]\n [1]\n [1]\n [1]\n [1]\n [1]\n [1]\n [1]\n [1]\n [1]\n [1]\n [1]\n [1]\n [1]\n [1]\n [1]\n [1]\n [1]\n [1]\n [1]\n [1]\n [1]\n [1]\n [1]\n [1]\n [1]\n [1]\n [1]\n [1]\n [1]\n [1]\n [1]\n [1]\n [1]\n [1]\n [1]\n [1]\n [1]\n [1]\n [1]\n [1]\n [1]\n [1]\n [1]\n [1]\n [1]\n [1]\n [1]\n [1]\n [1]\n [1]\n [1]\n [1]\n [1]\n [1]\n [1]\n [1]\n [1]\n [1]\n [1]\n [1]\n [1]\n [1]\n [1]\n [1]\n [1]\n [1]\n [1]\n [1]\n [1]\n [1]\n [1]\n [1]\n [1]\n [1]\n [1]\n [1]\n [1]\n [1]\n [1]\n [1]\n [1]\n [1]\n [1]\n [1]\n [1]\n [1]\n [1]\n [1]\n [1]\n [1]\n [1]\n [1]\n [1]\n [1]\n [1]\n [1]]\n",
     "output_type": "stream"
    }
   ],
   "execution_count": null
  },
  {
   "cell_type": "code",
   "metadata": {
    "tags": [],
    "deepnote_to_be_reexecuted": false,
    "source_hash": "236ffc46",
    "execution_start": 1650348975246,
    "execution_millis": 5301,
    "cell_id": "00014-11967eaf-a0f9-4317-93e8-5310bb749612",
    "deepnote_cell_type": "code",
    "deepnote_cell_height": 130
   },
   "source": "with open('keras.sav', 'wb') as files:\n    pickle.dump(model, files)",
   "outputs": [
    {
     "name": "stdout",
     "text": "INFO:tensorflow:Assets written to: ram://902abbd8-04bf-4ca6-bee7-3bf1f75775e2/assets\n",
     "output_type": "stream"
    }
   ],
   "execution_count": null
  },
  {
   "cell_type": "code",
   "metadata": {
    "tags": [],
    "deepnote_to_be_reexecuted": false,
    "source_hash": "d973b3b1",
    "execution_start": 1650348980193,
    "execution_millis": 355,
    "cell_id": "00015-15173f12-6863-482d-99a2-7f348f06ecd5",
    "deepnote_cell_type": "code",
    "deepnote_cell_height": 570
   },
   "source": "m = y_test.shape[0]\ntp=0\ntn=0\nfp=0\nfn=0\nfor i in range(m):\n    if (y_pred[i]==0 and (y_test[i]!=y_pred[i])):\n        fn+=1\n    elif (y_pred[i]==1 and (y_test[i]!=y_pred[i])):\n        fp+=1\n    elif (y_pred[i]==0 and (y_test[i]==y_pred[i])):\n        tn+=1\n    elif (y_pred[i]==1 and (y_test[i]==y_pred[i])):\n        tp+=1\n\nprecision=(tp)/(tp+fp)*100\nrecall=(tp)/(tp+fn)*100\nprint(\"Accuracy = \" + format((tp+tn)/(tp+tn+fp+fn)*100, '.2f') + \"%\")   \nprint(\"F1-Score = \" + format(((2*precision*recall)/(precision+recall)), '.2f') + \"%\")   \nprint(\"Recall = \" + format((tp)/(tp+fn)*100, '.2f') + \"%\")   \nprint(\"Precision = \" + format((tp)/(tp+fp)*100, '.2f') + \"%\")   \nprint(\"Specificity = \" + format((tn)/(tn+fp)*100, '.2f') + \"%\")  ",
   "outputs": [
    {
     "name": "stdout",
     "text": "Accuracy = 75.00%\nF1-Score = 85.71%\nRecall = 100.00%\nPrecision = 75.00%\nSpecificity = 0.00%\n",
     "output_type": "stream"
    }
   ],
   "execution_count": null
  },
  {
   "cell_type": "code",
   "metadata": {
    "deepnote_to_be_reexecuted": false,
    "source_hash": "bba62323",
    "execution_start": 1650348980245,
    "execution_millis": 728,
    "cell_id": "00016-848e1a4b-b1b2-464a-836b-50bda6338023",
    "deepnote_cell_type": "code",
    "deepnote_cell_height": 591.796875,
    "deepnote_output_heights": [
     null,
     280
    ]
   },
   "source": "# Draw the confusion matrix\ndef plot_cmat(yte, ypred):\n    '''Plotting confusion matrix'''\n    skplt.plot_confusion_matrix(yte, ypred)\n    plt.grid(False)\n    plt.show()\n    \nplot_cmat(y_test, y_pred)\n",
   "outputs": [
    {
     "name": "stderr",
     "text": "/shared-libs/python3.7/py/lib/python3.7/site-packages/sklearn/utils/deprecation.py:87: FutureWarning: Function plot_confusion_matrix is deprecated; This will be removed in v0.4.0. Please use scikitplot.metrics.plot_confusion_matrix instead.\n  warnings.warn(msg, category=FutureWarning)\n",
     "output_type": "stream"
    },
    {
     "data": {
      "text/plain": "<Figure size 432x288 with 2 Axes>",
      "image/png": "[encoded data removed]"
     },
     "metadata": {
      "needs_background": "light",
      "image/png": {
       "width": 322,
       "height": 278
      }
     },
     "output_type": "display_data"
    }
   ],
   "execution_count": null
  },
  {
   "cell_type": "markdown",
   "source": "<a style='text-decoration:none;line-height:16px;display:flex;color:#5B5B62;padding:10px;justify-content:end;' href='https://deepnote.com?utm_source=created-in-deepnote-cell&projectId=3a2c2a1b-c190-4238-a7b0-93cabb99b4e1' target=\"_blank\">\n<img alt='Created in deepnote.com' style='display:inline;max-height:16px;margin:0px;margin-right:7.5px;' src='data:image/svg+xml;base64,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' > </img>\nCreated in <span style='font-weight:600;margin-left:4px;'>Deepnote</span></a>",
   "metadata": {
    "tags": [],
    "created_in_deepnote_cell": true,
    "deepnote_cell_type": "markdown"
   }
  }
 ],
 "nbformat": 4,
 "nbformat_minor": 4,
 "metadata": {
  "kernelspec": {
   "display_name": "Python 3",
   "language": "python",
   "name": "python3"
  },
  "language_info": {
   "codemirror_mode": {
    "name": "ipython",
    "version": 3
   },
   "file_extension": ".py",
   "mimetype": "text/x-python",
   "name": "python",
   "nbconvert_exporter": "python",
   "pygments_lexer": "ipython3",
   "version": "3.8.5"
  },
  "deepnote_notebook_id": "b5e73b37-213c-4b99-a33c-085394d7d017",
  "deepnote": {},
  "deepnote_execution_queue": []
 }
}