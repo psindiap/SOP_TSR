{
 "cells": [
  {
   "cell_type": "code",
   "metadata": {
    "tags": [],
    "deepnote_to_be_reexecuted": false,
    "source_hash": "f807bb",
    "execution_start": 1650348913549,
    "execution_millis": 34065,
    "is_code_hidden": false,
    "cell_id": "17db7704-87c1-4cdc-a836-cbfd6ea29549",
    "deepnote_cell_type": "code",
    "deepnote_cell_height": 546
   },
   "source": "#!/usr/bin/env python3\n# -*- coding: utf-8 -*-\n\n\"\"\"\nFake news detection\nThe TensorFlow version of neural network\n\"\"\"\nimport pickle\nimport numpy as np\nimport tensorflow as tf\nfrom getEmbeddings import getEmbeddings\nimport matplotlib.pyplot as plt\nimport scikitplot.plotters as skplt\nimport os.path\n\nIN_DIM = 300\nCLASS_NUM = 2\nLEARN_RATE = 0.001\nTRAIN_STEP = 20000\ntensorflow_tmp = \"tmp_tensorflow\"\n\n\n\n",
   "outputs": [
    {
     "name": "stderr",
     "text": "[nltk_data] Downloading package stopwords to /root/nltk_data...\n[nltk_data]   Package stopwords is already up-to-date!\n",
     "output_type": "stream"
    }
   ],
   "execution_count": null
  },
  {
   "cell_type": "code",
   "metadata": {
    "tags": [],
    "deepnote_to_be_reexecuted": false,
    "source_hash": "c475a1b6",
    "execution_start": 1650348947642,
    "execution_millis": 94,
    "cell_id": "00001-f2035bd1-a4a6-4667-a4f4-35648bec38b1",
    "deepnote_cell_type": "code",
    "deepnote_cell_height": 1089
   },
   "source": "def dummy_input_fn():\n    return np.array([1.0] * IN_DIM)\n\ndef model_fn(features, labels, mode):\n    \"\"\"The model function for tf.Estimator\"\"\"\n    # Input layer\n    input_layer = tf.reshape(features[\"x\"], [-1, IN_DIM])\n    # Dense layer1\n    dense1 = tf.layers.dense(inputs=input_layer, units=300, \\\n        activation=tf.nn.relu)\n    # Dropout layer1\n    dropout1 = tf.layers.dropout(inputs=dense1, rate=0.4, \\\n        training=(mode == tf.estimator.ModeKeys.TRAIN))\n    # Dense layer2\n    dense2 = tf.layers.dense(inputs=dropout1, units=300, \\\n        activation=tf.nn.relu)\n    # Dropout layer2\n    dropout2 = tf.layers.dropout(inputs=dense2, rate=0.4, \\\n        training=(mode == tf.estimator.ModeKeys.TRAIN))\n    # Dense layer3\n    dense3 = tf.layers.dense(inputs=dropout2, units=300, \\\n        activation=tf.nn.relu)\n    # Dropout layer3\n    dropout3 = tf.layers.dropout(inputs=dense3, rate=0.4, \\\n        training=(mode == tf.estimator.ModeKeys.TRAIN))\n    # Logits layer\n    logits = tf.layers.dense(inputs=dropout3, units=CLASS_NUM)\n\n    # prediction result in PREDICT and EVAL phases\n    predictions = {\n        # Class id\n        \"classes\": tf.argmax(input=logits, axis=1),\n        # Probabilities\n        \"probabilities\": tf.nn.softmax(logits, name=\"softmax_tensor\")\n    }\n\n    if mode == tf.estimator.ModeKeys.PREDICT:\n        return tf.estimator.EstimatorSpec(mode=mode, predictions=predictions)\n    \n    # Calculate Loss for TRAIN and EVAL\n    loss = tf.losses.sparse_softmax_cross_entropy(labels=labels, logits=logits)\n\n    # Configure the training Op\n    if mode == tf.estimator.ModeKeys.TRAIN:\n        optimizer = tf.train.GradientDescentOptimizer(learning_rate=LEARN_RATE)\n        train_op = optimizer.minimize(\\\n            loss=loss, global_step=tf.train.get_global_step())\n        return tf.estimator.EstimatorSpec(\\\n            mode=mode, loss=loss, train_op=train_op)\n    \n    # Add evaluation metrics\n    eval_metric_ops = {\n        \"accuracy\": tf.metrics.accuracy(\\\n            labels=labels, predictions=predictions[\"classes\"])\n    }\n    return tf.estimator.EstimatorSpec(\\\n        mode=mode, loss=loss, eval_metric_ops=eval_metric_ops)",
   "outputs": [],
   "execution_count": null
  },
  {
   "cell_type": "code",
   "metadata": {
    "tags": [],
    "deepnote_to_be_reexecuted": false,
    "source_hash": "c2b7d7a7",
    "execution_start": 1650348947762,
    "execution_millis": 31743488,
    "cell_id": "00002-5345229f-f4b4-49b8-a74b-873408b1e73d",
    "deepnote_cell_type": "code",
    "deepnote_cell_height": 192.796875
   },
   "source": "import tensorflow.compat.v1 as tf\ntf.disable_v2_behavior()\nimport logging",
   "outputs": [
    {
     "name": "stdout",
     "text": "WARNING:tensorflow:From /shared-libs/python3.7/py/lib/python3.7/site-packages/tensorflow/python/compat/v2_compat.py:107: disable_resource_variables (from tensorflow.python.ops.variable_scope) is deprecated and will be removed in a future version.\nInstructions for updating:\nnon-resource variables are not supported in the long term\n",
     "output_type": "stream"
    }
   ],
   "execution_count": null
  },
  {
   "cell_type": "code",
   "metadata": {
    "tags": [],
    "deepnote_to_be_reexecuted": false,
    "source_hash": "e361963d",
    "execution_start": 1650348947838,
    "execution_millis": 118575,
    "cell_id": "00003-572ee88c-b13d-4e80-9771-66028a4a75c2",
    "deepnote_cell_type": "code",
    "deepnote_cell_height": 868.796875
   },
   "source": "# Read the data\nif not os.path.isfile('./xxtr.npy') or \\\n    not os.path.isfile('./xxte.npy') or \\\n    not os.path.isfile('./xytr.npy') or \\\n    not os.path.isfile('./xyte.npy'):\n    xtr,xte,ytr,yte = getEmbeddings(\"datasets/news_articles.csv\")\n    np.save('./xxtr', xtr)\n    np.save('./xxte', xte)\n    np.save('./xytr', ytr)\n    np.save('./xyte', yte)\nxtr,xte,ytr,yte = getEmbeddings(\"datasets/news_articles.csv\")\nnp.save('./xxtr', xtr)\nnp.save('./xxte', xte)\nnp.save('./xytr', ytr)\nnp.save('./xyte', yte)\ntrain_data = np.load('./xxtr.npy')\neval_data = np.load('./xxte.npy')\ntrain_labels = np.load('./xytr.npy')\neval_labels= np.load('./xyte.npy')\n# Read the Doc2Vec data\ntrain_labels = train_labels.reshape((-1, 1)).astype(np.int32)\neval_labels = eval_labels.reshape((-1, 1)).astype(np.int32)\n\n# Create the Estimator\nclassifier = \\\n        tf.estimator.Estimator(model_fn=model_fn, model_dir=tensorflow_tmp)\n\n# Setup logging hook for prediction\ntf.compat.v1.logging.set_verbosity(tf.compat.v1.logging.INFO)\ntensors_to_log = {\"probabilities\": \"softmax_tensor\"}\nlogging_hook = tf.train.LoggingTensorHook(\ntensors=tensors_to_log, every_n_iter=200)\n    \n    \n    ",
   "outputs": [
    {
     "name": "stdout",
     "text": "INFO:tensorflow:Using default config.\nINFO:tensorflow:Using config: {'_model_dir': 'tmp_tensorflow', '_tf_random_seed': None, '_save_summary_steps': 100, '_save_checkpoints_steps': None, '_save_checkpoints_secs': 600, '_session_config': allow_soft_placement: true\ngraph_options {\n  rewrite_options {\n    meta_optimizer_iterations: ONE\n  }\n}\n, '_keep_checkpoint_max': 5, '_keep_checkpoint_every_n_hours': 10000, '_log_step_count_steps': 100, '_train_distribute': None, '_device_fn': None, '_protocol': None, '_eval_distribute': None, '_experimental_distribute': None, '_experimental_max_worker_delay_secs': None, '_session_creation_timeout_secs': 7200, '_checkpoint_save_graph_def': True, '_service': None, '_cluster_spec': ClusterSpec({}), '_task_type': 'worker', '_task_id': 0, '_global_id_in_cluster': 0, '_master': '', '_evaluation_master': '', '_is_chief': True, '_num_ps_replicas': 0, '_num_worker_replicas': 1}\n",
     "output_type": "stream"
    }
   ],
   "execution_count": null
  },
  {
   "cell_type": "code",
   "metadata": {
    "tags": [],
    "deepnote_to_be_reexecuted": false,
    "source_hash": "84e01fbd",
    "execution_start": 1650349066409,
    "execution_millis": 9973,
    "cell_id": "00004-58709208-8707-4584-8523-83ab09db17b7",
    "owner_user_id": "90d8e9a7-4cf7-49f2-843d-0f73d1ab4387",
    "deepnote_cell_type": "code",
    "deepnote_cell_height": 989
   },
   "source": "# Train the model\ntrain_input_fn = tf.estimator.inputs.numpy_input_fn(\n        x={\"x\": train_data},\n        y=train_labels,\n        batch_size=128,\n        num_epochs=8,\n        shuffle=True)\nclassifier.train(\n        input_fn=train_input_fn,\n        steps=TRAIN_STEP,\n        hooks=[logging_hook])\n\n\nwith open('tf.sav', 'wb') as files:\n    pickle.dump(classifier, files)\n        \n    ",
   "outputs": [
    {
     "name": "stdout",
     "text": "WARNING:tensorflow:From /shared-libs/python3.7/py/lib/python3.7/site-packages/tensorflow/python/training/training_util.py:397: Variable.initialized_value (from tensorflow.python.ops.variables) is deprecated and will be removed in a future version.\nInstructions for updating:\nUse Variable.read_value. Variables in 2.X are initialized automatically both in eager and graph (inside tf.defun) contexts.\nWARNING:tensorflow:From /shared-libs/python3.7/py/lib/python3.7/site-packages/tensorflow_estimator/python/estimator/inputs/queues/feeding_queue_runner.py:65: QueueRunner.__init__ (from tensorflow.python.training.queue_runner_impl) is deprecated and will be removed in a future version.\nInstructions for updating:\nTo construct input pipelines, use the `tf.data` module.\nWARNING:tensorflow:From /shared-libs/python3.7/py/lib/python3.7/site-packages/tensorflow_estimator/python/estimator/inputs/queues/feeding_functions.py:491: add_queue_runner (from tensorflow.python.training.queue_runner_impl) is deprecated and will be removed in a future version.\nInstructions for updating:\nTo construct input pipelines, use the `tf.data` module.\nINFO:tensorflow:Calling model_fn.\n/shared-libs/python3.7/py-core/lib/python3.7/site-packages/ipykernel_launcher.py:10: UserWarning: `tf.layers.dense` is deprecated and will be removed in a future version. Please use `tf.keras.layers.Dense` instead.\n  # Remove the CWD from sys.path while we load stuff.\n/shared-libs/python3.7/py/lib/python3.7/site-packages/keras/legacy_tf_layers/core.py:261: UserWarning: `layer.apply` is deprecated and will be removed in a future version. Please use `layer.__call__` method instead.\n  return layer.apply(inputs)\n/shared-libs/python3.7/py-core/lib/python3.7/site-packages/ipykernel_launcher.py:13: UserWarning: `tf.layers.dropout` is deprecated and will be removed in a future version. Please use `tf.keras.layers.Dropout` instead.\n  del sys.path[0]\n/shared-libs/python3.7/py/lib/python3.7/site-packages/keras/legacy_tf_layers/core.py:413: UserWarning: `layer.apply` is deprecated and will be removed in a future version. Please use `layer.__call__` method instead.\n  return layer.apply(inputs, training=training)\n/shared-libs/python3.7/py-core/lib/python3.7/site-packages/ipykernel_launcher.py:16: UserWarning: `tf.layers.dense` is deprecated and will be removed in a future version. Please use `tf.keras.layers.Dense` instead.\n  app.launch_new_instance()\n/shared-libs/python3.7/py-core/lib/python3.7/site-packages/ipykernel_launcher.py:19: UserWarning: `tf.layers.dropout` is deprecated and will be removed in a future version. Please use `tf.keras.layers.Dropout` instead.\n/shared-libs/python3.7/py-core/lib/python3.7/site-packages/ipykernel_launcher.py:22: UserWarning: `tf.layers.dense` is deprecated and will be removed in a future version. Please use `tf.keras.layers.Dense` instead.\n/shared-libs/python3.7/py-core/lib/python3.7/site-packages/ipykernel_launcher.py:25: UserWarning: `tf.layers.dropout` is deprecated and will be removed in a future version. Please use `tf.keras.layers.Dropout` instead.\n/shared-libs/python3.7/py-core/lib/python3.7/site-packages/ipykernel_launcher.py:27: UserWarning: `tf.layers.dense` is deprecated and will be removed in a future version. Please use `tf.keras.layers.Dense` instead.\nINFO:tensorflow:Done calling model_fn.\nINFO:tensorflow:Create CheckpointSaverHook.\nINFO:tensorflow:Graph was finalized.\nINFO:tensorflow:Restoring parameters from tmp_tensorflow/model.ckpt-102830\nWARNING:tensorflow:From /shared-libs/python3.7/py/lib/python3.7/site-packages/tensorflow/python/training/saver.py:1161: get_checkpoint_mtimes (from tensorflow.python.training.checkpoint_management) is deprecated and will be removed in a future version.\nInstructions for updating:\nUse standard file utilities to get mtimes.\nINFO:tensorflow:Running local_init_op.\nINFO:tensorflow:Done running local_init_op.\nWARNING:tensorflow:From /shared-libs/python3.7/py/lib/python3.7/site-packages/tensorflow/python/training/monitored_session.py:914: start_queue_runners (from tensorflow.python.training.queue_runner_impl) is deprecated and will be removed in a future version.\nInstructions for updating:\nTo construct input pipelines, use the `tf.data` module.\nINFO:tensorflow:Calling checkpoint listeners before saving checkpoint 102830...\nINFO:tensorflow:Saving checkpoints for 102830 into tmp_tensorflow/model.ckpt.\nINFO:tensorflow:Calling checkpoint listeners after saving checkpoint 102830...\nINFO:tensorflow:probabilities = [[0.36346033 0.63653967]\n [0.60752672 0.39247328]\n [0.72285612 0.27714388]\n [0.4904039  0.5095961 ]\n [0.56495793 0.43504207]\n [0.38052345 0.61947655]\n [0.44635374 0.55364626]\n [0.41247404 0.58752596]\n [0.34534625 0.65465375]\n [0.29806067 0.70193933]\n [0.47819822 0.52180178]\n [0.42058706 0.57941294]\n [0.21655895 0.78344105]\n [0.39851738 0.60148262]\n [0.42981303 0.57018697]\n [0.4038089  0.5961911 ]\n [0.28786598 0.71213402]\n [0.35521536 0.64478464]\n [0.43868306 0.56131694]\n [0.51139727 0.48860273]\n [0.37438318 0.62561682]\n [0.36943359 0.63056641]\n [0.32844612 0.67155388]\n [0.37933539 0.62066461]\n [0.0013446  0.9986554 ]\n [0.48021501 0.51978499]\n [0.37158529 0.62841471]\n [0.40342482 0.59657518]\n [0.4042732  0.5957268 ]\n [0.13571333 0.86428667]\n [0.25794387 0.74205613]\n [0.23892562 0.76107438]\n [0.38809775 0.61190225]\n [0.5656077  0.4343923 ]\n [0.80642697 0.19357303]\n [0.34086099 0.65913901]\n [0.33070254 0.66929746]\n [0.38593669 0.61406331]\n [0.86883212 0.13116788]\n [0.52135981 0.47864019]\n [0.37499357 0.62500643]\n [0.35660108 0.64339892]\n [0.19322037 0.80677963]\n [0.00052519 0.99947481]\n [0.44826619 0.55173381]\n [0.06457367 0.93542633]\n [0.60171248 0.39828752]\n [0.39490789 0.60509211]\n [0.3376477  0.6623523 ]\n [0.40328924 0.59671076]\n [0.13265849 0.86734151]\n [0.41113105 0.58886895]\n [0.37946207 0.62053793]\n [0.38761531 0.61238469]\n [0.1954426  0.8045574 ]\n [0.33765254 0.66234746]\n [0.33877987 0.66122013]\n [0.29199506 0.70800494]\n [0.30008679 0.69991321]\n [0.11635251 0.88364749]\n [0.46029462 0.53970538]\n [0.62800699 0.37199301]\n [0.24762325 0.75237675]\n [0.37108038 0.62891962]\n [0.40467767 0.59532233]\n [0.33381752 0.66618248]\n [0.22925622 0.77074378]\n [0.26975507 0.73024493]\n [0.37860499 0.62139501]\n [0.46563219 0.53436781]\n [0.40689647 0.59310353]\n [0.21763331 0.78236669]\n [0.10955423 0.89044577]\n [0.30911693 0.69088307]\n [0.74544922 0.25455078]\n [0.60669351 0.39330649]\n [0.31322579 0.68677421]\n [0.23290035 0.76709965]\n [0.1228324  0.8771676 ]\n [0.52757686 0.47242314]\n [0.63931976 0.36068024]\n [0.62706816 0.37293184]\n [0.13894154 0.86105846]\n [0.41310478 0.58689522]\n [0.30691229 0.69308771]\n [0.35529185 0.64470815]\n [0.52193842 0.47806158]\n [0.44118356 0.55881644]\n [0.3791095  0.6208905 ]\n [0.07161478 0.92838522]\n [0.23118767 0.76881233]\n [0.28689678 0.71310322]\n [0.16627547 0.83372453]\n [0.41545748 0.58454252]\n [0.41109653 0.58890347]\n [0.30664819 0.69335181]\n [0.44946654 0.55053346]\n [0.18800669 0.81199331]\n [0.34771526 0.65228474]\n [0.15107978 0.84892022]\n [0.78789054 0.21210946]\n [0.20638755 0.79361245]\n [0.25578376 0.74421624]\n [0.13500917 0.86499083]\n [0.24488956 0.75511044]\n [0.37484605 0.62515395]\n [0.53718044 0.46281956]\n [0.48129791 0.51870209]\n [0.33414759 0.66585241]\n [0.07700044 0.92299956]\n [0.43289373 0.56710627]\n [0.50600022 0.49399978]\n [0.37927701 0.62072299]\n [0.15876447 0.84123553]\n [0.4472768  0.5527232 ]\n [0.52097636 0.47902364]\n [0.0220044  0.9779956 ]\n [0.21437139 0.78562861]\n [0.34319675 0.65680325]\n [0.37720336 0.62279664]\n [0.38406007 0.61593993]\n [0.51279451 0.48720549]\n [0.11422193 0.88577807]\n [0.40534651 0.59465349]\n [0.36039922 0.63960078]\n [0.16447981 0.83552019]\n [0.25636215 0.74363785]\n [0.40049733 0.59950267]]\nINFO:tensorflow:loss = 0.6520661115646362, step = 102831\nINFO:tensorflow:global_step/sec: 24.3243\nINFO:tensorflow:loss = 0.6953282952308655, step = 102931 (4.103 sec)\nINFO:tensorflow:Calling checkpoint listeners before saving checkpoint 102933...\nINFO:tensorflow:Saving checkpoints for 102933 into tmp_tensorflow/model.ckpt.\nWARNING:tensorflow:From /shared-libs/python3.7/py/lib/python3.7/site-packages/tensorflow/python/training/saver.py:1054: remove_checkpoint (from tensorflow.python.training.checkpoint_management) is deprecated and will be removed in a future version.\nInstructions for updating:\nUse standard file APIs to delete files with this prefix.\nINFO:tensorflow:Calling checkpoint listeners after saving checkpoint 102933...\nINFO:tensorflow:Loss for final step: 0.5859755873680115.\n",
     "output_type": "stream"
    }
   ],
   "execution_count": null
  },
  {
   "cell_type": "code",
   "metadata": {
    "tags": [],
    "deepnote_to_be_reexecuted": false,
    "source_hash": "69134c1a",
    "execution_start": 1650349076430,
    "execution_millis": 1470,
    "cell_id": "00005-230e1e8f-afea-46a4-9fd8-9ae5ae4f16ab",
    "deepnote_cell_type": "code",
    "deepnote_cell_height": 944.796875
   },
   "source": "# Evaluate the model and print results\neval_input_fn = tf.estimator.inputs.numpy_input_fn(\n        x={\"x\": eval_data},\n        y=eval_labels,\n        num_epochs=1,\n        shuffle=False)\neval_results = classifier.evaluate(input_fn=eval_input_fn)\nprint(eval_results)  \n    \n#Predictions\npredict_input_fn = tf.estimator.inputs.numpy_input_fn(\n        x={\"x\": eval_data},\n        num_epochs=1,\n        shuffle=False)\npredict_results = classifier.predict(input_fn=predict_input_fn)\npredict_labels = [label[\"classes\"] for label in predict_results]\n    ",
   "outputs": [
    {
     "name": "stdout",
     "text": "INFO:tensorflow:Calling model_fn.\n/shared-libs/python3.7/py-core/lib/python3.7/site-packages/ipykernel_launcher.py:10: UserWarning: `tf.layers.dense` is deprecated and will be removed in a future version. Please use `tf.keras.layers.Dense` instead.\n  # Remove the CWD from sys.path while we load stuff.\n/shared-libs/python3.7/py-core/lib/python3.7/site-packages/ipykernel_launcher.py:13: UserWarning: `tf.layers.dropout` is deprecated and will be removed in a future version. Please use `tf.keras.layers.Dropout` instead.\n  del sys.path[0]\n/shared-libs/python3.7/py-core/lib/python3.7/site-packages/ipykernel_launcher.py:16: UserWarning: `tf.layers.dense` is deprecated and will be removed in a future version. Please use `tf.keras.layers.Dense` instead.\n  app.launch_new_instance()\n/shared-libs/python3.7/py-core/lib/python3.7/site-packages/ipykernel_launcher.py:19: UserWarning: `tf.layers.dropout` is deprecated and will be removed in a future version. Please use `tf.keras.layers.Dropout` instead.\n/shared-libs/python3.7/py-core/lib/python3.7/site-packages/ipykernel_launcher.py:22: UserWarning: `tf.layers.dense` is deprecated and will be removed in a future version. Please use `tf.keras.layers.Dense` instead.\n/shared-libs/python3.7/py-core/lib/python3.7/site-packages/ipykernel_launcher.py:25: UserWarning: `tf.layers.dropout` is deprecated and will be removed in a future version. Please use `tf.keras.layers.Dropout` instead.\n/shared-libs/python3.7/py-core/lib/python3.7/site-packages/ipykernel_launcher.py:27: UserWarning: `tf.layers.dense` is deprecated and will be removed in a future version. Please use `tf.keras.layers.Dense` instead.\nINFO:tensorflow:Done calling model_fn.\nINFO:tensorflow:Starting evaluation at 2022-04-19T06:17:56\nINFO:tensorflow:Graph was finalized.\nINFO:tensorflow:Restoring parameters from tmp_tensorflow/model.ckpt-102933\nINFO:tensorflow:Running local_init_op.\nINFO:tensorflow:Done running local_init_op.\nINFO:tensorflow:Inference Time : 0.42720s\nINFO:tensorflow:Finished evaluation at 2022-04-19-06:17:57\nINFO:tensorflow:Saving dict for global step 102933: accuracy = 0.86585367, global_step = 102933, loss = 0.45881337\nINFO:tensorflow:Saving 'checkpoint_path' summary for global step 102933: tmp_tensorflow/model.ckpt-102933\n{'accuracy': 0.86585367, 'loss': 0.45881337, 'global_step': 102933}\nINFO:tensorflow:Calling model_fn.\nINFO:tensorflow:Done calling model_fn.\nINFO:tensorflow:Graph was finalized.\nINFO:tensorflow:Restoring parameters from tmp_tensorflow/model.ckpt-102933\nINFO:tensorflow:Running local_init_op.\nINFO:tensorflow:Done running local_init_op.\n",
     "output_type": "stream"
    }
   ],
   "execution_count": null
  },
  {
   "cell_type": "code",
   "source": "print(train_labels.shape)",
   "metadata": {
    "cell_id": "a52fe7130d5d4b1baee931322f03c9cb",
    "tags": [],
    "deepnote_to_be_reexecuted": false,
    "source_hash": "bf5ef98c",
    "execution_start": 1650349108895,
    "execution_millis": 28,
    "deepnote_cell_type": "code",
    "deepnote_cell_height": 112
   },
   "outputs": [
    {
     "name": "stdout",
     "text": "(1640, 1)\n",
     "output_type": "stream"
    }
   ],
   "execution_count": null
  },
  {
   "cell_type": "code",
   "metadata": {
    "tags": [],
    "deepnote_to_be_reexecuted": false,
    "source_hash": "2d3f05b9",
    "execution_start": 1650349077942,
    "execution_millis": 22,
    "cell_id": "00006-ff47c3e1-6baa-4320-a9f7-534b4e55eded",
    "deepnote_cell_type": "code",
    "deepnote_cell_height": 624
   },
   "source": "y_test=eval_labels\ny_pred=predict_labels\n\nm = y_test.shape[0]\ntp=0\ntn=0\nfp=0\nfn=0\nfor i in range(m):\n    if (y_pred[i]==0 and (y_test[i]!=y_pred[i])):\n        fn+=1\n    elif (y_pred[i]==1 and (y_test[i]!=y_pred[i])):\n        fp+=1\n    elif (y_pred[i]==0 and (y_test[i]==y_pred[i])):\n        tn+=1\n    elif (y_pred[i]==1 and (y_test[i]==y_pred[i])):\n        tp+=1\n\nprecision=(tp)/(tp+fp)*100\nrecall=(tp)/(tp+fn)*100\nprint(\"Accuracy = \" + format((tp+tn)/(tp+tn+fp+fn)*100, '.2f') + \"%\")   \nprint(\"F1-Score = \" + format(((2*precision*recall)/(precision+recall)), '.2f') + \"%\")   \nprint(\"Recall = \" + format((tp)/(tp+fn)*100, '.2f') + \"%\")   \nprint(\"Precision = \" + format((tp)/(tp+fp)*100, '.2f') + \"%\")   \nprint(\"Specificity = \" + format((tn)/(tn+fp)*100, '.2f') + \"%\")  ",
   "outputs": [
    {
     "name": "stdout",
     "text": "Accuracy = 86.59%\nF1-Score = 92.81%\nRecall = 99.44%\nPrecision = 87.01%\nSpecificity = 0.00%\n",
     "output_type": "stream"
    }
   ],
   "execution_count": null
  },
  {
   "cell_type": "code",
   "metadata": {
    "tags": [],
    "deepnote_to_be_reexecuted": false,
    "source_hash": "8ff437ef",
    "execution_start": 1650349078014,
    "execution_millis": 503,
    "cell_id": "00007-86c71121-2c90-44c9-9e5a-75c4d0a605e8",
    "deepnote_cell_type": "code",
    "deepnote_cell_height": 573.796875,
    "deepnote_output_heights": [
     null,
     280
    ]
   },
   "source": "# Draw the confusion matrix\ndef plot_cmat(yte, ypred):\n    '''Plotting confusion matrix'''\n    skplt.plot_confusion_matrix(yte, ypred)\n    plt.grid(False)\n    plt.show()\n    \nplot_cmat(eval_labels, predict_labels)",
   "outputs": [
    {
     "name": "stderr",
     "text": "/shared-libs/python3.7/py/lib/python3.7/site-packages/sklearn/utils/deprecation.py:87: FutureWarning: Function plot_confusion_matrix is deprecated; This will be removed in v0.4.0. Please use scikitplot.metrics.plot_confusion_matrix instead.\n  warnings.warn(msg, category=FutureWarning)\n",
     "output_type": "stream"
    },
    {
     "data": {
      "text/plain": "<Figure size 432x288 with 2 Axes>",
      "image/png": "[encoded data removed]"
     },
     "metadata": {
      "needs_background": "light",
      "image/png": {
       "width": 312,
       "height": 278
      }
     },
     "output_type": "display_data"
    }
   ],
   "execution_count": null
  },
  {
   "cell_type": "markdown",
   "source": "<a style='text-decoration:none;line-height:16px;display:flex;color:#5B5B62;padding:10px;justify-content:end;' href='https://deepnote.com?utm_source=created-in-deepnote-cell&projectId=3a2c2a1b-c190-4238-a7b0-93cabb99b4e1' target=\"_blank\">\n<img alt='Created in deepnote.com' style='display:inline;max-height:16px;margin:0px;margin-right:7.5px;' src='data:image/svg+xml;base64,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' > </img>\nCreated in <span style='font-weight:600;margin-left:4px;'>Deepnote</span></a>",
   "metadata": {
    "tags": [],
    "created_in_deepnote_cell": true,
    "deepnote_cell_type": "markdown"
   }
  }
 ],
 "nbformat": 4,
 "nbformat_minor": 2,
 "metadata": {
  "orig_nbformat": 2,
  "deepnote": {
   "is_reactive": false
  },
  "deepnote_notebook_id": "b416d4a4-c118-4c53-9f9e-59bccd797f97",
  "deepnote_execution_queue": []
 }
}