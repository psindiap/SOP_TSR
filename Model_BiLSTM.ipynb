{
 "cells": [
  {
   "cell_type": "code",
   "metadata": {
    "tags": [],
    "deepnote_to_be_reexecuted": false,
    "source_hash": "1ed46e62",
    "execution_start": 1650282455848,
    "execution_millis": 19595,
    "cell_id": "3103ddf3-d23c-40ba-ad08-dedd8e6b02de",
    "deepnote_cell_type": "code",
    "deepnote_cell_height": 843.1875,
    "deepnote_output_heights": [
     null,
     21.1875
    ]
   },
   "source": "!pip install Embeddings==0.0.8\n!pip install np_utils\n!pip install scikit-plot\n!pip install gensim==3.8.3\nimport nltk\nnltk.download('stopwords')",
   "execution_count": null,
   "outputs": [
    {
     "name": "stdout",
     "text": "Requirement already satisfied: Embeddings==0.0.8 in /root/venv/lib/python3.7/site-packages (0.0.8)\nRequirement already satisfied: tqdm in /shared-libs/python3.7/py/lib/python3.7/site-packages (from Embeddings==0.0.8) (4.63.0)\nRequirement already satisfied: numpy in /shared-libs/python3.7/py/lib/python3.7/site-packages (from Embeddings==0.0.8) (1.21.5)\nRequirement already satisfied: requests in /shared-libs/python3.7/py/lib/python3.7/site-packages (from Embeddings==0.0.8) (2.27.1)\nRequirement already satisfied: urllib3<1.27,>=1.21.1 in /shared-libs/python3.7/py/lib/python3.7/site-packages (from requests->Embeddings==0.0.8) (1.26.9)\nRequirement already satisfied: certifi>=2017.4.17 in /shared-libs/python3.7/py/lib/python3.7/site-packages (from requests->Embeddings==0.0.8) (2021.10.8)\nRequirement already satisfied: charset-normalizer~=2.0.0; python_version >= \"3\" in /shared-libs/python3.7/py-core/lib/python3.7/site-packages (from requests->Embeddings==0.0.8) (2.0.12)\nRequirement already satisfied: idna<4,>=2.5; python_version >= \"3\" in /shared-libs/python3.7/py-core/lib/python3.7/site-packages (from requests->Embeddings==0.0.8) (3.3)\n\u001b[33mWARNING: You are using pip version 20.1.1; however, version 22.0.4 is available.\nYou should consider upgrading via the '/root/venv/bin/python -m pip install --upgrade pip' command.\u001b[0m\nRequirement already satisfied: np_utils in /root/venv/lib/python3.7/site-packages (0.6.0)\nRequirement already satisfied: numpy>=1.0 in /shared-libs/python3.7/py/lib/python3.7/site-packages (from np_utils) (1.21.5)\n\u001b[33mWARNING: You are using pip version 20.1.1; however, version 22.0.4 is available.\nYou should consider upgrading via the '/root/venv/bin/python -m pip install --upgrade pip' command.\u001b[0m\nRequirement already satisfied: scikit-plot in /root/venv/lib/python3.7/site-packages (0.3.7)\nRequirement already satisfied: joblib>=0.10 in /shared-libs/python3.7/py/lib/python3.7/site-packages (from scikit-plot) (1.1.0)\nRequirement already satisfied: scipy>=0.9 in /shared-libs/python3.7/py/lib/python3.7/site-packages (from scikit-plot) (1.7.3)\nRequirement already satisfied: scikit-learn>=0.18 in /shared-libs/python3.7/py/lib/python3.7/site-packages (from scikit-plot) (1.0.2)\nRequirement already satisfied: matplotlib>=1.4.0 in /shared-libs/python3.7/py/lib/python3.7/site-packages (from scikit-plot) (3.5.1)\nRequirement already satisfied: numpy<1.23.0,>=1.16.5 in /shared-libs/python3.7/py/lib/python3.7/site-packages (from scipy>=0.9->scikit-plot) (1.21.5)\nRequirement already satisfied: threadpoolctl>=2.0.0 in /shared-libs/python3.7/py/lib/python3.7/site-packages (from scikit-learn>=0.18->scikit-plot) (3.1.0)\nRequirement already satisfied: pillow>=6.2.0 in /shared-libs/python3.7/py/lib/python3.7/site-packages (from matplotlib>=1.4.0->scikit-plot) (9.0.1)\nRequirement already satisfied: kiwisolver>=1.0.1 in /shared-libs/python3.7/py/lib/python3.7/site-packages (from matplotlib>=1.4.0->scikit-plot) (1.4.0)\nRequirement already satisfied: cycler>=0.10 in /shared-libs/python3.7/py/lib/python3.7/site-packages (from matplotlib>=1.4.0->scikit-plot) (0.11.0)\nRequirement already satisfied: python-dateutil>=2.7 in /shared-libs/python3.7/py-core/lib/python3.7/site-packages (from matplotlib>=1.4.0->scikit-plot) (2.8.2)\nRequirement already satisfied: fonttools>=4.22.0 in /shared-libs/python3.7/py/lib/python3.7/site-packages (from matplotlib>=1.4.0->scikit-plot) (4.31.2)\nRequirement already satisfied: packaging>=20.0 in /shared-libs/python3.7/py-core/lib/python3.7/site-packages (from matplotlib>=1.4.0->scikit-plot) (21.3)\nRequirement already satisfied: pyparsing>=2.2.1 in /shared-libs/python3.7/py-core/lib/python3.7/site-packages (from matplotlib>=1.4.0->scikit-plot) (3.0.7)\nRequirement already satisfied: typing-extensions; python_version < \"3.8\" in /shared-libs/python3.7/py-core/lib/python3.7/site-packages (from kiwisolver>=1.0.1->matplotlib>=1.4.0->scikit-plot) (4.1.1)\nRequirement already satisfied: six>=1.5 in /shared-libs/python3.7/py-core/lib/python3.7/site-packages (from python-dateutil>=2.7->matplotlib>=1.4.0->scikit-plot) (1.16.0)\n\u001b[33mWARNING: You are using pip version 20.1.1; however, version 22.0.4 is available.\nYou should consider upgrading via the '/root/venv/bin/python -m pip install --upgrade pip' command.\u001b[0m\nRequirement already satisfied: gensim==3.8.3 in /root/venv/lib/python3.7/site-packages (3.8.3)\nRequirement already satisfied: numpy>=1.11.3 in /shared-libs/python3.7/py/lib/python3.7/site-packages (from gensim==3.8.3) (1.21.5)\nRequirement already satisfied: scipy>=0.18.1 in /shared-libs/python3.7/py/lib/python3.7/site-packages (from gensim==3.8.3) (1.7.3)\nRequirement already satisfied: six>=1.5.0 in /shared-libs/python3.7/py-core/lib/python3.7/site-packages (from gensim==3.8.3) (1.16.0)\nRequirement already satisfied: smart-open>=1.8.1 in /shared-libs/python3.7/py/lib/python3.7/site-packages (from gensim==3.8.3) (5.2.1)\n\u001b[33mWARNING: You are using pip version 20.1.1; however, version 22.0.4 is available.\nYou should consider upgrading via the '/root/venv/bin/python -m pip install --upgrade pip' command.\u001b[0m\n[nltk_data] Downloading package stopwords to /root/nltk_data...\n[nltk_data]   Unzipping corpora/stopwords.zip.\n",
     "output_type": "stream"
    },
    {
     "output_type": "execute_result",
     "execution_count": 1,
     "data": {
      "text/plain": "True"
     },
     "metadata": {}
    }
   ]
  },
  {
   "cell_type": "code",
   "metadata": {
    "deepnote_to_be_reexecuted": false,
    "source_hash": "f096698f",
    "execution_start": 1650282475447,
    "execution_millis": 7332,
    "cell_id": "00001-0cf18782-7a22-413f-af35-2eb8bd36d577",
    "deepnote_cell_type": "code",
    "deepnote_cell_height": 748.796875
   },
   "source": "#!/usr/bin/env python3\n# -*- coding: utf-8 -*-\n\n\"\"\"\nFake news detection\nLSTM model\n\"\"\"\nimport pickle\nimport getEmbeddings\nimport matplotlib.pyplot as plt\nimport numpy as np\nfrom tensorflow import keras \nfrom tensorflow.keras import backend as K\nimport np_utils\nfrom tensorflow.keras.models import Sequential\nfrom tensorflow.keras.layers import Dense, Dropout, LSTM, Embedding, Input, RepeatVector,Bidirectional\nfrom tensorflow.keras.optimizers import SGD\nfrom sklearn.preprocessing import LabelEncoder\nfrom sklearn.model_selection import train_test_split\nimport scikitplot.plotters as skplt\nimport os\nfrom tensorflow.keras.datasets import imdb\nfrom tensorflow.keras.layers import Embedding\nfrom tensorflow.keras.preprocessing import sequence\nfrom collections import Counter\nimport matplotlib.pyplot as plt\n\n\n\ntop_words = 5000\nepoch_num = 8\nbatch_size = 128\n\n\n",
   "execution_count": null,
   "outputs": [
    {
     "name": "stderr",
     "text": "[nltk_data] Downloading package stopwords to /root/nltk_data...\n[nltk_data]   Package stopwords is already up-to-date!\n",
     "output_type": "stream"
    }
   ]
  },
  {
   "cell_type": "code",
   "metadata": {
    "tags": [],
    "cell_id": "00002-b632c65e-c314-43b2-a1df-0a970038cb21",
    "deepnote_to_be_reexecuted": false,
    "source_hash": "621d01d2",
    "execution_start": 1650282482781,
    "execution_millis": 2,
    "deepnote_cell_type": "code",
    "deepnote_cell_height": 81
   },
   "source": "# getEmbeddings.clean_data()",
   "execution_count": null,
   "outputs": []
  },
  {
   "cell_type": "code",
   "metadata": {
    "deepnote_to_be_reexecuted": false,
    "source_hash": "3a9cb549",
    "execution_start": 1650282482789,
    "execution_millis": 1912,
    "cell_id": "00004-d0b769f7-f41f-4b65-abf2-0fcdf738b02d",
    "owner_user_id": "90d8e9a7-4cf7-49f2-843d-0f73d1ab4387",
    "deepnote_cell_type": "code",
    "deepnote_cell_height": 549
   },
   "source": "\n# Read the text data\nif not os.path.isfile('./xtr_shuffled.npy') or \\\n    not os.path.isfile('./xte_shuffled.npy') or \\\n    not os.path.isfile('./ytr_shuffled.npy') or \\\n    not os.path.isfile('./yte_shuffled.npy'):\n\n\ngetEmbeddings.clean_data()\n\n\nxtr = np.load('./xtr_shuffled.npy', allow_pickle=True)\nxte = np.load('./xte_shuffled.npy', allow_pickle=True)\ny_train = np.load('./ytr_shuffled.npy', allow_pickle=True)\ny_test = np.load('./yte_shuffled.npy', allow_pickle=True)\ny_train = np.where(y_train<1, 1, 0)\ny_test = np.where(y_test<1, 1, 0)\n\ncnt = Counter()\nx_train = []\nfor x in xtr:\n    x_train.append(x.split())\n    for word in x_train[-1]:\n        cnt[word] += 1  \n\n\n",
   "execution_count": null,
   "outputs": []
  },
  {
   "cell_type": "code",
   "metadata": {
    "deepnote_to_be_reexecuted": false,
    "source_hash": "18ed0683",
    "execution_start": 1650282484741,
    "execution_millis": 53,
    "cell_id": "00005-d7bc0c2a-e539-441d-99e9-9ace3124433c",
    "deepnote_cell_type": "code",
    "deepnote_cell_height": 225
   },
   "source": "# Storing most common words\nmost_common = cnt.most_common(top_words + 1)\nword_bank = {}\nid_num = 1\nfor word, freq in most_common:\n    word_bank[word] = id_num\n    id_num += 1\n\n",
   "execution_count": null,
   "outputs": []
  },
  {
   "cell_type": "code",
   "metadata": {
    "deepnote_to_be_reexecuted": false,
    "source_hash": "51b517cc",
    "execution_start": 1650282484865,
    "execution_millis": 1502,
    "cell_id": "00006-529b933c-80f6-4675-b90c-0c3d96e9c059",
    "deepnote_cell_type": "code",
    "deepnote_cell_height": 297
   },
   "source": "# Encode the sentences\nfor news in x_train:\n    i = 0\n    while i < len(news):\n        if news[i] in word_bank:\n            news[i] = word_bank[news[i]]\n            i += 1\n        else:\n            del news[i]\n\ny_train = list(y_train)\ny_test = list(y_test)\n",
   "execution_count": null,
   "outputs": []
  },
  {
   "cell_type": "code",
   "metadata": {
    "deepnote_to_be_reexecuted": false,
    "source_hash": "53190dad",
    "execution_start": 1650282486383,
    "execution_millis": 635,
    "cell_id": "00007-2b30ec7c-7e75-41e7-ace7-49e574b14c52",
    "deepnote_cell_type": "code",
    "deepnote_cell_height": 639
   },
   "source": "# Delete the short news\ni = 0\nwhile i < len(x_train):\n    if len(x_train[i]) > 10:\n        i += 1\n    else:\n        del x_train[i]\n        del y_train[i]\n\n# Generating test data\nx_test = []\nfor x in xte:\n    x_test.append(x.split())\n\n# Encode the sentences\nfor news in x_test:\n    i = 0\n    while i < len(news):\n        if news[i] in word_bank:\n            news[i] = word_bank[news[i]]\n            i += 1\n        else:\n            del news[i]\n\n# Truncate and pad input sequences\nmax_review_length = 300\nX_train = sequence.pad_sequences(x_train, maxlen=max_review_length)\nX_test = sequence.pad_sequences(x_test, maxlen=max_review_length)\n\n# Convert to numpy arrays\ny_train = np.array(y_train)\ny_test = np.array(y_test)",
   "execution_count": null,
   "outputs": []
  },
  {
   "cell_type": "code",
   "metadata": {
    "deepnote_to_be_reexecuted": false,
    "source_hash": "daa196cf",
    "execution_start": 1650282487023,
    "execution_millis": 1287404,
    "cell_id": "00008-3ece6862-cd36-4568-a53b-54be572d31b1",
    "deepnote_cell_type": "code",
    "deepnote_cell_height": 969.1875,
    "deepnote_output_heights": [
     null,
     21.1875
    ]
   },
   "source": "# Create the model\nembedding_vecor_length = 32\nmodel = Sequential()\nmodel.add(Embedding(top_words+2, embedding_vecor_length, input_length=max_review_length))\nmodel.add(Bidirectional(LSTM(100)))\nmodel.add(Dense(1, activation='sigmoid'))\nmodel.compile(loss='binary_crossentropy', optimizer='adam', metrics=['accuracy'])\nprint(model.summary())\nmodel.fit(X_train, y_train, validation_data=(X_test, y_test), epochs=epoch_num, batch_size=batch_size)\n\n\n\n",
   "execution_count": null,
   "outputs": [
    {
     "name": "stdout",
     "text": "Model: \"sequential\"\n_________________________________________________________________\n Layer (type)                Output Shape              Param #   \n=================================================================\n embedding (Embedding)       (None, 300, 32)           160064    \n                                                                 \n bidirectional (Bidirectiona  (None, 200)              106400    \n l)                                                              \n                                                                 \n dense (Dense)               (None, 1)                 201       \n                                                                 \n=================================================================\nTotal params: 266,665\nTrainable params: 266,665\nNon-trainable params: 0\n_________________________________________________________________\nNone\nEpoch 1/8\n61/61 [==============================] - 103s 2s/step - loss: 0.6137 - accuracy: 0.6840 - val_loss: 0.4342 - val_accuracy: 0.8234\nEpoch 2/8\n61/61 [==============================] - 170s 3s/step - loss: 0.2870 - accuracy: 0.8891 - val_loss: 0.2551 - val_accuracy: 0.9015\nEpoch 3/8\n61/61 [==============================] - 194s 3s/step - loss: 0.1506 - accuracy: 0.9482 - val_loss: 0.2287 - val_accuracy: 0.9125\nEpoch 4/8\n61/61 [==============================] - 171s 3s/step - loss: 0.2584 - accuracy: 0.8993 - val_loss: 0.3786 - val_accuracy: 0.8244\nEpoch 5/8\n61/61 [==============================] - 197s 3s/step - loss: 0.2039 - accuracy: 0.9287 - val_loss: 0.2351 - val_accuracy: 0.9105\nEpoch 6/8\n61/61 [==============================] - 182s 3s/step - loss: 0.0991 - accuracy: 0.9658 - val_loss: 0.2500 - val_accuracy: 0.9175\nEpoch 7/8\n61/61 [==============================] - 160s 3s/step - loss: 0.0668 - accuracy: 0.9810 - val_loss: 0.2844 - val_accuracy: 0.9165\nEpoch 8/8\n61/61 [==============================] - 110s 2s/step - loss: 0.0470 - accuracy: 0.9871 - val_loss: 0.2797 - val_accuracy: 0.9200\n",
     "output_type": "stream"
    },
    {
     "output_type": "execute_result",
     "execution_count": 8,
     "data": {
      "text/plain": "<keras.callbacks.History at 0x7f57169bcb90>"
     },
     "metadata": {}
    }
   ]
  },
  {
   "cell_type": "code",
   "metadata": {
    "cell_id": "9ba15f8c-0513-4663-bf4e-8c7fc44c6e94",
    "tags": [],
    "deepnote_to_be_reexecuted": false,
    "source_hash": "c61177b8",
    "execution_start": 1650283774369,
    "execution_millis": 10043,
    "deepnote_cell_type": "code",
    "deepnote_cell_height": 214.796875
   },
   "source": "with open('blstm.sav', 'wb') as files:\n    pickle.dump(model, files)",
   "execution_count": null,
   "outputs": [
    {
     "name": "stderr",
     "text": "WARNING:absl:Found untraced functions such as lstm_cell_1_layer_call_fn, lstm_cell_1_layer_call_and_return_conditional_losses, lstm_cell_2_layer_call_fn, lstm_cell_2_layer_call_and_return_conditional_losses while saving (showing 4 of 4). These functions will not be directly callable after loading.\nINFO:tensorflow:Assets written to: ram://bc868529-7acd-4a75-a701-3c96f4e16647/assets\nINFO:tensorflow:Assets written to: ram://bc868529-7acd-4a75-a701-3c96f4e16647/assets\nWARNING:absl:<keras.layers.recurrent.LSTMCell object at 0x7f5716a1fe10> has the same name 'LSTMCell' as a built-in Keras object. Consider renaming <class 'keras.layers.recurrent.LSTMCell'> to avoid naming conflicts when loading with `tf.keras.models.load_model`. If renaming is not possible, pass the object in the `custom_objects` parameter of the load function.\nWARNING:absl:<keras.layers.recurrent.LSTMCell object at 0x7f5716a20e10> has the same name 'LSTMCell' as a built-in Keras object. Consider renaming <class 'keras.layers.recurrent.LSTMCell'> to avoid naming conflicts when loading with `tf.keras.models.load_model`. If renaming is not possible, pass the object in the `custom_objects` parameter of the load function.\n",
     "output_type": "stream"
    }
   ]
  },
  {
   "cell_type": "code",
   "metadata": {
    "tags": [],
    "deepnote_to_be_reexecuted": false,
    "source_hash": "5d3e0e75",
    "execution_start": 1650283784010,
    "execution_millis": 7799,
    "cell_id": "00009-dcc20616-506f-4af7-a82a-4afc65f472bd",
    "deepnote_cell_type": "code",
    "deepnote_cell_height": 624
   },
   "source": "y_pred=model.predict(X_test)\ny_pred = np.where(y_pred>0.5, 1, 0)\n\nm = y_test.shape[0]\ntp=0\ntn=0\nfp=0\nfn=0\nfor i in range(m):\n    if (y_pred[i]==0 and (y_test[i]!=y_pred[i])):\n        fn+=1\n    elif (y_pred[i]==1 and (y_test[i]!=y_pred[i])):\n        fp+=1\n    elif (y_pred[i]==0 and (y_test[i]==y_pred[i])):\n        tn+=1\n    elif (y_pred[i]==1 and (y_test[i]==y_pred[i])):\n        tp+=1\n\nprecision=(tp)/(tp+fp)*100\nrecall=(tp)/(tp+fn)*100\nprint(\"Accuracy = \" + format((tp+tn)/(tp+tn+fp+fn)*100, '.2f') + \"%\")   \nprint(\"F1-Score = \" + format(((2*precision*recall)/(precision+recall)), '.2f') + \"%\")   \nprint(\"Recall = \" + format((tp)/(tp+fn)*100, '.2f') + \"%\")   \nprint(\"Precision = \" + format((tp)/(tp+fp)*100, '.2f') + \"%\")   \nprint(\"Specificity = \" + format((tn)/(tn+fp)*100, '.2f') + \"%\")  ",
   "execution_count": null,
   "outputs": [
    {
     "name": "stdout",
     "text": "Accuracy = 92.00%\nF1-Score = 91.60%\nRecall = 91.31%\nPrecision = 91.89%\nSpecificity = 92.62%\n",
     "output_type": "stream"
    }
   ]
  },
  {
   "cell_type": "code",
   "metadata": {
    "cell_id": "1a1a3de5-ece7-40b3-99be-acc285201763",
    "tags": [],
    "deepnote_to_be_reexecuted": false,
    "source_hash": "b623e53d",
    "execution_start": 1650283791810,
    "execution_millis": 2,
    "deepnote_cell_type": "code",
    "deepnote_cell_height": 81
   },
   "source": "",
   "execution_count": null,
   "outputs": []
  },
  {
   "cell_type": "code",
   "metadata": {
    "cell_id": "0784c133-1434-4cc8-ae74-27a545c372f3",
    "tags": [],
    "deepnote_to_be_reexecuted": false,
    "source_hash": "b623e53d",
    "execution_start": 1650283791813,
    "execution_millis": 3,
    "deepnote_cell_type": "code",
    "deepnote_cell_height": 81
   },
   "source": "",
   "execution_count": null,
   "outputs": []
  },
  {
   "cell_type": "code",
   "metadata": {
    "tags": [],
    "deepnote_to_be_reexecuted": false,
    "source_hash": "b623e53d",
    "execution_start": 1650283791819,
    "execution_millis": 0,
    "cell_id": "00010-44fa5bdd-12bb-4876-85db-f4f4f5edc46c",
    "deepnote_cell_type": "code",
    "deepnote_cell_height": 81
   },
   "source": "",
   "execution_count": null,
   "outputs": []
  },
  {
   "cell_type": "code",
   "metadata": {
    "tags": [],
    "deepnote_to_be_reexecuted": false,
    "source_hash": "79bc8afb",
    "execution_start": 1650283791824,
    "execution_millis": 697,
    "cell_id": "00011-4320ffc6-350c-4f55-b26d-b749f05d9a33",
    "deepnote_cell_type": "code",
    "deepnote_cell_height": 565.9375,
    "deepnote_output_heights": [
     null,
     272.140625
    ]
   },
   "source": "# Draw the confusion matrix\ndef plot_cmat(yte, ypred):\n    '''Plotting confusion matrix'''\n    skplt.plot_confusion_matrix(yte, ypred)\n    plt.grid(False)\n    plt.show()\n    \nplot_cmat(y_test, y_pred)",
   "execution_count": null,
   "outputs": [
    {
     "name": "stderr",
     "text": "/shared-libs/python3.7/py/lib/python3.7/site-packages/sklearn/utils/deprecation.py:87: FutureWarning: Function plot_confusion_matrix is deprecated; This will be removed in v0.4.0. Please use scikitplot.metrics.plot_confusion_matrix instead.\n  warnings.warn(msg, category=FutureWarning)\n",
     "output_type": "stream"
    },
    {
     "data": {
      "text/plain": "<Figure size 432x288 with 2 Axes>",
      "image/png": "[encoded data removed]"
     },
     "metadata": {
      "needs_background": "light",
      "image/png": {
       "width": 312,
       "height": 278
      }
     },
     "output_type": "display_data"
    }
   ]
  },
  {
   "cell_type": "code",
   "metadata": {
    "cell_id": "6a33739f-6886-4107-94b0-6f1d32584e86",
    "tags": [],
    "deepnote_to_be_reexecuted": false,
    "source_hash": "b623e53d",
    "execution_start": 1650283792113,
    "execution_millis": 1,
    "deepnote_cell_type": "code",
    "deepnote_cell_height": 81
   },
   "source": "",
   "execution_count": null,
   "outputs": []
  },
  {
   "cell_type": "markdown",
   "source": "<a style='text-decoration:none;line-height:16px;display:flex;color:#5B5B62;padding:10px;justify-content:end;' href='https://deepnote.com?utm_source=created-in-deepnote-cell&projectId=3a2c2a1b-c190-4238-a7b0-93cabb99b4e1' target=\"_blank\">\n<img alt='Created in deepnote.com' style='display:inline;max-height:16px;margin:0px;margin-right:7.5px;' src='data:image/svg+xml;base64,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' > </img>\nCreated in <span style='font-weight:600;margin-left:4px;'>Deepnote</span></a>",
   "metadata": {
    "tags": [],
    "created_in_deepnote_cell": true,
    "deepnote_cell_type": "markdown"
   }
  }
 ],
 "nbformat": 4,
 "nbformat_minor": 4,
 "metadata": {
  "kernelspec": {
   "display_name": "Python 3",
   "language": "python",
   "name": "python3"
  },
  "language_info": {
   "codemirror_mode": {
    "name": "ipython",
    "version": 3
   },
   "file_extension": ".py",
   "mimetype": "text/x-python",
   "name": "python",
   "nbconvert_exporter": "python",
   "pygments_lexer": "ipython3",
   "version": "3.8.5"
  },
  "deepnote_notebook_id": "0b85a494-d8a2-4380-aabf-ce693f1767fc",
  "deepnote": {},
  "deepnote_execution_queue": []
 }
}