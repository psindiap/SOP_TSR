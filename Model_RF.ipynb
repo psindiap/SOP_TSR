{
 "cells": [
  {
   "cell_type": "code",
   "metadata": {
    "tags": [],
    "deepnote_to_be_reexecuted": false,
    "source_hash": "7176ae63",
    "execution_start": 1650280303331,
    "execution_millis": 3065,
    "cell_id": "27fcb179-198e-4590-abf7-74f1f63de02d",
    "deepnote_cell_type": "code",
    "deepnote_cell_height": 172.796875
   },
   "source": "import nltk\nnltk.download('stopwords')\nimport pickle",
   "execution_count": null,
   "outputs": [
    {
     "name": "stderr",
     "text": "[nltk_data] Downloading package stopwords to /root/nltk_data...\n[nltk_data]   Package stopwords is already up-to-date!\n",
     "output_type": "stream"
    }
   ]
  },
  {
   "cell_type": "code",
   "metadata": {
    "tags": [],
    "deepnote_to_be_reexecuted": false,
    "source_hash": "f660047",
    "execution_start": 1650280306218,
    "execution_millis": 14880,
    "cell_id": "00001-ab2de1ed-e6a3-4df0-9e4d-a81ad3308927",
    "deepnote_cell_type": "code",
    "deepnote_cell_height": 319.796875
   },
   "source": "pip install gensim==3.8.3",
   "execution_count": null,
   "outputs": [
    {
     "name": "stdout",
     "text": "Requirement already satisfied: gensim==3.8.3 in /root/venv/lib/python3.7/site-packages (3.8.3)\nRequirement already satisfied: numpy>=1.11.3 in /shared-libs/python3.7/py/lib/python3.7/site-packages (from gensim==3.8.3) (1.21.5)\nRequirement already satisfied: scipy>=0.18.1 in /shared-libs/python3.7/py/lib/python3.7/site-packages (from gensim==3.8.3) (1.7.3)\nRequirement already satisfied: six>=1.5.0 in /shared-libs/python3.7/py-core/lib/python3.7/site-packages (from gensim==3.8.3) (1.16.0)\nRequirement already satisfied: smart-open>=1.8.1 in /shared-libs/python3.7/py/lib/python3.7/site-packages (from gensim==3.8.3) (5.2.1)\n\u001b[33mWARNING: You are using pip version 20.1.1; however, version 22.0.4 is available.\nYou should consider upgrading via the '/usr/local/bin/python -m pip install --upgrade pip' command.\u001b[0m\nNote: you may need to restart the kernel to use updated packages.\n",
     "output_type": "stream"
    }
   ]
  },
  {
   "cell_type": "code",
   "metadata": {
    "tags": [],
    "deepnote_to_be_reexecuted": false,
    "source_hash": "d2e0150d",
    "execution_start": 1650280321109,
    "execution_millis": 26228,
    "cell_id": "00002-d39026ee-eae6-4146-88ff-1774bbdac462",
    "deepnote_cell_type": "code",
    "deepnote_cell_height": 519.796875
   },
   "source": "!pip install np_utils==0.5.12.1",
   "execution_count": null,
   "outputs": [
    {
     "name": "stdout",
     "text": "Collecting np_utils==0.5.12.1\n  Downloading np_utils-0.5.12.1.tar.gz (61 kB)\n\u001b[K     |████████████████████████████████| 61 kB 7.0 MB/s \n\u001b[?25hRequirement already satisfied: numpy>=1.0 in /shared-libs/python3.7/py/lib/python3.7/site-packages (from np_utils==0.5.12.1) (1.21.5)\nRequirement already satisfied: future>=0.16 in /shared-libs/python3.7/py/lib/python3.7/site-packages (from np_utils==0.5.12.1) (0.18.2)\nBuilding wheels for collected packages: np-utils\n  Building wheel for np-utils (setup.py) ... \u001b[?25ldone\n\u001b[?25h  Created wheel for np-utils: filename=np_utils-0.5.12.1-py3-none-any.whl size=57125 sha256=77ffef18dde6eaebac874d8b6c9c70cf679a5ea82b2308d97efd33e431598c24\n  Stored in directory: /root/.cache/pip/wheels/8c/4e/ef/095c24693723c329f4cdc1079861cdbb2487d4b41b2496a4e7\nSuccessfully built np-utils\nInstalling collected packages: np-utils\n  Attempting uninstall: np-utils\n    Found existing installation: np-utils 0.6.0\n    Uninstalling np-utils-0.6.0:\n      Successfully uninstalled np-utils-0.6.0\nSuccessfully installed np-utils-0.5.12.1\n\u001b[33mWARNING: You are using pip version 20.1.1; however, version 22.0.4 is available.\nYou should consider upgrading via the '/root/venv/bin/python -m pip install --upgrade pip' command.\u001b[0m\n",
     "output_type": "stream"
    }
   ]
  },
  {
   "cell_type": "code",
   "metadata": {
    "tags": [],
    "deepnote_to_be_reexecuted": false,
    "source_hash": "c3ec9a55",
    "execution_start": 1650280347346,
    "execution_millis": 24949,
    "cell_id": "00003-b10de93e-55cf-4b66-96fe-850750587c65",
    "deepnote_cell_type": "code",
    "deepnote_cell_height": 539.796875
   },
   "source": "pip install scikit-plot",
   "execution_count": null,
   "outputs": [
    {
     "name": "stdout",
     "text": "Requirement already satisfied: scikit-plot in /root/venv/lib/python3.7/site-packages (0.3.7)\nRequirement already satisfied: joblib>=0.10 in /shared-libs/python3.7/py/lib/python3.7/site-packages (from scikit-plot) (1.1.0)\nRequirement already satisfied: scipy>=0.9 in /shared-libs/python3.7/py/lib/python3.7/site-packages (from scikit-plot) (1.7.3)\nRequirement already satisfied: scikit-learn>=0.18 in /shared-libs/python3.7/py/lib/python3.7/site-packages (from scikit-plot) (1.0.2)\nRequirement already satisfied: matplotlib>=1.4.0 in /shared-libs/python3.7/py/lib/python3.7/site-packages (from scikit-plot) (3.5.1)\nRequirement already satisfied: numpy<1.23.0,>=1.16.5 in /shared-libs/python3.7/py/lib/python3.7/site-packages (from scipy>=0.9->scikit-plot) (1.21.5)\nRequirement already satisfied: threadpoolctl>=2.0.0 in /shared-libs/python3.7/py/lib/python3.7/site-packages (from scikit-learn>=0.18->scikit-plot) (3.1.0)\nRequirement already satisfied: fonttools>=4.22.0 in /shared-libs/python3.7/py/lib/python3.7/site-packages (from matplotlib>=1.4.0->scikit-plot) (4.31.2)\nRequirement already satisfied: python-dateutil>=2.7 in /shared-libs/python3.7/py-core/lib/python3.7/site-packages (from matplotlib>=1.4.0->scikit-plot) (2.8.2)\nRequirement already satisfied: cycler>=0.10 in /shared-libs/python3.7/py/lib/python3.7/site-packages (from matplotlib>=1.4.0->scikit-plot) (0.11.0)\nRequirement already satisfied: packaging>=20.0 in /shared-libs/python3.7/py-core/lib/python3.7/site-packages (from matplotlib>=1.4.0->scikit-plot) (21.3)\nRequirement already satisfied: pillow>=6.2.0 in /shared-libs/python3.7/py/lib/python3.7/site-packages (from matplotlib>=1.4.0->scikit-plot) (9.0.1)\nRequirement already satisfied: kiwisolver>=1.0.1 in /shared-libs/python3.7/py/lib/python3.7/site-packages (from matplotlib>=1.4.0->scikit-plot) (1.4.0)\nRequirement already satisfied: pyparsing>=2.2.1 in /shared-libs/python3.7/py-core/lib/python3.7/site-packages (from matplotlib>=1.4.0->scikit-plot) (3.0.7)\nRequirement already satisfied: six>=1.5 in /shared-libs/python3.7/py-core/lib/python3.7/site-packages (from python-dateutil>=2.7->matplotlib>=1.4.0->scikit-plot) (1.16.0)\nRequirement already satisfied: typing-extensions; python_version < \"3.8\" in /shared-libs/python3.7/py-core/lib/python3.7/site-packages (from kiwisolver>=1.0.1->matplotlib>=1.4.0->scikit-plot) (4.1.1)\n\u001b[33mWARNING: You are using pip version 20.1.1; however, version 22.0.4 is available.\nYou should consider upgrading via the '/usr/local/bin/python -m pip install --upgrade pip' command.\u001b[0m\nNote: you may need to restart the kernel to use updated packages.\n",
     "output_type": "stream"
    }
   ]
  },
  {
   "cell_type": "code",
   "metadata": {
    "deepnote_to_be_reexecuted": false,
    "source_hash": "fbe30a2c",
    "execution_start": 1650280372323,
    "execution_millis": 35690,
    "cell_id": "00004-92f5f7d6-2828-4f9e-8579-29726ae9e2b0",
    "deepnote_cell_type": "code",
    "deepnote_cell_height": 550.796875
   },
   "source": "#!/usr/bin/env python3\n# -*- coding: utf-8 -*-\n\n\"\"\"\nFake news detection\nThe Keras version of neural network\n\"\"\"\n\nfrom  getEmbeddings import getEmbeddings\nimport matplotlib.pyplot as plt\nimport numpy as np\nfrom tensorflow import keras \nfrom tensorflow.keras import backend as K\nimport np_utils\nfrom tensorflow.keras.models import Sequential\nfrom tensorflow.keras.layers import Dense, Dropout, LSTM, Embedding, Input, RepeatVector\nfrom tensorflow.keras.optimizers import SGD\nfrom sklearn.preprocessing import LabelEncoder\nfrom sklearn.model_selection import train_test_split\nimport scikitplot.plotters as skplt\nimport os\n\n\n",
   "execution_count": null,
   "outputs": [
    {
     "name": "stderr",
     "text": "[nltk_data] Downloading package stopwords to /root/nltk_data...\n[nltk_data]   Package stopwords is already up-to-date!\n",
     "output_type": "stream"
    }
   ]
  },
  {
   "cell_type": "code",
   "metadata": {
    "deepnote_to_be_reexecuted": false,
    "source_hash": "5aacbbd9",
    "execution_start": 1650280408086,
    "execution_millis": 94,
    "cell_id": "00005-ae54c93b-77d6-47dd-9b04-649151df7dfd",
    "owner_user_id": "90d8e9a7-4cf7-49f2-843d-0f73d1ab4387",
    "deepnote_cell_type": "code",
    "deepnote_cell_height": 459
   },
   "source": "\n\n# Read the data\nif not os.path.isfile('./xtr.npy') or \\\n    not os.path.isfile('./xte.npy') or \\\n    not os.path.isfile('./ytr.npy') or \\\n    not os.path.isfile('./yte.npy'):\n    xtr,xte,ytr,yte = getEmbeddings(\"datasets/train.csv\")\n    np.save('./xtr', xtr)\n    np.save('./xte', xte)\n    np.save('./ytr', ytr)\n    np.save('./yte', yte)\n\nxtr = np.load('./xtr.npy')\nxte = np.load('./xte.npy')\nytr = np.load('./ytr.npy')\nyte = np.load('./yte.npy')\nytr = np.where(ytr<1, 1, 0)\nyte = np.where(yte<1, 1, 0)\n\n\n",
   "execution_count": null,
   "outputs": []
  },
  {
   "cell_type": "code",
   "metadata": {
    "deepnote_to_be_reexecuted": false,
    "source_hash": "b31fd813",
    "execution_start": 1650280408193,
    "execution_millis": 11,
    "cell_id": "00006-7a918143-26f2-4648-a7fe-4d071c9d7067",
    "deepnote_cell_type": "code",
    "deepnote_cell_height": 99
   },
   "source": "\n",
   "execution_count": null,
   "outputs": []
  },
  {
   "cell_type": "code",
   "metadata": {
    "tags": [],
    "deepnote_to_be_reexecuted": false,
    "source_hash": "b623e53d",
    "execution_start": 1650280408215,
    "execution_millis": 6652210,
    "cell_id": "00007-3baadcc5-a29c-42c4-8827-3aecced44406",
    "deepnote_cell_type": "code",
    "deepnote_cell_height": 81
   },
   "source": "",
   "execution_count": null,
   "outputs": []
  },
  {
   "cell_type": "code",
   "metadata": {
    "tags": [],
    "deepnote_to_be_reexecuted": false,
    "source_hash": "80be585c",
    "execution_start": 1650280408304,
    "execution_millis": 6652301,
    "cell_id": "00008-bc0faf12-ff33-4d46-aebe-107ff3247303",
    "deepnote_cell_type": "code",
    "deepnote_cell_height": 99
   },
   "source": "\nx_train, x_test, y_train, y_test = train_test_split(xtr, ytr, test_size=0.2, random_state=42)",
   "execution_count": null,
   "outputs": []
  },
  {
   "cell_type": "code",
   "metadata": {
    "tags": [],
    "deepnote_to_be_reexecuted": false,
    "source_hash": "b83bc2b5",
    "execution_start": 1650280408351,
    "execution_millis": 6652279,
    "cell_id": "00009-97a556ab-beaf-4664-9e0c-ce7eec69cf59",
    "deepnote_cell_type": "code",
    "deepnote_cell_height": 130
   },
   "source": "print(y_train)\n",
   "execution_count": null,
   "outputs": [
    {
     "name": "stdout",
     "text": "[1 1 1 ... 1 0 0]\n",
     "output_type": "stream"
    }
   ]
  },
  {
   "cell_type": "code",
   "metadata": {
    "tags": [],
    "deepnote_to_be_reexecuted": false,
    "source_hash": "94ff858f",
    "execution_start": 1650280408395,
    "execution_millis": 6652323,
    "cell_id": "00010-33c113db-bfdb-40db-97cc-aab56b50da21",
    "deepnote_cell_type": "code",
    "deepnote_cell_height": 394.796875
   },
   "source": "print(x_train.shape)\nprint(x_train)",
   "execution_count": null,
   "outputs": [
    {
     "name": "stdout",
     "text": "(6396, 300)\n[[-5.03919959e-01  1.08449662e+00 -4.89026368e-01 ... -2.45303378e-01\n   1.12291324e+00  7.47111142e-02]\n [-4.80423391e-01 -2.19838470e-02  6.18526697e-01 ... -4.21398729e-02\n  -1.61386162e-01  1.80588558e-01]\n [ 4.48938251e-01  2.33382747e-01  3.65224361e-01 ... -2.81943798e-01\n   1.60297647e-01 -4.97941732e-01]\n ...\n [ 6.69540644e-01  1.26391605e-01  7.31868371e-02 ... -1.72152132e-01\n   2.38453820e-01 -5.46325743e-01]\n [ 3.46862048e-01  1.73843265e-01  4.67469729e-02 ... -3.78008634e-01\n   7.87545800e-01  4.19207573e-01]\n [-1.03207669e-04 -3.29028029e-04 -2.33980216e-04 ...  9.15699813e-04\n  -1.17929478e-03 -4.37680574e-04]]\n",
     "output_type": "stream"
    }
   ]
  },
  {
   "cell_type": "code",
   "metadata": {
    "deepnote_to_be_reexecuted": false,
    "source_hash": "1779cf28",
    "execution_start": 1650280408396,
    "execution_millis": 451962,
    "cell_id": "00011-db4a2cd6-f03b-4353-840a-9d5bc6839988",
    "deepnote_cell_type": "code",
    "deepnote_cell_height": 243
   },
   "source": "from sklearn.ensemble import RandomForestRegressor\n# Instantiate model with 100 decision trees\nrf = RandomForestRegressor(n_estimators = 100, random_state = 42)\n# Train the model on training data\nrf.fit(x_train, y_train);\n\n\n\n \n",
   "execution_count": null,
   "outputs": []
  },
  {
   "cell_type": "code",
   "metadata": {
    "tags": [],
    "deepnote_to_be_reexecuted": false,
    "source_hash": "7b4931f9",
    "execution_start": 1650280860358,
    "execution_millis": 58,
    "cell_id": "00012-cb4b92cc-09be-41c5-8227-6bb53158dd56",
    "deepnote_cell_type": "code",
    "deepnote_cell_height": 117
   },
   "source": "model =rf \ny_pred=model.predict(x_test)\n",
   "execution_count": null,
   "outputs": []
  },
  {
   "cell_type": "code",
   "metadata": {
    "cell_id": "d498554a95284dc8a8627b89cba43f9f",
    "tags": [],
    "deepnote_to_be_reexecuted": false,
    "source_hash": "27a0c00a",
    "execution_start": 1650280860419,
    "execution_millis": 65,
    "deepnote_cell_type": "code",
    "deepnote_cell_height": 112
   },
   "source": "print(y_pred)",
   "execution_count": null,
   "outputs": [
    {
     "name": "stdout",
     "text": "[0.96 0.3  0.15 ... 0.5  0.88 0.47]\n",
     "output_type": "stream"
    }
   ]
  },
  {
   "cell_type": "code",
   "metadata": {
    "tags": [],
    "deepnote_to_be_reexecuted": false,
    "source_hash": "14523f58",
    "execution_start": 1650280860487,
    "execution_millis": 12,
    "cell_id": "00013-07498082-a771-4e95-ab50-50aedcac6256",
    "deepnote_cell_type": "code",
    "deepnote_cell_height": 130
   },
   "source": "y_pred = np.where(y_pred>0.5, 1, 0)\nprint(y_pred)",
   "execution_count": null,
   "outputs": [
    {
     "name": "stdout",
     "text": "[1 0 0 ... 0 1 0]\n",
     "output_type": "stream"
    }
   ]
  },
  {
   "cell_type": "code",
   "metadata": {
    "tags": [],
    "deepnote_to_be_reexecuted": false,
    "source_hash": "68d49991",
    "execution_start": 1650280860499,
    "execution_millis": 127,
    "cell_id": "00014-40a6e278-b0d9-484d-bd53-31ccc6c3bf9b",
    "deepnote_cell_type": "code",
    "deepnote_cell_height": 99
   },
   "source": "with open('rf.sav', 'wb') as files:\n    pickle.dump(model, files)",
   "execution_count": null,
   "outputs": []
  },
  {
   "cell_type": "code",
   "metadata": {
    "tags": [],
    "deepnote_to_be_reexecuted": false,
    "source_hash": "d973b3b1",
    "execution_start": 1650280860626,
    "execution_millis": 2,
    "cell_id": "00015-4a730e1d-a94c-4d2b-9340-67fa07241444",
    "deepnote_cell_type": "code",
    "deepnote_cell_height": 570
   },
   "source": "m = y_test.shape[0]\ntp=0\ntn=0\nfp=0\nfn=0\nfor i in range(m):\n    if (y_pred[i]==0 and (y_test[i]!=y_pred[i])):\n        fn+=1\n    elif (y_pred[i]==1 and (y_test[i]!=y_pred[i])):\n        fp+=1\n    elif (y_pred[i]==0 and (y_test[i]==y_pred[i])):\n        tn+=1\n    elif (y_pred[i]==1 and (y_test[i]==y_pred[i])):\n        tp+=1\n\nprecision=(tp)/(tp+fp)*100\nrecall=(tp)/(tp+fn)*100\nprint(\"Accuracy = \" + format((tp+tn)/(tp+tn+fp+fn)*100, '.2f') + \"%\")   \nprint(\"F1-Score = \" + format(((2*precision*recall)/(precision+recall)), '.2f') + \"%\")   \nprint(\"Recall = \" + format((tp)/(tp+fn)*100, '.2f') + \"%\")   \nprint(\"Precision = \" + format((tp)/(tp+fp)*100, '.2f') + \"%\")   \nprint(\"Specificity = \" + format((tn)/(tn+fp)*100, '.2f') + \"%\")  ",
   "execution_count": null,
   "outputs": [
    {
     "name": "stdout",
     "text": "Accuracy = 84.37%\nF1-Score = 83.29%\nRecall = 82.96%\nPrecision = 83.62%\nSpecificity = 85.61%\n",
     "output_type": "stream"
    }
   ]
  },
  {
   "cell_type": "code",
   "metadata": {
    "deepnote_to_be_reexecuted": false,
    "source_hash": "bba62323",
    "execution_start": 1650280860627,
    "execution_millis": 857,
    "cell_id": "00016-1e9c6091-4eb3-448f-91ce-7d0f5ae50262",
    "deepnote_cell_type": "code",
    "deepnote_cell_height": 583.9375,
    "deepnote_output_heights": [
     null,
     272.140625
    ]
   },
   "source": "# Draw the confusion matrix\ndef plot_cmat(yte, ypred):\n    '''Plotting confusion matrix'''\n    skplt.plot_confusion_matrix(yte, ypred)\n    plt.grid(False)\n    plt.show()\n    \nplot_cmat(y_test, y_pred)\n",
   "execution_count": null,
   "outputs": [
    {
     "name": "stderr",
     "text": "/shared-libs/python3.7/py/lib/python3.7/site-packages/sklearn/utils/deprecation.py:87: FutureWarning: Function plot_confusion_matrix is deprecated; This will be removed in v0.4.0. Please use scikitplot.metrics.plot_confusion_matrix instead.\n  warnings.warn(msg, category=FutureWarning)\n",
     "output_type": "stream"
    },
    {
     "data": {
      "text/plain": "<Figure size 432x288 with 2 Axes>",
      "image/png": "[encoded data removed]"
     },
     "metadata": {
      "needs_background": "light",
      "image/png": {
       "width": 312,
       "height": 278
      }
     },
     "output_type": "display_data"
    }
   ]
  },
  {
   "cell_type": "markdown",
   "source": "<a style='text-decoration:none;line-height:16px;display:flex;color:#5B5B62;padding:10px;justify-content:end;' href='https://deepnote.com?utm_source=created-in-deepnote-cell&projectId=3a2c2a1b-c190-4238-a7b0-93cabb99b4e1' target=\"_blank\">\n<img alt='Created in deepnote.com' style='display:inline;max-height:16px;margin:0px;margin-right:7.5px;' src='data:image/svg+xml;base64,PD94bWwgdmVyc2lvbj0iMS4wIiBlbmNvZGluZz0iVVRGLTgiPz4KPHN2ZyB3aWR0aD0iODBweCIgaGVpZ2h0PSI4MHB4IiB2aWV3Qm94PSIwIDAgODAgODAiIHZlcnNpb249IjEuMSIgeG1sbnM9Imh0dHA6Ly93d3cudzMub3JnLzIwMDAvc3ZnIiB4bWxuczp4bGluaz0iaHR0cDovL3d3dy53My5vcmcvMTk5OS94bGluayI+CiAgICA8IS0tIEdlbmVyYXRvcjogU2tldGNoIDU0LjEgKDc2NDkwKSAtIGh0dHBzOi8vc2tldGNoYXBwLmNvbSAtLT4KICAgIDx0aXRsZT5Hcm91cCAzPC90aXRsZT4KICAgIDxkZXNjPkNyZWF0ZWQgd2l0aCBTa2V0Y2guPC9kZXNjPgogICAgPGcgaWQ9IkxhbmRpbmciIHN0cm9rZT0ibm9uZSIgc3Ryb2tlLXdpZHRoPSIxIiBmaWxsPSJub25lIiBmaWxsLXJ1bGU9ImV2ZW5vZGQiPgogICAgICAgIDxnIGlkPSJBcnRib2FyZCIgdHJhbnNmb3JtPSJ0cmFuc2xhdGUoLTEyMzUuMDAwMDAwLCAtNzkuMDAwMDAwKSI+CiAgICAgICAgICAgIDxnIGlkPSJHcm91cC0zIiB0cmFuc2Zvcm09InRyYW5zbGF0ZSgxMjM1LjAwMDAwMCwgNzkuMDAwMDAwKSI+CiAgICAgICAgICAgICAgICA8cG9seWdvbiBpZD0iUGF0aC0yMCIgZmlsbD0iIzAyNjVCNCIgcG9pbnRzPSIyLjM3NjIzNzYyIDgwIDM4LjA0NzY2NjcgODAgNTcuODIxNzgyMiA3My44MDU3NTkyIDU3LjgyMTc4MjIgMzIuNzU5MjczOSAzOS4xNDAyMjc4IDMxLjY4MzE2ODMiPjwvcG9seWdvbj4KICAgICAgICAgICAgICAgIDxwYXRoIGQ9Ik0zNS4wMDc3MTgsODAgQzQyLjkwNjIwMDcsNzYuNDU0OTM1OCA0Ny41NjQ5MTY3LDcxLjU0MjI2NzEgNDguOTgzODY2LDY1LjI2MTk5MzkgQzUxLjExMjI4OTksNTUuODQxNTg0MiA0MS42NzcxNzk1LDQ5LjIxMjIyODQgMjUuNjIzOTg0Niw0OS4yMTIyMjg0IEMyNS40ODQ5Mjg5LDQ5LjEyNjg0NDggMjkuODI2MTI5Niw0My4yODM4MjQ4IDM4LjY0NzU4NjksMzEuNjgzMTY4MyBMNzIuODcxMjg3MSwzMi41NTQ0MjUgTDY1LjI4MDk3Myw2Ny42NzYzNDIxIEw1MS4xMTIyODk5LDc3LjM3NjE0NCBMMzUuMDA3NzE4LDgwIFoiIGlkPSJQYXRoLTIyIiBmaWxsPSIjMDAyODY4Ij48L3BhdGg+CiAgICAgICAgICAgICAgICA8cGF0aCBkPSJNMCwzNy43MzA0NDA1IEwyNy4xMTQ1MzcsMC4yNTcxMTE0MzYgQzYyLjM3MTUxMjMsLTEuOTkwNzE3MDEgODAsMTAuNTAwMzkyNyA4MCwzNy43MzA0NDA1IEM4MCw2NC45NjA0ODgyIDY0Ljc3NjUwMzgsNzkuMDUwMzQxNCAzNC4zMjk1MTEzLDgwIEM0Ny4wNTUzNDg5LDc3LjU2NzA4MDggNTMuNDE4MjY3Nyw3MC4zMTM2MTAzIDUzLjQxODI2NzcsNTguMjM5NTg4NSBDNTMuNDE4MjY3Nyw0MC4xMjg1NTU3IDM2LjMwMzk1NDQsMzcuNzMwNDQwNSAyNS4yMjc0MTcsMzcuNzMwNDQwNSBDMTcuODQzMDU4NiwzNy43MzA0NDA1IDkuNDMzOTE5NjYsMzcuNzMwNDQwNSAwLDM3LjczMDQ0MDUgWiIgaWQ9IlBhdGgtMTkiIGZpbGw9IiMzNzkzRUYiPjwvcGF0aD4KICAgICAgICAgICAgPC9nPgogICAgICAgIDwvZz4KICAgIDwvZz4KPC9zdmc+' > </img>\nCreated in <span style='font-weight:600;margin-left:4px;'>Deepnote</span></a>",
   "metadata": {
    "tags": [],
    "created_in_deepnote_cell": true,
    "deepnote_cell_type": "markdown"
   }
  }
 ],
 "nbformat": 4,
 "nbformat_minor": 4,
 "metadata": {
  "kernelspec": {
   "display_name": "Python 3",
   "language": "python",
   "name": "python3"
  },
  "language_info": {
   "codemirror_mode": {
    "name": "ipython",
    "version": 3
   },
   "file_extension": ".py",
   "mimetype": "text/x-python",
   "name": "python",
   "nbconvert_exporter": "python",
   "pygments_lexer": "ipython3",
   "version": "3.8.5"
  },
  "deepnote_notebook_id": "5c0488a9-ea3a-4c19-9866-c7e69af100bb",
  "deepnote": {},
  "deepnote_execution_queue": []
 }
}