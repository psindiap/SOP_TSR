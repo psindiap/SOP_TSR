{
 "cells": [
  {
   "cell_type": "code",
   "metadata": {
    "tags": [],
    "deepnote_to_be_reexecuted": false,
    "source_hash": "937d301f",
    "execution_start": 1650350236706,
    "execution_millis": 28762,
    "cell_id": "ce45be39-f2a3-47e6-9bc1-c7273252439a",
    "deepnote_cell_type": "code",
    "deepnote_cell_height": 861.1875,
    "deepnote_output_heights": [
     null,
     21.1875
    ]
   },
   "source": "!pip install Embeddings==0.0.8\n!pip install np_utils\n!pip install scikit-plot\n!pip install gensim==3.8.3\n!pip install vecstack\nimport nltk\nnltk.download('stopwords')",
   "execution_count": null,
   "outputs": [
    {
     "name": "stdout",
     "text": "Requirement already satisfied: Embeddings==0.0.8 in /root/venv/lib/python3.7/site-packages (0.0.8)\nRequirement already satisfied: tqdm in /shared-libs/python3.7/py/lib/python3.7/site-packages (from Embeddings==0.0.8) (4.63.0)\nRequirement already satisfied: numpy in /shared-libs/python3.7/py/lib/python3.7/site-packages (from Embeddings==0.0.8) (1.21.5)\nRequirement already satisfied: requests in /shared-libs/python3.7/py/lib/python3.7/site-packages (from Embeddings==0.0.8) (2.27.1)\nRequirement already satisfied: certifi>=2017.4.17 in /shared-libs/python3.7/py/lib/python3.7/site-packages (from requests->Embeddings==0.0.8) (2021.10.8)\nRequirement already satisfied: idna<4,>=2.5; python_version >= \"3\" in /shared-libs/python3.7/py-core/lib/python3.7/site-packages (from requests->Embeddings==0.0.8) (3.3)\nRequirement already satisfied: urllib3<1.27,>=1.21.1 in /shared-libs/python3.7/py/lib/python3.7/site-packages (from requests->Embeddings==0.0.8) (1.26.9)\nRequirement already satisfied: charset-normalizer~=2.0.0; python_version >= \"3\" in /shared-libs/python3.7/py-core/lib/python3.7/site-packages (from requests->Embeddings==0.0.8) (2.0.12)\n\u001b[33mWARNING: You are using pip version 20.1.1; however, version 22.0.4 is available.\nYou should consider upgrading via the '/root/venv/bin/python -m pip install --upgrade pip' command.\u001b[0m\nRequirement already satisfied: np_utils in /root/venv/lib/python3.7/site-packages (0.5.12.1)\nRequirement already satisfied: numpy>=1.0 in /shared-libs/python3.7/py/lib/python3.7/site-packages (from np_utils) (1.21.5)\nRequirement already satisfied: future>=0.16 in /shared-libs/python3.7/py/lib/python3.7/site-packages (from np_utils) (0.18.2)\n\u001b[33mWARNING: You are using pip version 20.1.1; however, version 22.0.4 is available.\nYou should consider upgrading via the '/root/venv/bin/python -m pip install --upgrade pip' command.\u001b[0m\nRequirement already satisfied: scikit-plot in /root/venv/lib/python3.7/site-packages (0.3.7)\nRequirement already satisfied: joblib>=0.10 in /shared-libs/python3.7/py/lib/python3.7/site-packages (from scikit-plot) (1.1.0)\nRequirement already satisfied: scikit-learn>=0.18 in /shared-libs/python3.7/py/lib/python3.7/site-packages (from scikit-plot) (1.0.2)\nRequirement already satisfied: scipy>=0.9 in /shared-libs/python3.7/py/lib/python3.7/site-packages (from scikit-plot) (1.7.3)\nRequirement already satisfied: matplotlib>=1.4.0 in /shared-libs/python3.7/py/lib/python3.7/site-packages (from scikit-plot) (3.5.1)\nRequirement already satisfied: threadpoolctl>=2.0.0 in /shared-libs/python3.7/py/lib/python3.7/site-packages (from scikit-learn>=0.18->scikit-plot) (3.1.0)\nRequirement already satisfied: numpy>=1.14.6 in /shared-libs/python3.7/py/lib/python3.7/site-packages (from scikit-learn>=0.18->scikit-plot) (1.21.5)\nRequirement already satisfied: cycler>=0.10 in /shared-libs/python3.7/py/lib/python3.7/site-packages (from matplotlib>=1.4.0->scikit-plot) (0.11.0)\nRequirement already satisfied: pillow>=6.2.0 in /shared-libs/python3.7/py/lib/python3.7/site-packages (from matplotlib>=1.4.0->scikit-plot) (9.0.1)\nRequirement already satisfied: pyparsing>=2.2.1 in /shared-libs/python3.7/py-core/lib/python3.7/site-packages (from matplotlib>=1.4.0->scikit-plot) (3.0.7)\nRequirement already satisfied: kiwisolver>=1.0.1 in /shared-libs/python3.7/py/lib/python3.7/site-packages (from matplotlib>=1.4.0->scikit-plot) (1.4.0)\nRequirement already satisfied: fonttools>=4.22.0 in /shared-libs/python3.7/py/lib/python3.7/site-packages (from matplotlib>=1.4.0->scikit-plot) (4.31.2)\nRequirement already satisfied: python-dateutil>=2.7 in /shared-libs/python3.7/py-core/lib/python3.7/site-packages (from matplotlib>=1.4.0->scikit-plot) (2.8.2)\nRequirement already satisfied: packaging>=20.0 in /shared-libs/python3.7/py-core/lib/python3.7/site-packages (from matplotlib>=1.4.0->scikit-plot) (21.3)\nRequirement already satisfied: typing-extensions; python_version < \"3.8\" in /shared-libs/python3.7/py-core/lib/python3.7/site-packages (from kiwisolver>=1.0.1->matplotlib>=1.4.0->scikit-plot) (4.1.1)\nRequirement already satisfied: six>=1.5 in /shared-libs/python3.7/py-core/lib/python3.7/site-packages (from python-dateutil>=2.7->matplotlib>=1.4.0->scikit-plot) (1.16.0)\n\u001b[33mWARNING: You are using pip version 20.1.1; however, version 22.0.4 is available.\nYou should consider upgrading via the '/root/venv/bin/python -m pip install --upgrade pip' command.\u001b[0m\nRequirement already satisfied: gensim==3.8.3 in /root/venv/lib/python3.7/site-packages (3.8.3)\nRequirement already satisfied: scipy>=0.18.1 in /shared-libs/python3.7/py/lib/python3.7/site-packages (from gensim==3.8.3) (1.7.3)\nRequirement already satisfied: smart-open>=1.8.1 in /shared-libs/python3.7/py/lib/python3.7/site-packages (from gensim==3.8.3) (5.2.1)\nRequirement already satisfied: numpy>=1.11.3 in /shared-libs/python3.7/py/lib/python3.7/site-packages (from gensim==3.8.3) (1.21.5)\nRequirement already satisfied: six>=1.5.0 in /shared-libs/python3.7/py-core/lib/python3.7/site-packages (from gensim==3.8.3) (1.16.0)\n\u001b[33mWARNING: You are using pip version 20.1.1; however, version 22.0.4 is available.\nYou should consider upgrading via the '/root/venv/bin/python -m pip install --upgrade pip' command.\u001b[0m\nRequirement already satisfied: vecstack in /root/venv/lib/python3.7/site-packages (0.4.0)\nRequirement already satisfied: scipy in /shared-libs/python3.7/py/lib/python3.7/site-packages (from vecstack) (1.7.3)\nRequirement already satisfied: numpy in /shared-libs/python3.7/py/lib/python3.7/site-packages (from vecstack) (1.21.5)\nRequirement already satisfied: scikit-learn>=0.18 in /shared-libs/python3.7/py/lib/python3.7/site-packages (from vecstack) (1.0.2)\nRequirement already satisfied: threadpoolctl>=2.0.0 in /shared-libs/python3.7/py/lib/python3.7/site-packages (from scikit-learn>=0.18->vecstack) (3.1.0)\nRequirement already satisfied: joblib>=0.11 in /shared-libs/python3.7/py/lib/python3.7/site-packages (from scikit-learn>=0.18->vecstack) (1.1.0)\n\u001b[33mWARNING: You are using pip version 20.1.1; however, version 22.0.4 is available.\nYou should consider upgrading via the '/root/venv/bin/python -m pip install --upgrade pip' command.\u001b[0m\n[nltk_data] Downloading package stopwords to /root/nltk_data...\n[nltk_data]   Package stopwords is already up-to-date!\n",
     "output_type": "stream"
    },
    {
     "output_type": "execute_result",
     "execution_count": 1,
     "data": {
      "text/plain": "True"
     },
     "metadata": {}
    }
   ]
  },
  {
   "cell_type": "code",
   "metadata": {
    "deepnote_to_be_reexecuted": false,
    "source_hash": "22802d86",
    "execution_start": 1650350265467,
    "execution_millis": 11750,
    "cell_id": "00001-e1a6bd00-8681-4b4b-ae54-00ade74628b3",
    "deepnote_cell_type": "code",
    "deepnote_cell_height": 798
   },
   "source": "#!/usr/bin/env python3\n# -*- coding: utf-8 -*-\n\n\"\"\"\nFake news detection\nLSTM model\n\"\"\"\nimport getEmbeddings\nimport matplotlib.pyplot as plt\nimport numpy as np\nfrom tensorflow import keras \nfrom tensorflow.keras import backend as K\nimport pandas as pd\nimport np_utils\nfrom sklearn.linear_model import LinearRegression\nfrom vecstack import stacking\nfrom tensorflow.keras.models import Sequential\nfrom tensorflow.keras.layers import Dense, Dropout, LSTM, Embedding, Input, RepeatVector,Bidirectional\nfrom tensorflow.keras.optimizers import SGD\nfrom sklearn.preprocessing import LabelEncoder\nfrom sklearn.model_selection import train_test_split\nimport scikitplot.plotters as skplt\nimport os\nfrom tensorflow.keras.datasets import imdb\nfrom tensorflow.keras.layers import Embedding\nfrom tensorflow.keras.preprocessing import sequence\nfrom collections import Counter\nimport matplotlib.pyplot as plt\nfrom sklearn.linear_model import LogisticRegression\n\n\n\ntop_words = 5000\nepoch_num = 8\nbatch_size = 128\n\n\n",
   "execution_count": null,
   "outputs": [
    {
     "name": "stderr",
     "text": "[nltk_data] Downloading package stopwords to /root/nltk_data...\n[nltk_data]   Package stopwords is already up-to-date!\n",
     "output_type": "stream"
    }
   ]
  },
  {
   "cell_type": "code",
   "metadata": {
    "tags": [],
    "deepnote_to_be_reexecuted": false,
    "source_hash": "549066d0",
    "execution_start": 1650350277226,
    "execution_millis": 6,
    "cell_id": "00002-710dcf9c-57d5-4f7a-976b-bfb39468636a",
    "deepnote_cell_type": "code",
    "deepnote_cell_height": 81
   },
   "source": "import pickle",
   "execution_count": null,
   "outputs": []
  },
  {
   "cell_type": "code",
   "metadata": {
    "tags": [],
    "deepnote_to_be_reexecuted": false,
    "source_hash": "87ad8d3d",
    "execution_start": 1650350277244,
    "execution_millis": 3644,
    "owner_user_id": "90d8e9a7-4cf7-49f2-843d-0f73d1ab4387",
    "cell_id": "00003-4dd9f3e2-77b4-4cc7-8f6b-286081b94e1c",
    "deepnote_cell_type": "code",
    "deepnote_cell_height": 657
   },
   "source": "from sklearn.model_selection import train_test_split\ntrain_ratio = 0.70\nvalidation_ratio = 0.20\ntest_ratio = 0.10\n\n\npath = 'datasets/news_articles.csv'\nvector_dimension=300\n\ndata = pd.read_csv(path)\n\nmissing_rows = []\nfor i in range(len(data)):\n        if data.loc[i, 'text'] != data.loc[i, 'text']:\n            missing_rows.append(i)\ndata = data.drop(missing_rows).reset_index().drop(['index','id'],axis=1)\n\nfor i in range(len(data)):\n        data.loc[i, 'text'] = getEmbeddings.cleanup(data.loc[i,'text'])\n\ndata = data.sample(frac=1).reset_index(drop=True)\n\nx_l = data.loc[:,'text'].values\ny_l = data.loc[:,'label'].values\ny_l = np.where(y_l==\"Real\", 0, 1)\n\n\nxtr, xte, y_train, y_test = train_test_split(\n    x_l, y_l, test_size=1 - train_ratio)\n \n# performing test validation split\nxvl, xte, y_val, y_test = train_test_split(\n    xte, y_test, test_size=test_ratio/(test_ratio + validation_ratio))",
   "execution_count": null,
   "outputs": []
  },
  {
   "cell_type": "code",
   "metadata": {
    "deepnote_to_be_reexecuted": false,
    "source_hash": "aca9103b",
    "execution_start": 1650350280902,
    "execution_millis": 432,
    "cell_id": "00004-5504a335-558f-4e7d-ac4e-548f79387900",
    "deepnote_cell_type": "code",
    "deepnote_cell_height": 477
   },
   "source": "\n# # Read the text data\n# if not os.path.isfile('./xtr_shuffled.npy') or \\\n#     not os.path.isfile('./xte_shuffled.npy') or \\\n#     not os.path.isfile('./ytr_shuffled.npy') or \\\n#     not os.path.isfile('./yte_shuffled.npy'):\n#     getEmbeddings.clean_data()\n\n\n# xtr = np.load('./xtr_shuffled.npy', allow_pickle=True)\n# xte = np.load('./xte_shuffled.npy', allow_pickle=True)\n# y_train = np.load('./ytr_shuffled.npy', allow_pickle=True)\n# y_test = np.load('./yte_shuffled.npy', allow_pickle=True)\n\ncnt = Counter()\nx_train = []\nfor x in xtr:\n    x_train.append(x.split())\n    for word in x_train[-1]:\n        cnt[word] += 1  \n\n\n",
   "execution_count": null,
   "outputs": []
  },
  {
   "cell_type": "code",
   "metadata": {
    "deepnote_to_be_reexecuted": false,
    "source_hash": "18ed0683",
    "execution_start": 1650350281341,
    "execution_millis": 49,
    "cell_id": "00005-7fb1c4d1-3deb-43d8-afe5-f54f4f1087a6",
    "deepnote_cell_type": "code",
    "deepnote_cell_height": 225
   },
   "source": "# Storing most common words\nmost_common = cnt.most_common(top_words + 1)\nword_bank = {}\nid_num = 1\nfor word, freq in most_common:\n    word_bank[word] = id_num\n    id_num += 1\n\n",
   "execution_count": null,
   "outputs": []
  },
  {
   "cell_type": "code",
   "metadata": {
    "deepnote_to_be_reexecuted": false,
    "source_hash": "371e1a87",
    "execution_start": 1650350281398,
    "execution_millis": 442,
    "cell_id": "00006-3b663cd6-9ee0-4c26-b9bb-3a6fc7878a35",
    "deepnote_cell_type": "code",
    "deepnote_cell_height": 315
   },
   "source": "# Encode the sentences\nfor news in x_train:\n    i = 0\n    while i < len(news):\n        if news[i] in word_bank:\n            news[i] = word_bank[news[i]]\n            i += 1\n        else:\n            del news[i]\n\ny_train = list(y_train)\ny_test = list(y_test)\ny_val=list(y_val)\n",
   "execution_count": null,
   "outputs": []
  },
  {
   "cell_type": "code",
   "metadata": {
    "deepnote_to_be_reexecuted": false,
    "source_hash": "fb6a6ecc",
    "execution_start": 1650350281840,
    "execution_millis": 315,
    "cell_id": "00007-66ea30ca-e748-40cf-ae62-21ff1c79687a",
    "deepnote_cell_type": "code",
    "deepnote_cell_height": 963
   },
   "source": "# Delete the short news\ni = 0\nwhile i < len(x_train):\n    if len(x_train[i]) > 10:\n        i += 1\n    else:\n        del x_train[i]\n        del y_train[i]\n\n# Generating test data\nx_test = []\nfor x in xte:\n    x_test.append(x.split())\n\n# Encode the sentences\nfor news in x_test:\n    i = 0\n    while i < len(news):\n        if news[i] in word_bank:\n            news[i] = word_bank[news[i]]\n            i += 1\n        else:\n            del news[i]\n\n\n# Generating val data\nx_val = []\nfor x in xvl:\n    x_val.append(x.split())\n\n# Encode the sentences\nfor news in x_val:\n    i = 0\n    while i < len(news):\n        if news[i] in word_bank:\n            news[i] = word_bank[news[i]]\n            i += 1\n        else:\n            del news[i]\n\n# Truncate and pad input sequences\nmax_review_length = 300\nX_train = sequence.pad_sequences(x_train, maxlen=max_review_length)\nX_test = sequence.pad_sequences(x_test, maxlen=max_review_length)\nX_val = sequence.pad_sequences(x_val, maxlen=max_review_length)\n\n# Convert to numpy arrays\ny_train = np.array(y_train)\ny_test = np.array(y_test)\ny_val=np.array(y_val)",
   "execution_count": null,
   "outputs": []
  },
  {
   "cell_type": "code",
   "metadata": {
    "tags": [],
    "deepnote_to_be_reexecuted": false,
    "source_hash": "fb199d4f",
    "execution_start": 1650350282160,
    "execution_millis": 14,
    "cell_id": "00008-5a4e8e3f-ea02-40f6-b236-9d984bc55efa",
    "deepnote_cell_type": "code",
    "deepnote_cell_height": 188
   },
   "source": "print(X_train.shape)\nprint(X_test.shape)\nprint(y_test.shape)",
   "execution_count": null,
   "outputs": [
    {
     "name": "stdout",
     "text": "(1357, 300)\n(206, 300)\n(206,)\n",
     "output_type": "stream"
    }
   ]
  },
  {
   "cell_type": "code",
   "metadata": {
    "tags": [],
    "deepnote_to_be_reexecuted": false,
    "source_hash": "d9e61964",
    "execution_start": 1650350282180,
    "execution_millis": 18499,
    "cell_id": "00009-607b02f8-2a62-4914-8a92-eedf50711110",
    "deepnote_cell_type": "code",
    "deepnote_cell_height": 207
   },
   "source": "\nwith open('lstm.sav' , 'rb') as f:\n    model_1 = pickle.load(f)\nwith open('blstm.sav' , 'rb') as f:\n    model_2 = pickle.load(f)\n \n# putting all base model objects in one list\nall_models = [model_1, model_2]",
   "execution_count": null,
   "outputs": []
  },
  {
   "cell_type": "code",
   "metadata": {
    "tags": [],
    "deepnote_to_be_reexecuted": false,
    "source_hash": "69054a29",
    "execution_start": 1650350300685,
    "execution_millis": 218763,
    "cell_id": "00010-9674b253-0627-4fb6-8e16-0a4728c0bdfb",
    "deepnote_cell_type": "code",
    "deepnote_cell_height": 590
   },
   "source": "# training first model\nmodel_1.fit(X_train, y_train)\nval_pred_1 = model_1.predict(X_val)\ntest_pred_1 = model_1.predict(X_test)\n \n# converting to dataframe\nval_pred_1 = pd.DataFrame(val_pred_1)\ntest_pred_1 = pd.DataFrame(test_pred_1)\nprint(val_pred_1)\n\n\n",
   "execution_count": null,
   "outputs": [
    {
     "name": "stdout",
     "text": "43/43 [==============================] - 210s 5s/step - loss: 0.6480 - accuracy: 0.6352\n            0\n0    0.552314\n1    0.655470\n2    0.504447\n3    0.523276\n4    0.675721\n..        ...\n405  0.497614\n406  0.662251\n407  0.587859\n408  0.698442\n409  0.430837\n\n[410 rows x 1 columns]\n",
     "output_type": "stream"
    }
   ]
  },
  {
   "cell_type": "code",
   "metadata": {
    "tags": [],
    "deepnote_to_be_reexecuted": false,
    "source_hash": "9610e3f0",
    "execution_start": 1650350519454,
    "execution_millis": 3,
    "cell_id": "00011-752aaf1a-2bae-4c63-8ddd-6034d1d0be48",
    "deepnote_cell_type": "code",
    "deepnote_cell_height": 206
   },
   "source": "\nprint(test_pred_1.shape)\nprint(val_pred_1.shape)\nprint(len(x))",
   "execution_count": null,
   "outputs": [
    {
     "name": "stdout",
     "text": "(206, 1)\n(410, 1)\n138\n",
     "output_type": "stream"
    }
   ]
  },
  {
   "cell_type": "code",
   "metadata": {
    "tags": [],
    "deepnote_to_be_reexecuted": false,
    "source_hash": "fbcbce6d",
    "execution_start": 1650350519461,
    "execution_millis": 35830,
    "cell_id": "00012-f89b6317-5c72-4372-956a-907226408524",
    "deepnote_cell_type": "code",
    "deepnote_cell_height": 238
   },
   "source": "# training second model\nmodel_2.fit(X_train, y_train)\nval_pred_2 = model_2.predict(X_val)\ntest_pred_2 = model_2.predict(X_test)\n \n# converting to dataframe\nval_pred_2 = pd.DataFrame(val_pred_2)\ntest_pred_2 = pd.DataFrame(test_pred_2)",
   "execution_count": null,
   "outputs": [
    {
     "name": "stdout",
     "text": "43/43 [==============================] - 33s 628ms/step - loss: 0.6779 - accuracy: 0.5991\n",
     "output_type": "stream"
    }
   ]
  },
  {
   "cell_type": "code",
   "metadata": {
    "tags": [],
    "deepnote_to_be_reexecuted": false,
    "source_hash": "9e29b07f",
    "execution_start": 1650350555295,
    "execution_millis": 48666509,
    "cell_id": "00013-a4aefa7c-445b-4f5c-93f6-5c8e5597a732",
    "deepnote_cell_type": "code",
    "deepnote_cell_height": 171
   },
   "source": "X_val = pd.DataFrame(X_val)\nval_pred_1 = pd.DataFrame(val_pred_1)\nval_pred_2 = pd.DataFrame(val_pred_2)\ndf_val = pd.concat([X_val, val_pred_1, val_pred_2], axis=1)\ndf_val=np.array(df_val)\n",
   "execution_count": null,
   "outputs": []
  },
  {
   "cell_type": "code",
   "metadata": {
    "tags": [],
    "deepnote_to_be_reexecuted": false,
    "source_hash": "5b428b84",
    "execution_start": 1650350555302,
    "execution_millis": 48666496,
    "cell_id": "00014-6933ac25-6c19-4109-bbc5-056426d8197e",
    "deepnote_cell_type": "code",
    "deepnote_cell_height": 153
   },
   "source": "X_test = pd.DataFrame(X_test)\ntest_pred_1 = pd.DataFrame(test_pred_1)\ntest_pred_2 = pd.DataFrame(test_pred_2)\ndf_test = pd.concat([X_test, test_pred_1, test_pred_2], axis=1)\ndf_test=np.array(df_test)",
   "execution_count": null,
   "outputs": []
  },
  {
   "cell_type": "code",
   "metadata": {
    "tags": [],
    "deepnote_to_be_reexecuted": false,
    "source_hash": "12335e69",
    "execution_start": 1650350555306,
    "execution_millis": 7,
    "cell_id": "00015-57f02cc6-908c-4e39-80b9-117523cc43f2",
    "deepnote_cell_type": "code",
    "deepnote_cell_height": 610
   },
   "source": "print(df_val)\nprint(y_val)",
   "execution_count": null,
   "outputs": [
    {
     "name": "stdout",
     "text": "[[0.00000000e+00 0.00000000e+00 0.00000000e+00 ... 2.21000000e+02\n  5.52313685e-01 5.71286738e-01]\n [0.00000000e+00 0.00000000e+00 0.00000000e+00 ... 3.67000000e+02\n  6.55469596e-01 6.49541974e-01]\n [2.07000000e+02 2.23600000e+03 1.66600000e+03 ... 1.78300000e+03\n  5.04447341e-01 3.95296156e-01]\n ...\n [0.00000000e+00 0.00000000e+00 0.00000000e+00 ... 1.74200000e+03\n  5.87859094e-01 7.06915319e-01]\n [0.00000000e+00 0.00000000e+00 0.00000000e+00 ... 2.30300000e+03\n  6.98441744e-01 6.41879082e-01]\n [0.00000000e+00 0.00000000e+00 0.00000000e+00 ... 4.18000000e+02\n  4.30836916e-01 5.27315378e-01]]\n[1 1 0 1 1 0 1 1 0 0 1 1 1 0 1 1 0 0 1 0 1 1 0 0 0 1 0 1 1 1 1 1 0 0 1 1 0\n 0 1 1 0 0 1 0 1 1 1 1 0 1 0 0 0 1 0 0 0 1 0 0 0 1 1 1 0 1 0 0 1 1 0 0 0 0\n 1 0 1 0 1 1 0 1 0 0 1 1 1 0 0 0 0 0 0 0 1 1 1 1 0 0 1 0 1 0 0 1 1 1 1 1 1\n 0 1 0 1 0 1 0 0 1 0 0 1 0 1 1 1 0 0 0 1 0 1 1 1 1 1 1 1 1 1 0 1 0 0 1 1 0\n 1 0 1 1 1 1 0 0 1 1 0 1 0 1 1 0 1 1 1 1 1 1 1 1 0 1 1 1 1 0 0 0 1 1 1 0 0\n 1 0 1 1 1 1 1 1 1 1 1 1 1 0 1 0 0 0 1 1 1 0 1 1 1 1 0 1 1 1 0 0 0 1 0 1 1\n 0 1 1 0 0 1 0 0 1 0 1 0 1 0 1 1 1 0 0 1 0 1 0 0 1 0 0 0 0 1 1 1 1 1 0 1 0\n 1 1 0 1 1 0 1 1 1 0 1 1 0 1 0 1 0 1 1 1 0 0 1 1 0 1 0 1 1 0 0 0 1 0 0 1 0\n 0 1 0 1 1 0 1 0 1 0 1 1 1 1 1 1 1 0 1 1 0 1 1 1 1 1 0 0 0 0 1 1 0 1 1 0 0\n 0 0 1 1 0 1 1 0 0 1 0 1 1 1 1 0 1 1 1 1 0 1 1 1 1 0 1 1 1 1 1 0 1 1 1 0 0\n 1 0 1 1 1 0 1 1 0 1 0 0 1 0 0 1 0 1 1 1 1 1 0 0 1 0 0 1 1 1 1 1 1 1 1 1 1\n 1 1 0]\n",
     "output_type": "stream"
    }
   ]
  },
  {
   "cell_type": "code",
   "metadata": {
    "tags": [],
    "deepnote_to_be_reexecuted": false,
    "source_hash": "b232bdf",
    "execution_start": 1650350555319,
    "execution_millis": 57,
    "cell_id": "00016-96c02e95-b5cc-420f-ae2d-6ed842a22feb",
    "deepnote_cell_type": "code",
    "deepnote_cell_height": 207
   },
   "source": "# concatenating validation dataset along with all the predicted validation data (meta features)\n# making the final model using the meta features\n# final_model=LogisticRegression(solver='liblinear', random_state=0)\nfinal_model = LinearRegression()\nfinal_model.fit(df_val, y_val)\n \n# getting the final output\nfinal_pred = final_model.predict(df_test)",
   "execution_count": null,
   "outputs": []
  },
  {
   "cell_type": "code",
   "metadata": {
    "tags": [],
    "deepnote_to_be_reexecuted": false,
    "source_hash": "4e41e03c",
    "execution_start": 1650350555379,
    "execution_millis": 4,
    "cell_id": "00017-dcfb47ae-52cc-4398-9b0f-44f77cbd031d",
    "deepnote_cell_type": "code",
    "deepnote_cell_height": 351
   },
   "source": "\n \n# # computing the stack features\n# s_train, s_test = stacking(all_models, X_train, y_train, X_test,regression = True, n_folds = 4, shuffle=True )\n \n# # initializing the second-level model\n# final_model = model_1\n \n# # fitting the second level model with stack features\n# final_model = final_model.fit(s_train, y_train)\n \n# # predicting the final output using stacking\n# pred_final = final_model.predict(X_test)\n \n# # printing the root mean squared error between real value and predicted value\n# # print(mean_squared_error(y_test, pred_final))",
   "execution_count": null,
   "outputs": []
  },
  {
   "cell_type": "code",
   "metadata": {
    "tags": [],
    "deepnote_to_be_reexecuted": false,
    "source_hash": "cfdf59da",
    "execution_start": 1650350555389,
    "execution_millis": 4,
    "cell_id": "00018-a65cd656-534d-4a20-afb5-3d64f664d611",
    "deepnote_cell_type": "code",
    "deepnote_cell_height": 99
   },
   "source": "y_pred = final_pred\ny_pred = np.where(y_pred>0.5, 1, 0)",
   "execution_count": null,
   "outputs": []
  },
  {
   "cell_type": "code",
   "metadata": {
    "tags": [],
    "deepnote_to_be_reexecuted": false,
    "source_hash": "2a99353b",
    "execution_start": 1650350555441,
    "execution_millis": 1,
    "cell_id": "00019-a298635e-7953-4af6-9216-602a25dee747",
    "deepnote_cell_type": "code",
    "deepnote_cell_height": 701
   },
   "source": "print(final_pred)",
   "execution_count": null,
   "outputs": [
    {
     "name": "stdout",
     "text": "[  2.20283611  -0.82881397   0.5087155   -0.59811726   0.55583875\n  -4.99750488   0.73265188   0.71987454   8.12056164   3.46919637\n   3.4476243    7.40519412   1.3450734    0.77654689   0.33863362\n  10.12536045   5.60808731   0.64669139  -0.05270402   0.65678938\n   0.09679867   0.67482199  -0.29921214  17.11430931   0.39939304\n  -1.12326639   0.71550838   0.43698827  -1.47429403  -8.1316471\n   1.1081415    0.49356832   0.68776562   3.71191074   2.22126357\n   0.85832189   0.41271646   5.08307488   0.75262844  -1.16526875\n   0.95670479   1.20796239   0.45041041   0.74841499   9.08471048\n   0.36884459   0.82389603   0.3603207    2.04704119   3.25192022\n   0.40608904   1.1526293   -0.06608354   1.34215185   8.91874228\n  -1.34755101  -1.7115692    2.04618438 -12.0338007    2.69955039\n   1.58753878   1.42030215   1.69242692   0.13612949   0.48915825\n   2.16441192   0.54455002   1.65231073   0.75547969   0.76970154\n  -1.48303187   0.3282016    0.64326229   0.73341303   0.78621524\n   0.57391315  -1.83824676   0.38503571   2.50414278  -1.24135583\n   1.54553876   0.91127467   3.238274     0.74540447  -7.14338028\n  -4.8723697   -3.16264927   1.09938759   0.91642415   1.10709623\n   2.91273115   1.72476111  -6.02602922   2.68852741   0.69073874\n  10.02118062   0.42553274   4.87236311  12.29231686   0.71929325\n   2.77794323   1.85014828   0.19665332  -2.13352184   2.10183321\n   0.706179     0.42158909   0.36267      0.6058997   -2.2235787\n   0.67257276   0.89185593   0.56957871   0.40410595   1.61805112\n   0.81212261   0.85999497  -1.09113942  -6.70063319   8.85157343\n   0.34337035   6.79182204   1.71599444   0.96671531  -1.55690815\n   0.51867086   0.62943051   4.82537748   4.21033946   0.95240593\n   1.56595423   0.44978099   0.86688919   2.04618438   0.59693729\n   0.52581909  -1.20798613   0.37698323   5.2362164    0.22052936\n  -0.22658709  -8.79074013   0.6960654   -3.3911813    4.28301925\n  -1.21861709   0.5931576    0.43566987   0.75635482  -3.54923265\n   0.94433444   0.04377045   2.8346876   -0.15066543   1.89613016\n  -0.8974373    0.81707574   7.72462406  -0.03638033  -0.06888957\n  -5.51995563   5.89374998   0.45384752   1.52322625  -0.21162788\n   1.50691528   0.80923879   0.85465907   1.07846224   4.52198518\n   0.32906812   0.75511629   1.17507289   0.73007603   2.86146908\n   0.46459528   0.37578262   0.42815356   1.31065449   0.43728703\n  -4.05845763   0.27159463  -1.37349621  -0.87807373  -1.03897252\n   1.05656899   0.92861947  -1.19961863   4.98867804   0.29300414\n  -0.80476773  -0.53642071  -1.69496319  -4.33850038  -4.61915635\n  -1.71808403   2.55751374   0.65834711   1.20283554   0.34025331\n   1.09477011   2.64234295   4.94582972   0.78342374  -1.48755086\n   1.11610963]\n",
     "output_type": "stream"
    }
   ]
  },
  {
   "cell_type": "code",
   "metadata": {
    "tags": [],
    "deepnote_to_be_reexecuted": false,
    "source_hash": "d973b3b1",
    "execution_start": 1650350555442,
    "execution_millis": 3,
    "cell_id": "00020-9c8a40a5-3c5e-4b2a-92b5-4ff191d774aa",
    "deepnote_cell_type": "code",
    "deepnote_cell_height": 570
   },
   "source": "m = y_test.shape[0]\ntp=0\ntn=0\nfp=0\nfn=0\nfor i in range(m):\n    if (y_pred[i]==0 and (y_test[i]!=y_pred[i])):\n        fn+=1\n    elif (y_pred[i]==1 and (y_test[i]!=y_pred[i])):\n        fp+=1\n    elif (y_pred[i]==0 and (y_test[i]==y_pred[i])):\n        tn+=1\n    elif (y_pred[i]==1 and (y_test[i]==y_pred[i])):\n        tp+=1\n\nprecision=(tp)/(tp+fp)*100\nrecall=(tp)/(tp+fn)*100\nprint(\"Accuracy = \" + format((tp+tn)/(tp+tn+fp+fn)*100, '.2f') + \"%\")   \nprint(\"F1-Score = \" + format(((2*precision*recall)/(precision+recall)), '.2f') + \"%\")   \nprint(\"Recall = \" + format((tp)/(tp+fn)*100, '.2f') + \"%\")   \nprint(\"Precision = \" + format((tp)/(tp+fp)*100, '.2f') + \"%\")   \nprint(\"Specificity = \" + format((tn)/(tn+fp)*100, '.2f') + \"%\")  ",
   "execution_count": null,
   "outputs": [
    {
     "name": "stdout",
     "text": "Accuracy = 57.77%\nF1-Score = 66.15%\nRecall = 63.43%\nPrecision = 69.11%\nSpecificity = 47.22%\n",
     "output_type": "stream"
    }
   ]
  },
  {
   "cell_type": "code",
   "metadata": {
    "tags": [],
    "deepnote_to_be_reexecuted": false,
    "source_hash": "714f65a4",
    "execution_start": 1650350555444,
    "execution_millis": 272,
    "cell_id": "00021-c95aaf8a-9b79-443a-8b04-5db1094445e8",
    "deepnote_cell_type": "code",
    "deepnote_cell_height": 573.796875,
    "deepnote_output_heights": [
     null,
     280
    ]
   },
   "source": "# Draw the confusion matrix\ndef plot_cmat(y_test, ypred):\n    '''Plotting confusion matrix'''\n    skplt.plot_confusion_matrix(y_test, ypred)\n    plt.grid(False)\n    plt.show()\n    \nplot_cmat(y_test, y_pred)",
   "execution_count": null,
   "outputs": [
    {
     "name": "stderr",
     "text": "/shared-libs/python3.7/py/lib/python3.7/site-packages/sklearn/utils/deprecation.py:87: FutureWarning: Function plot_confusion_matrix is deprecated; This will be removed in v0.4.0. Please use scikitplot.metrics.plot_confusion_matrix instead.\n  warnings.warn(msg, category=FutureWarning)\n",
     "output_type": "stream"
    },
    {
     "data": {
      "text/plain": "<Figure size 432x288 with 2 Axes>",
      "image/png": "[encoded data removed]"
     },
     "metadata": {
      "needs_background": "light",
      "image/png": {
       "width": 306,
       "height": 278
      }
     },
     "output_type": "display_data"
    }
   ]
  },
  {
   "cell_type": "markdown",
   "source": "<a style='text-decoration:none;line-height:16px;display:flex;color:#5B5B62;padding:10px;justify-content:end;' href='https://deepnote.com?utm_source=created-in-deepnote-cell&projectId=3a2c2a1b-c190-4238-a7b0-93cabb99b4e1' target=\"_blank\">\n<img alt='Created in deepnote.com' style='display:inline;max-height:16px;margin:0px;margin-right:7.5px;' src='data:image/svg+xml;base64,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' > </img>\nCreated in <span style='font-weight:600;margin-left:4px;'>Deepnote</span></a>",
   "metadata": {
    "tags": [],
    "created_in_deepnote_cell": true,
    "deepnote_cell_type": "markdown"
   }
  }
 ],
 "nbformat": 4,
 "nbformat_minor": 4,
 "metadata": {
  "kernelspec": {
   "display_name": "Python 3",
   "language": "python",
   "name": "python3"
  },
  "language_info": {
   "codemirror_mode": {
    "name": "ipython",
    "version": 3
   },
   "file_extension": ".py",
   "mimetype": "text/x-python",
   "name": "python",
   "nbconvert_exporter": "python",
   "pygments_lexer": "ipython3",
   "version": "3.8.5"
  },
  "deepnote_notebook_id": "c6c29491-aa69-4fc3-8aa0-99988206466c",
  "deepnote": {
   "is_reactive": false
  },
  "deepnote_execution_queue": []
 }
}