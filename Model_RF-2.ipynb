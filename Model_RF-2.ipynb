{
 "cells": [
  {
   "cell_type": "code",
   "metadata": {
    "tags": [],
    "deepnote_to_be_reexecuted": false,
    "source_hash": "7176ae63",
    "execution_start": 1650316900219,
    "execution_millis": 2387,
    "cell_id": "7d34f3c2-4596-4d4d-bb55-db396305e293",
    "deepnote_cell_type": "code",
    "deepnote_cell_height": 168
   },
   "source": "import nltk\nnltk.download('stopwords')\nimport pickle",
   "outputs": [
    {
     "name": "stderr",
     "text": "[nltk_data] Downloading package stopwords to /root/nltk_data...\n[nltk_data]   Package stopwords is already up-to-date!\n",
     "output_type": "stream"
    }
   ],
   "execution_count": null
  },
  {
   "cell_type": "code",
   "metadata": {
    "tags": [],
    "deepnote_to_be_reexecuted": false,
    "source_hash": "f660047",
    "execution_start": 1650316902611,
    "execution_millis": 5691,
    "cell_id": "00001-144900a5-8a2c-4d6e-8ff3-39cecf39aa32",
    "deepnote_cell_type": "code",
    "deepnote_cell_height": 297
   },
   "source": "pip install gensim==3.8.3",
   "outputs": [
    {
     "name": "stdout",
     "text": "Requirement already satisfied: gensim==3.8.3 in /root/venv/lib/python3.7/site-packages (3.8.3)\nRequirement already satisfied: scipy>=0.18.1 in /shared-libs/python3.7/py/lib/python3.7/site-packages (from gensim==3.8.3) (1.7.3)\nRequirement already satisfied: smart-open>=1.8.1 in /shared-libs/python3.7/py/lib/python3.7/site-packages (from gensim==3.8.3) (5.2.1)\nRequirement already satisfied: six>=1.5.0 in /shared-libs/python3.7/py-core/lib/python3.7/site-packages (from gensim==3.8.3) (1.16.0)\nRequirement already satisfied: numpy>=1.11.3 in /shared-libs/python3.7/py/lib/python3.7/site-packages (from gensim==3.8.3) (1.21.5)\n\u001b[33mWARNING: You are using pip version 20.1.1; however, version 22.0.4 is available.\nYou should consider upgrading via the '/usr/local/bin/python -m pip install --upgrade pip' command.\u001b[0m\nNote: you may need to restart the kernel to use updated packages.\n",
     "output_type": "stream"
    }
   ],
   "execution_count": null
  },
  {
   "cell_type": "code",
   "metadata": {
    "tags": [],
    "deepnote_to_be_reexecuted": false,
    "source_hash": "d2e0150d",
    "execution_start": 1650316908300,
    "execution_millis": 12682,
    "cell_id": "00002-db1e6f6f-b98a-480b-b2f9-e2ef789875c1",
    "deepnote_cell_type": "code",
    "deepnote_cell_height": 501.796875
   },
   "source": "!pip install np_utils==0.5.12.1",
   "outputs": [
    {
     "name": "stdout",
     "text": "Collecting np_utils==0.5.12.1\n  Downloading np_utils-0.5.12.1.tar.gz (61 kB)\n\u001b[K     |████████████████████████████████| 61 kB 6.7 MB/s \n\u001b[?25hRequirement already satisfied: numpy>=1.0 in /shared-libs/python3.7/py/lib/python3.7/site-packages (from np_utils==0.5.12.1) (1.21.5)\nRequirement already satisfied: future>=0.16 in /shared-libs/python3.7/py/lib/python3.7/site-packages (from np_utils==0.5.12.1) (0.18.2)\nBuilding wheels for collected packages: np-utils\n  Building wheel for np-utils (setup.py) ... \u001b[?25ldone\n\u001b[?25h  Created wheel for np-utils: filename=np_utils-0.5.12.1-py3-none-any.whl size=57125 sha256=d0c87ec8bbe50071c3c607e53299a480fbd8602fc036b7164a8e40bf00ab28ef\n  Stored in directory: /root/.cache/pip/wheels/8c/4e/ef/095c24693723c329f4cdc1079861cdbb2487d4b41b2496a4e7\nSuccessfully built np-utils\nInstalling collected packages: np-utils\n  Attempting uninstall: np-utils\n    Found existing installation: np-utils 0.6.0\n    Uninstalling np-utils-0.6.0:\n      Successfully uninstalled np-utils-0.6.0\nSuccessfully installed np-utils-0.5.12.1\n\u001b[33mWARNING: You are using pip version 20.1.1; however, version 22.0.4 is available.\nYou should consider upgrading via the '/root/venv/bin/python -m pip install --upgrade pip' command.\u001b[0m\n",
     "output_type": "stream"
    }
   ],
   "execution_count": null
  },
  {
   "cell_type": "code",
   "metadata": {
    "tags": [],
    "deepnote_to_be_reexecuted": false,
    "source_hash": "c3ec9a55",
    "execution_start": 1650316921002,
    "execution_millis": 8696,
    "cell_id": "00003-21626d92-8fe7-4f46-88d0-7f535893633c",
    "deepnote_cell_type": "code",
    "deepnote_cell_height": 521.796875
   },
   "source": "pip install scikit-plot",
   "outputs": [
    {
     "name": "stdout",
     "text": "Requirement already satisfied: scikit-plot in /root/venv/lib/python3.7/site-packages (0.3.7)\nRequirement already satisfied: scikit-learn>=0.18 in /shared-libs/python3.7/py/lib/python3.7/site-packages (from scikit-plot) (1.0.2)\nRequirement already satisfied: scipy>=0.9 in /shared-libs/python3.7/py/lib/python3.7/site-packages (from scikit-plot) (1.7.3)\nRequirement already satisfied: matplotlib>=1.4.0 in /shared-libs/python3.7/py/lib/python3.7/site-packages (from scikit-plot) (3.5.1)\nRequirement already satisfied: joblib>=0.10 in /shared-libs/python3.7/py/lib/python3.7/site-packages (from scikit-plot) (1.1.0)\nRequirement already satisfied: threadpoolctl>=2.0.0 in /shared-libs/python3.7/py/lib/python3.7/site-packages (from scikit-learn>=0.18->scikit-plot) (3.1.0)\nRequirement already satisfied: numpy>=1.14.6 in /shared-libs/python3.7/py/lib/python3.7/site-packages (from scikit-learn>=0.18->scikit-plot) (1.21.5)\nRequirement already satisfied: kiwisolver>=1.0.1 in /shared-libs/python3.7/py/lib/python3.7/site-packages (from matplotlib>=1.4.0->scikit-plot) (1.4.0)\nRequirement already satisfied: pyparsing>=2.2.1 in /shared-libs/python3.7/py-core/lib/python3.7/site-packages (from matplotlib>=1.4.0->scikit-plot) (3.0.7)\nRequirement already satisfied: cycler>=0.10 in /shared-libs/python3.7/py/lib/python3.7/site-packages (from matplotlib>=1.4.0->scikit-plot) (0.11.0)\nRequirement already satisfied: fonttools>=4.22.0 in /shared-libs/python3.7/py/lib/python3.7/site-packages (from matplotlib>=1.4.0->scikit-plot) (4.31.2)\nRequirement already satisfied: packaging>=20.0 in /shared-libs/python3.7/py-core/lib/python3.7/site-packages (from matplotlib>=1.4.0->scikit-plot) (21.3)\nRequirement already satisfied: pillow>=6.2.0 in /shared-libs/python3.7/py/lib/python3.7/site-packages (from matplotlib>=1.4.0->scikit-plot) (9.0.1)\nRequirement already satisfied: python-dateutil>=2.7 in /shared-libs/python3.7/py-core/lib/python3.7/site-packages (from matplotlib>=1.4.0->scikit-plot) (2.8.2)\nRequirement already satisfied: typing-extensions; python_version < \"3.8\" in /shared-libs/python3.7/py-core/lib/python3.7/site-packages (from kiwisolver>=1.0.1->matplotlib>=1.4.0->scikit-plot) (4.1.1)\nRequirement already satisfied: six>=1.5 in /shared-libs/python3.7/py-core/lib/python3.7/site-packages (from python-dateutil>=2.7->matplotlib>=1.4.0->scikit-plot) (1.16.0)\n\u001b[33mWARNING: You are using pip version 20.1.1; however, version 22.0.4 is available.\nYou should consider upgrading via the '/usr/local/bin/python -m pip install --upgrade pip' command.\u001b[0m\nNote: you may need to restart the kernel to use updated packages.\n",
     "output_type": "stream"
    }
   ],
   "execution_count": null
  },
  {
   "cell_type": "code",
   "metadata": {
    "deepnote_to_be_reexecuted": false,
    "source_hash": "fbe30a2c",
    "execution_start": 1650316929715,
    "execution_millis": 17065,
    "cell_id": "00004-d794df36-cfdf-405e-bf92-620da526b65c",
    "deepnote_cell_type": "code",
    "deepnote_cell_height": 546
   },
   "source": "#!/usr/bin/env python3\n# -*- coding: utf-8 -*-\n\n\"\"\"\nFake news detection\nThe Keras version of neural network\n\"\"\"\n\nfrom  getEmbeddings import getEmbeddings\nimport matplotlib.pyplot as plt\nimport numpy as np\nfrom tensorflow import keras \nfrom tensorflow.keras import backend as K\nimport np_utils\nfrom tensorflow.keras.models import Sequential\nfrom tensorflow.keras.layers import Dense, Dropout, LSTM, Embedding, Input, RepeatVector\nfrom tensorflow.keras.optimizers import SGD\nfrom sklearn.preprocessing import LabelEncoder\nfrom sklearn.model_selection import train_test_split\nimport scikitplot.plotters as skplt\nimport os\n\n\n",
   "outputs": [
    {
     "name": "stderr",
     "text": "[nltk_data] Downloading package stopwords to /root/nltk_data...\n[nltk_data]   Package stopwords is already up-to-date!\n",
     "output_type": "stream"
    }
   ],
   "execution_count": null
  },
  {
   "cell_type": "code",
   "metadata": {
    "deepnote_to_be_reexecuted": false,
    "source_hash": "72a13130",
    "execution_start": 1650316946788,
    "execution_millis": 154324,
    "owner_user_id": "90d8e9a7-4cf7-49f2-843d-0f73d1ab4387",
    "cell_id": "00005-eddbe36d-95e9-4614-ae4b-8a08b60c00c3",
    "deepnote_cell_type": "code",
    "deepnote_cell_height": 459
   },
   "source": "# Read the data\nif not os.path.isfile('./xxtr.npy') or \\\n    not os.path.isfile('./xxte.npy') or \\\n    not os.path.isfile('./xytr.npy') or \\\n    not os.path.isfile('./xyte.npy'):\n    xtr,xte,ytr,yte = getEmbeddings(\"datasets/news_articles.csv\")\n    np.save('./xxtr', xtr)\n    np.save('./xxte', xte)\n    np.save('./xytr', ytr)\n    np.save('./xyte', yte)\nxtr,xte,ytr,yte = getEmbeddings(\"datasets/news_articles.csv\")\nnp.save('./xxtr', xtr)\nnp.save('./xxte', xte)\nnp.save('./xytr', ytr)\nnp.save('./xyte', yte)\nxtr = np.load('./xxtr.npy')\nxte = np.load('./xxte.npy')\nytr = np.load('./xytr.npy')\nyte = np.load('./xyte.npy')\n\n\n",
   "outputs": [],
   "execution_count": null
  },
  {
   "cell_type": "code",
   "metadata": {
    "deepnote_to_be_reexecuted": false,
    "source_hash": "b31fd813",
    "execution_start": 1650317101156,
    "execution_millis": 0,
    "cell_id": "00006-f4980a42-1a91-4cf1-9635-2784dce519e7",
    "deepnote_cell_type": "code",
    "deepnote_cell_height": 99
   },
   "source": "\n",
   "outputs": [],
   "execution_count": null
  },
  {
   "cell_type": "code",
   "metadata": {
    "tags": [],
    "deepnote_to_be_reexecuted": false,
    "source_hash": "b623e53d",
    "execution_start": 1650317101163,
    "execution_millis": 1,
    "cell_id": "00007-4932f5f3-119f-4a26-b435-3c44cd72931c",
    "deepnote_cell_type": "code",
    "deepnote_cell_height": 81
   },
   "source": "",
   "outputs": [],
   "execution_count": null
  },
  {
   "cell_type": "code",
   "metadata": {
    "tags": [],
    "deepnote_to_be_reexecuted": false,
    "source_hash": "80be585c",
    "execution_start": 1650317101190,
    "execution_millis": 36692876,
    "cell_id": "00008-48d82f41-25ad-4ee4-86ab-c5399e7c5eb0",
    "deepnote_cell_type": "code",
    "deepnote_cell_height": 99
   },
   "source": "\nx_train, x_test, y_train, y_test = train_test_split(xtr, ytr, test_size=0.2, random_state=42)",
   "outputs": [],
   "execution_count": null
  },
  {
   "cell_type": "code",
   "metadata": {
    "tags": [],
    "deepnote_to_be_reexecuted": false,
    "source_hash": "b83bc2b5",
    "execution_start": 1650317101211,
    "execution_millis": 36692841,
    "cell_id": "00009-e75aeedb-b841-462c-b3d0-07125bfefcdf",
    "deepnote_cell_type": "code",
    "deepnote_cell_height": 130
   },
   "source": "print(y_train)\n",
   "outputs": [
    {
     "name": "stdout",
     "text": "[1. 1. 1. ... 1. 0. 0.]\n",
     "output_type": "stream"
    }
   ],
   "execution_count": null
  },
  {
   "cell_type": "code",
   "metadata": {
    "tags": [],
    "deepnote_to_be_reexecuted": false,
    "source_hash": "94ff858f",
    "execution_start": 1650317101253,
    "execution_millis": 36692809,
    "cell_id": "00010-945958ad-71cd-4ad2-b02f-4b5059f2a671",
    "deepnote_cell_type": "code",
    "deepnote_cell_height": 390
   },
   "source": "print(x_train.shape)\nprint(x_train)",
   "outputs": [
    {
     "name": "stdout",
     "text": "(1312, 300)\n[[ 0.16472338 -0.11403811 -0.03240931 ... -0.03553769 -0.13669316\n  -0.08448409]\n [ 1.03254759 -0.55958474 -0.09918778 ... -0.26821566 -0.4953866\n  -0.12168474]\n [ 0.97402722 -0.56905776  0.29920787 ... -0.24115206 -0.29470944\n  -0.07822096]\n ...\n [ 0.07119336 -0.02348875 -0.02182062 ... -0.01621323 -0.00976975\n  -0.01644656]\n [ 0.41290393 -0.07632864  0.01525854 ... -0.14390609  0.01547176\n  -0.13710064]\n [ 0.41462821 -0.16351084 -0.06026057 ...  0.02202358 -0.587358\n  -0.40235052]]\n",
     "output_type": "stream"
    }
   ],
   "execution_count": null
  },
  {
   "cell_type": "code",
   "metadata": {
    "deepnote_to_be_reexecuted": false,
    "source_hash": "1779cf28",
    "execution_start": 1650317101295,
    "execution_millis": 87251,
    "cell_id": "00011-425fc2e2-c07f-4b09-9e31-031778f3353a",
    "deepnote_cell_type": "code",
    "deepnote_cell_height": 243
   },
   "source": "from sklearn.ensemble import RandomForestRegressor\n# Instantiate model with 100 decision trees\nrf = RandomForestRegressor(n_estimators = 100, random_state = 42)\n# Train the model on training data\nrf.fit(x_train, y_train);\n\n\n\n \n",
   "outputs": [],
   "execution_count": null
  },
  {
   "cell_type": "code",
   "metadata": {
    "tags": [],
    "deepnote_to_be_reexecuted": false,
    "source_hash": "7b4931f9",
    "execution_start": 1650317188601,
    "execution_millis": 99,
    "cell_id": "00012-ac48f0a7-b004-41f7-b024-2f516afdafe6",
    "deepnote_cell_type": "code",
    "deepnote_cell_height": 117
   },
   "source": "model =rf \ny_pred=model.predict(x_test)\n",
   "outputs": [],
   "execution_count": null
  },
  {
   "cell_type": "code",
   "metadata": {
    "tags": [],
    "deepnote_to_be_reexecuted": false,
    "source_hash": "27a0c00a",
    "execution_start": 1650317188712,
    "execution_millis": 49,
    "cell_id": "00013-5aa8eda7-a085-4905-9e43-a6d07e0729d7",
    "deepnote_cell_type": "code",
    "deepnote_cell_height": 572
   },
   "source": "print(y_pred)",
   "outputs": [
    {
     "name": "stdout",
     "text": "[1.   0.78 1.   0.92 0.61 0.68 0.61 0.81 0.56 0.35 0.62 0.71 0.54 0.73\n 0.46 0.83 0.4  0.78 0.36 0.85 0.59 0.99 0.42 0.18 0.94 0.8  0.38 0.38\n 0.6  0.72 0.38 0.55 0.69 0.72 0.47 0.32 0.38 0.65 0.68 1.   0.45 0.6\n 0.58 0.71 0.57 0.5  0.77 0.59 0.88 0.57 0.52 0.44 0.6  0.6  0.93 0.8\n 0.52 0.57 0.73 0.95 0.43 0.9  0.4  0.63 0.54 0.67 0.58 0.55 0.59 0.45\n 0.43 0.74 0.75 0.92 0.56 0.81 0.46 1.   0.67 0.72 0.84 0.79 0.58 0.44\n 0.82 0.83 0.96 0.49 0.34 0.79 0.89 0.84 0.57 0.82 0.81 0.61 0.73 1.\n 0.66 0.48 0.96 0.78 0.47 0.63 1.   0.18 0.32 0.83 0.97 0.52 0.51 0.64\n 0.59 0.48 0.49 0.69 0.79 1.   0.6  0.68 1.   0.47 0.54 0.53 0.58 0.71\n 0.52 0.65 0.63 0.77 0.62 0.22 0.39 0.46 0.87 0.76 0.85 0.82 0.86 0.47\n 0.79 0.83 0.36 0.64 1.   0.79 1.   0.99 0.83 0.77 0.5  0.85 0.76 0.57\n 0.49 0.36 1.   0.7  0.71 0.75 0.51 0.99 0.63 0.81 0.41 0.76 0.45 0.87\n 0.58 0.49 0.87 0.41 0.25 0.89 0.67 0.64 0.87 0.39 0.57 0.45 0.87 0.64\n 0.89 0.62 0.73 0.54 0.57 0.51 0.61 0.52 0.66 0.57 0.6  0.57 0.65 0.45\n 0.35 0.71 0.75 0.69 0.71 0.9  0.19 0.87 0.39 0.66 0.65 1.   0.76 0.73\n 0.64 0.35 0.55 0.77 0.72 0.9  0.22 1.   0.73 0.42 1.   0.99 0.63 0.76\n 0.53 0.92 0.99 0.77 0.53 0.62 0.68 0.68 0.49 0.94 0.89 0.62 0.67 0.58\n 0.82 0.67 0.63 0.95 0.94 0.78 0.38 0.46 0.53 0.77 0.4  0.43 0.68 0.75\n 0.88 0.5  0.8  0.97 0.63 0.59 0.61 1.   0.45 0.89 0.8  0.73 0.55 0.92\n 0.47 0.5  0.94 0.9  0.75 0.71 0.48 0.53 0.75 0.66 0.94 0.59 0.36 0.93\n 0.39 0.8  0.98 0.64 0.98 0.73 0.55 0.96 0.72 1.   0.57 0.71 0.74 0.3\n 0.77 0.52 0.5  0.61 0.71 0.5  0.52 0.61 0.85 0.59 0.67 0.73 0.55 0.52\n 1.   0.66 0.42 0.78 0.99 0.71 0.75 0.88 0.99 0.85 0.85 0.67 0.58 0.51\n 0.78 0.51 0.6  0.69 0.47 0.99]\n",
     "output_type": "stream"
    }
   ],
   "execution_count": null
  },
  {
   "cell_type": "code",
   "metadata": {
    "tags": [],
    "deepnote_to_be_reexecuted": false,
    "source_hash": "14523f58",
    "execution_start": 1650317188806,
    "execution_millis": 36328303,
    "cell_id": "00014-fa5ed616-941a-4dbc-becf-64f05040c43c",
    "deepnote_cell_type": "code",
    "deepnote_cell_height": 290
   },
   "source": "y_pred = np.where(y_pred>0.5, 1, 0)\nprint(y_pred)",
   "outputs": [
    {
     "name": "stdout",
     "text": "[1 1 1 1 1 1 1 1 1 0 1 1 1 1 0 1 0 1 0 1 1 1 0 0 1 1 0 0 1 1 0 1 1 1 0 0 0\n 1 1 1 0 1 1 1 1 0 1 1 1 1 1 0 1 1 1 1 1 1 1 1 0 1 0 1 1 1 1 1 1 0 0 1 1 1\n 1 1 0 1 1 1 1 1 1 0 1 1 1 0 0 1 1 1 1 1 1 1 1 1 1 0 1 1 0 1 1 0 0 1 1 1 1\n 1 1 0 0 1 1 1 1 1 1 0 1 1 1 1 1 1 1 1 1 0 0 0 1 1 1 1 1 0 1 1 0 1 1 1 1 1\n 1 1 0 1 1 1 0 0 1 1 1 1 1 1 1 1 0 1 0 1 1 0 1 0 0 1 1 1 1 0 1 0 1 1 1 1 1\n 1 1 1 1 1 1 1 1 1 1 0 0 1 1 1 1 1 0 1 0 1 1 1 1 1 1 0 1 1 1 1 0 1 1 0 1 1\n 1 1 1 1 1 1 1 1 1 1 0 1 1 1 1 1 1 1 1 1 1 1 0 0 1 1 0 0 1 1 1 0 1 1 1 1 1\n 1 0 1 1 1 1 1 0 0 1 1 1 1 0 1 1 1 1 1 0 1 0 1 1 1 1 1 1 1 1 1 1 1 1 0 1 1\n 0 1 1 0 1 1 1 1 1 1 1 1 1 1 0 1 1 1 1 1 1 1 1 1 1 1 1 1 1 1 0 1]\n",
     "output_type": "stream"
    }
   ],
   "execution_count": null
  },
  {
   "cell_type": "code",
   "metadata": {
    "tags": [],
    "deepnote_to_be_reexecuted": false,
    "source_hash": "68d49991",
    "execution_start": 1650317188892,
    "execution_millis": 36328359,
    "cell_id": "00015-b51c9d92-cdb1-4ecf-9e76-025390c6b7e2",
    "deepnote_cell_type": "code",
    "deepnote_cell_height": 99
   },
   "source": "with open('rf.sav', 'wb') as files:\n    pickle.dump(model, files)",
   "outputs": [],
   "execution_count": null
  },
  {
   "cell_type": "code",
   "metadata": {
    "tags": [],
    "deepnote_to_be_reexecuted": false,
    "source_hash": "d973b3b1",
    "execution_start": 1650317188956,
    "execution_millis": 43,
    "cell_id": "00016-603161f9-6549-4f86-b1d4-98092a38ed2d",
    "deepnote_cell_type": "code",
    "deepnote_cell_height": 570
   },
   "source": "m = y_test.shape[0]\ntp=0\ntn=0\nfp=0\nfn=0\nfor i in range(m):\n    if (y_pred[i]==0 and (y_test[i]!=y_pred[i])):\n        fn+=1\n    elif (y_pred[i]==1 and (y_test[i]!=y_pred[i])):\n        fp+=1\n    elif (y_pred[i]==0 and (y_test[i]==y_pred[i])):\n        tn+=1\n    elif (y_pred[i]==1 and (y_test[i]==y_pred[i])):\n        tp+=1\n\nprecision=(tp)/(tp+fp)*100\nrecall=(tp)/(tp+fn)*100\nprint(\"Accuracy = \" + format((tp+tn)/(tp+tn+fp+fn)*100, '.2f') + \"%\")   \nprint(\"F1-Score = \" + format(((2*precision*recall)/(precision+recall)), '.2f') + \"%\")   \nprint(\"Recall = \" + format((tp)/(tp+fn)*100, '.2f') + \"%\")   \nprint(\"Precision = \" + format((tp)/(tp+fp)*100, '.2f') + \"%\")   \nprint(\"Specificity = \" + format((tn)/(tn+fp)*100, '.2f') + \"%\")  ",
   "outputs": [
    {
     "name": "stdout",
     "text": "Accuracy = 76.52%\nF1-Score = 84.75%\nRecall = 86.99%\nPrecision = 82.63%\nSpecificity = 45.12%\n",
     "output_type": "stream"
    }
   ],
   "execution_count": null
  },
  {
   "cell_type": "code",
   "metadata": {
    "deepnote_to_be_reexecuted": false,
    "source_hash": "bba62323",
    "execution_start": 1650317189046,
    "execution_millis": 798,
    "cell_id": "00017-0a72b09d-e8f3-402d-8622-4782fd19d132",
    "deepnote_cell_type": "code",
    "deepnote_cell_height": 591.796875,
    "deepnote_output_heights": [
     null,
     280
    ]
   },
   "source": "# Draw the confusion matrix\ndef plot_cmat(yte, ypred):\n    '''Plotting confusion matrix'''\n    skplt.plot_confusion_matrix(yte, ypred)\n    plt.grid(False)\n    plt.show()\n    \nplot_cmat(y_test, y_pred)\n",
   "outputs": [
    {
     "name": "stderr",
     "text": "/shared-libs/python3.7/py/lib/python3.7/site-packages/sklearn/utils/deprecation.py:87: FutureWarning: Function plot_confusion_matrix is deprecated; This will be removed in v0.4.0. Please use scikitplot.metrics.plot_confusion_matrix instead.\n  warnings.warn(msg, category=FutureWarning)\n",
     "output_type": "stream"
    },
    {
     "data": {
      "text/plain": "<Figure size 432x288 with 2 Axes>",
      "image/png": "[encoded data removed]"
     },
     "metadata": {
      "needs_background": "light",
      "image/png": {
       "width": 322,
       "height": 278
      }
     },
     "output_type": "display_data"
    }
   ],
   "execution_count": null
  },
  {
   "cell_type": "markdown",
   "source": "<a style='text-decoration:none;line-height:16px;display:flex;color:#5B5B62;padding:10px;justify-content:end;' href='https://deepnote.com?utm_source=created-in-deepnote-cell&projectId=3a2c2a1b-c190-4238-a7b0-93cabb99b4e1' target=\"_blank\">\n<img alt='Created in deepnote.com' style='display:inline;max-height:16px;margin:0px;margin-right:7.5px;' src='data:image/svg+xml;base64,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' > </img>\nCreated in <span style='font-weight:600;margin-left:4px;'>Deepnote</span></a>",
   "metadata": {
    "tags": [],
    "created_in_deepnote_cell": true,
    "deepnote_cell_type": "markdown"
   }
  }
 ],
 "nbformat": 4,
 "nbformat_minor": 4,
 "metadata": {
  "kernelspec": {
   "display_name": "Python 3",
   "language": "python",
   "name": "python3"
  },
  "language_info": {
   "codemirror_mode": {
    "name": "ipython",
    "version": 3
   },
   "file_extension": ".py",
   "mimetype": "text/x-python",
   "name": "python",
   "nbconvert_exporter": "python",
   "pygments_lexer": "ipython3",
   "version": "3.8.5"
  },
  "deepnote_notebook_id": "3bb236b1-fec0-46ed-b7f2-d0f29e115124",
  "deepnote": {},
  "deepnote_execution_queue": []
 }
}