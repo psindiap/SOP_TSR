{
 "cells": [
  {
   "cell_type": "code",
   "metadata": {
    "tags": [],
    "deepnote_to_be_reexecuted": false,
    "source_hash": "1ed46e62",
    "execution_start": 1650349769240,
    "execution_millis": 15136,
    "cell_id": "a26dfe8d-ed33-460c-929c-87528db96e8a",
    "deepnote_cell_type": "code",
    "deepnote_cell_height": 843.1875,
    "deepnote_output_heights": [
     null,
     21.1875
    ]
   },
   "source": "!pip install Embeddings==0.0.8\n!pip install np_utils\n!pip install scikit-plot\n!pip install gensim==3.8.3\nimport nltk\nnltk.download('stopwords')",
   "outputs": [
    {
     "name": "stdout",
     "text": "Requirement already satisfied: Embeddings==0.0.8 in /root/venv/lib/python3.7/site-packages (0.0.8)\nRequirement already satisfied: numpy in /shared-libs/python3.7/py/lib/python3.7/site-packages (from Embeddings==0.0.8) (1.21.5)\nRequirement already satisfied: tqdm in /shared-libs/python3.7/py/lib/python3.7/site-packages (from Embeddings==0.0.8) (4.63.0)\nRequirement already satisfied: requests in /shared-libs/python3.7/py/lib/python3.7/site-packages (from Embeddings==0.0.8) (2.27.1)\nRequirement already satisfied: certifi>=2017.4.17 in /shared-libs/python3.7/py/lib/python3.7/site-packages (from requests->Embeddings==0.0.8) (2021.10.8)\nRequirement already satisfied: charset-normalizer~=2.0.0; python_version >= \"3\" in /shared-libs/python3.7/py-core/lib/python3.7/site-packages (from requests->Embeddings==0.0.8) (2.0.12)\nRequirement already satisfied: urllib3<1.27,>=1.21.1 in /shared-libs/python3.7/py/lib/python3.7/site-packages (from requests->Embeddings==0.0.8) (1.26.9)\nRequirement already satisfied: idna<4,>=2.5; python_version >= \"3\" in /shared-libs/python3.7/py-core/lib/python3.7/site-packages (from requests->Embeddings==0.0.8) (3.3)\n\u001b[33mWARNING: You are using pip version 20.1.1; however, version 22.0.4 is available.\nYou should consider upgrading via the '/root/venv/bin/python -m pip install --upgrade pip' command.\u001b[0m\nRequirement already satisfied: np_utils in /root/venv/lib/python3.7/site-packages (0.5.12.1)\nRequirement already satisfied: future>=0.16 in /shared-libs/python3.7/py/lib/python3.7/site-packages (from np_utils) (0.18.2)\nRequirement already satisfied: numpy>=1.0 in /shared-libs/python3.7/py/lib/python3.7/site-packages (from np_utils) (1.21.5)\n\u001b[33mWARNING: You are using pip version 20.1.1; however, version 22.0.4 is available.\nYou should consider upgrading via the '/root/venv/bin/python -m pip install --upgrade pip' command.\u001b[0m\nRequirement already satisfied: scikit-plot in /root/venv/lib/python3.7/site-packages (0.3.7)\nRequirement already satisfied: matplotlib>=1.4.0 in /shared-libs/python3.7/py/lib/python3.7/site-packages (from scikit-plot) (3.5.1)\nRequirement already satisfied: joblib>=0.10 in /shared-libs/python3.7/py/lib/python3.7/site-packages (from scikit-plot) (1.1.0)\nRequirement already satisfied: scikit-learn>=0.18 in /shared-libs/python3.7/py/lib/python3.7/site-packages (from scikit-plot) (1.0.2)\nRequirement already satisfied: scipy>=0.9 in /shared-libs/python3.7/py/lib/python3.7/site-packages (from scikit-plot) (1.7.3)\nRequirement already satisfied: pyparsing>=2.2.1 in /shared-libs/python3.7/py-core/lib/python3.7/site-packages (from matplotlib>=1.4.0->scikit-plot) (3.0.7)\nRequirement already satisfied: kiwisolver>=1.0.1 in /shared-libs/python3.7/py/lib/python3.7/site-packages (from matplotlib>=1.4.0->scikit-plot) (1.4.0)\nRequirement already satisfied: python-dateutil>=2.7 in /shared-libs/python3.7/py-core/lib/python3.7/site-packages (from matplotlib>=1.4.0->scikit-plot) (2.8.2)\nRequirement already satisfied: fonttools>=4.22.0 in /shared-libs/python3.7/py/lib/python3.7/site-packages (from matplotlib>=1.4.0->scikit-plot) (4.31.2)\nRequirement already satisfied: pillow>=6.2.0 in /shared-libs/python3.7/py/lib/python3.7/site-packages (from matplotlib>=1.4.0->scikit-plot) (9.0.1)\nRequirement already satisfied: numpy>=1.17 in /shared-libs/python3.7/py/lib/python3.7/site-packages (from matplotlib>=1.4.0->scikit-plot) (1.21.5)\nRequirement already satisfied: cycler>=0.10 in /shared-libs/python3.7/py/lib/python3.7/site-packages (from matplotlib>=1.4.0->scikit-plot) (0.11.0)\nRequirement already satisfied: packaging>=20.0 in /shared-libs/python3.7/py-core/lib/python3.7/site-packages (from matplotlib>=1.4.0->scikit-plot) (21.3)\nRequirement already satisfied: threadpoolctl>=2.0.0 in /shared-libs/python3.7/py/lib/python3.7/site-packages (from scikit-learn>=0.18->scikit-plot) (3.1.0)\nRequirement already satisfied: typing-extensions; python_version < \"3.8\" in /shared-libs/python3.7/py-core/lib/python3.7/site-packages (from kiwisolver>=1.0.1->matplotlib>=1.4.0->scikit-plot) (4.1.1)\nRequirement already satisfied: six>=1.5 in /shared-libs/python3.7/py-core/lib/python3.7/site-packages (from python-dateutil>=2.7->matplotlib>=1.4.0->scikit-plot) (1.16.0)\n\u001b[33mWARNING: You are using pip version 20.1.1; however, version 22.0.4 is available.\nYou should consider upgrading via the '/root/venv/bin/python -m pip install --upgrade pip' command.\u001b[0m\nRequirement already satisfied: gensim==3.8.3 in /root/venv/lib/python3.7/site-packages (3.8.3)\nRequirement already satisfied: six>=1.5.0 in /shared-libs/python3.7/py-core/lib/python3.7/site-packages (from gensim==3.8.3) (1.16.0)\nRequirement already satisfied: smart-open>=1.8.1 in /shared-libs/python3.7/py/lib/python3.7/site-packages (from gensim==3.8.3) (5.2.1)\nRequirement already satisfied: numpy>=1.11.3 in /shared-libs/python3.7/py/lib/python3.7/site-packages (from gensim==3.8.3) (1.21.5)\nRequirement already satisfied: scipy>=0.18.1 in /shared-libs/python3.7/py/lib/python3.7/site-packages (from gensim==3.8.3) (1.7.3)\n\u001b[33mWARNING: You are using pip version 20.1.1; however, version 22.0.4 is available.\nYou should consider upgrading via the '/root/venv/bin/python -m pip install --upgrade pip' command.\u001b[0m\n[nltk_data] Downloading package stopwords to /root/nltk_data...\n[nltk_data]   Package stopwords is already up-to-date!\n",
     "output_type": "stream"
    },
    {
     "output_type": "execute_result",
     "execution_count": 1,
     "data": {
      "text/plain": "True"
     },
     "metadata": {}
    }
   ],
   "execution_count": null
  },
  {
   "cell_type": "code",
   "metadata": {
    "deepnote_to_be_reexecuted": false,
    "source_hash": "f096698f",
    "execution_start": 1650349784381,
    "execution_millis": 8128,
    "cell_id": "00001-a0ef2432-a154-4f2b-a939-b158609c7fb2",
    "deepnote_cell_type": "code",
    "deepnote_cell_height": 744
   },
   "source": "#!/usr/bin/env python3\n# -*- coding: utf-8 -*-\n\n\"\"\"\nFake news detection\nLSTM model\n\"\"\"\nimport pickle\nimport getEmbeddings\nimport matplotlib.pyplot as plt\nimport numpy as np\nfrom tensorflow import keras \nfrom tensorflow.keras import backend as K\nimport np_utils\nfrom tensorflow.keras.models import Sequential\nfrom tensorflow.keras.layers import Dense, Dropout, LSTM, Embedding, Input, RepeatVector,Bidirectional\nfrom tensorflow.keras.optimizers import SGD\nfrom sklearn.preprocessing import LabelEncoder\nfrom sklearn.model_selection import train_test_split\nimport scikitplot.plotters as skplt\nimport os\nfrom tensorflow.keras.datasets import imdb\nfrom tensorflow.keras.layers import Embedding\nfrom tensorflow.keras.preprocessing import sequence\nfrom collections import Counter\nimport matplotlib.pyplot as plt\n\n\n\ntop_words = 5000\nepoch_num = 8\nbatch_size = 128\n\n\n",
   "outputs": [
    {
     "name": "stderr",
     "text": "[nltk_data] Downloading package stopwords to /root/nltk_data...\n[nltk_data]   Package stopwords is already up-to-date!\n",
     "output_type": "stream"
    }
   ],
   "execution_count": null
  },
  {
   "cell_type": "code",
   "metadata": {
    "tags": [],
    "deepnote_to_be_reexecuted": false,
    "source_hash": "621d01d2",
    "execution_start": 1650349792515,
    "execution_millis": 3,
    "cell_id": "00002-6cc2272d-ed62-403b-9f28-d191c79f875a",
    "deepnote_cell_type": "code",
    "deepnote_cell_height": 81
   },
   "source": "# getEmbeddings.clean_data()",
   "outputs": [],
   "execution_count": null
  },
  {
   "cell_type": "code",
   "metadata": {
    "deepnote_to_be_reexecuted": false,
    "source_hash": "245f1f79",
    "execution_start": 1650349792526,
    "execution_millis": 224,
    "cell_id": "00003-96814d25-d144-4ed4-96a5-84f128531d8a",
    "deepnote_cell_type": "code",
    "deepnote_cell_height": 495
   },
   "source": "\n# Read the text data\nif not os.path.isfile('./xxtr_shuffled.npy') or \\\n    not os.path.isfile('./xxte_shuffled.npy') or \\\n    not os.path.isfile('./xytr_shuffled.npy') or \\\n    not os.path.isfile('./xyte_shuffled.npy'):\n    \n    getEmbeddings.clean_data('datasets/news_articles.csv','./xxtr_shuffled.npy','./xxte_shuffled.npy','./xytr_shuffled.npy','./xyte_shuffled.npy')\n\n\nxtr = np.load('./xxtr_shuffled.npy', allow_pickle=True)\nxte = np.load('./xxte_shuffled.npy', allow_pickle=True)\ny_train = np.load('./xytr_shuffled.npy', allow_pickle=True)\ny_test = np.load('./xyte_shuffled.npy', allow_pickle=True)\n\ncnt = Counter()\nx_train = []\nfor x in xtr:\n    x_train.append(x.split())\n    for word in x_train[-1]:\n        cnt[word] += 1  \n\n\n",
   "outputs": [],
   "execution_count": null
  },
  {
   "cell_type": "code",
   "source": "y_train=np.where(y_train==\"Real\",0,1)\ny_test=np.where(y_test==\"Real\",0,1)",
   "metadata": {
    "cell_id": "74aa70839a1c47bab8b6a162ab78955b",
    "tags": [],
    "deepnote_to_be_reexecuted": false,
    "source_hash": "2e22f584",
    "execution_start": 1650349792759,
    "execution_millis": 0,
    "deepnote_cell_type": "code",
    "deepnote_cell_height": 99
   },
   "outputs": [],
   "execution_count": null
  },
  {
   "cell_type": "code",
   "metadata": {
    "deepnote_to_be_reexecuted": false,
    "source_hash": "18ed0683",
    "execution_start": 1650349792764,
    "execution_millis": 28,
    "cell_id": "00004-5a0be9ac-8b4a-4c8f-97cd-04b9d1577c9f",
    "deepnote_cell_type": "code",
    "deepnote_cell_height": 225
   },
   "source": "# Storing most common words\nmost_common = cnt.most_common(top_words + 1)\nword_bank = {}\nid_num = 1\nfor word, freq in most_common:\n    word_bank[word] = id_num\n    id_num += 1\n\n",
   "outputs": [],
   "execution_count": null
  },
  {
   "cell_type": "code",
   "metadata": {
    "deepnote_to_be_reexecuted": false,
    "source_hash": "51b517cc",
    "execution_start": 1650349792797,
    "execution_millis": 190,
    "cell_id": "00005-a7e27451-5919-47e8-9339-d390916b4786",
    "deepnote_cell_type": "code",
    "deepnote_cell_height": 297
   },
   "source": "# Encode the sentences\nfor news in x_train:\n    i = 0\n    while i < len(news):\n        if news[i] in word_bank:\n            news[i] = word_bank[news[i]]\n            i += 1\n        else:\n            del news[i]\n\ny_train = list(y_train)\ny_test = list(y_test)\n",
   "outputs": [],
   "execution_count": null
  },
  {
   "cell_type": "code",
   "metadata": {
    "deepnote_to_be_reexecuted": false,
    "source_hash": "53190dad",
    "execution_start": 1650349792997,
    "execution_millis": 91,
    "cell_id": "00006-6a3d3a34-f719-4762-9074-fed858bcaf66",
    "deepnote_cell_type": "code",
    "deepnote_cell_height": 639
   },
   "source": "# Delete the short news\ni = 0\nwhile i < len(x_train):\n    if len(x_train[i]) > 10:\n        i += 1\n    else:\n        del x_train[i]\n        del y_train[i]\n\n# Generating test data\nx_test = []\nfor x in xte:\n    x_test.append(x.split())\n\n# Encode the sentences\nfor news in x_test:\n    i = 0\n    while i < len(news):\n        if news[i] in word_bank:\n            news[i] = word_bank[news[i]]\n            i += 1\n        else:\n            del news[i]\n\n# Truncate and pad input sequences\nmax_review_length = 300\nX_train = sequence.pad_sequences(x_train, maxlen=max_review_length)\nX_test = sequence.pad_sequences(x_test, maxlen=max_review_length)\n\n# Convert to numpy arrays\ny_train = np.array(y_train)\ny_test = np.array(y_test)",
   "outputs": [],
   "execution_count": null
  },
  {
   "cell_type": "code",
   "metadata": {
    "deepnote_to_be_reexecuted": false,
    "source_hash": "daa196cf",
    "execution_start": 1650349793136,
    "execution_millis": 265392,
    "cell_id": "00007-e58392f1-7ef0-4910-aed3-d199d9bea1f8",
    "owner_user_id": "90d8e9a7-4cf7-49f2-843d-0f73d1ab4387",
    "deepnote_cell_type": "code",
    "deepnote_cell_height": 969.1875,
    "deepnote_output_heights": [
     null,
     21.1875
    ]
   },
   "source": "# Create the model\nembedding_vecor_length = 32\nmodel = Sequential()\nmodel.add(Embedding(top_words+2, embedding_vecor_length, input_length=max_review_length))\nmodel.add(Bidirectional(LSTM(100)))\nmodel.add(Dense(1, activation='sigmoid'))\nmodel.compile(loss='binary_crossentropy', optimizer='adam', metrics=['accuracy'])\nprint(model.summary())\nmodel.fit(X_train, y_train, validation_data=(X_test, y_test), epochs=epoch_num, batch_size=batch_size)\n\n\n\n",
   "outputs": [
    {
     "name": "stdout",
     "text": "Model: \"sequential\"\n_________________________________________________________________\n Layer (type)                Output Shape              Param #   \n=================================================================\n embedding (Embedding)       (None, 300, 32)           160064    \n                                                                 \n bidirectional (Bidirectiona  (None, 200)              106400    \n l)                                                              \n                                                                 \n dense (Dense)               (None, 1)                 201       \n                                                                 \n=================================================================\nTotal params: 266,665\nTrainable params: 266,665\nNon-trainable params: 0\n_________________________________________________________________\nNone\nEpoch 1/8\n13/13 [==============================] - 25s 2s/step - loss: 0.6732 - accuracy: 0.6364 - val_loss: 0.6682 - val_accuracy: 0.5976\nEpoch 2/8\n13/13 [==============================] - 26s 2s/step - loss: 0.6510 - accuracy: 0.6351 - val_loss: 0.6585 - val_accuracy: 0.5976\nEpoch 3/8\n13/13 [==============================] - 30s 2s/step - loss: 0.6136 - accuracy: 0.6351 - val_loss: 0.6223 - val_accuracy: 0.5976\nEpoch 4/8\n13/13 [==============================] - 33s 3s/step - loss: 0.5627 - accuracy: 0.6831 - val_loss: 0.5713 - val_accuracy: 0.6805\nEpoch 5/8\n13/13 [==============================] - 33s 2s/step - loss: 0.4800 - accuracy: 0.8994 - val_loss: 0.5646 - val_accuracy: 0.7171\nEpoch 6/8\n13/13 [==============================] - 18s 1s/step - loss: 0.4200 - accuracy: 0.9312 - val_loss: 0.5350 - val_accuracy: 0.7122\nEpoch 7/8\n13/13 [==============================] - 19s 1s/step - loss: 0.2891 - accuracy: 0.9442 - val_loss: 0.5840 - val_accuracy: 0.6805\nEpoch 8/8\n13/13 [==============================] - 24s 2s/step - loss: 0.1963 - accuracy: 0.9435 - val_loss: 0.5825 - val_accuracy: 0.6878\n",
     "output_type": "stream"
    },
    {
     "output_type": "execute_result",
     "execution_count": 9,
     "data": {
      "text/plain": "<keras.callbacks.History at 0x7fae8d0fdc10>"
     },
     "metadata": {}
    }
   ],
   "execution_count": null
  },
  {
   "cell_type": "code",
   "metadata": {
    "tags": [],
    "deepnote_to_be_reexecuted": false,
    "source_hash": "c61177b8",
    "execution_start": 1650350058546,
    "execution_millis": 28489,
    "cell_id": "00008-4e15397f-948c-40cb-912e-a5802fc4cace",
    "deepnote_cell_type": "code",
    "deepnote_cell_height": 215
   },
   "source": "with open('blstm.sav', 'wb') as files:\n    pickle.dump(model, files)",
   "outputs": [
    {
     "name": "stderr",
     "text": "WARNING:absl:Found untraced functions such as lstm_cell_1_layer_call_fn, lstm_cell_1_layer_call_and_return_conditional_losses, lstm_cell_2_layer_call_fn, lstm_cell_2_layer_call_and_return_conditional_losses while saving (showing 4 of 4). These functions will not be directly callable after loading.\nINFO:tensorflow:Assets written to: ram://8f8c0881-9562-4548-8088-48c5bac8c359/assets\nINFO:tensorflow:Assets written to: ram://8f8c0881-9562-4548-8088-48c5bac8c359/assets\nWARNING:absl:<keras.layers.recurrent.LSTMCell object at 0x7fae8d16c510> has the same name 'LSTMCell' as a built-in Keras object. Consider renaming <class 'keras.layers.recurrent.LSTMCell'> to avoid naming conflicts when loading with `tf.keras.models.load_model`. If renaming is not possible, pass the object in the `custom_objects` parameter of the load function.\nWARNING:absl:<keras.layers.recurrent.LSTMCell object at 0x7fae8d16f950> has the same name 'LSTMCell' as a built-in Keras object. Consider renaming <class 'keras.layers.recurrent.LSTMCell'> to avoid naming conflicts when loading with `tf.keras.models.load_model`. If renaming is not possible, pass the object in the `custom_objects` parameter of the load function.\n",
     "output_type": "stream"
    }
   ],
   "execution_count": null
  },
  {
   "cell_type": "code",
   "metadata": {
    "tags": [],
    "deepnote_to_be_reexecuted": false,
    "source_hash": "5d3e0e75",
    "execution_start": 1650350086963,
    "execution_millis": 3788,
    "cell_id": "00009-51f21ded-c76c-433a-bf47-72998bed9c14",
    "deepnote_cell_type": "code",
    "deepnote_cell_height": 624
   },
   "source": "y_pred=model.predict(X_test)\ny_pred = np.where(y_pred>0.5, 1, 0)\n\nm = y_test.shape[0]\ntp=0\ntn=0\nfp=0\nfn=0\nfor i in range(m):\n    if (y_pred[i]==0 and (y_test[i]!=y_pred[i])):\n        fn+=1\n    elif (y_pred[i]==1 and (y_test[i]!=y_pred[i])):\n        fp+=1\n    elif (y_pred[i]==0 and (y_test[i]==y_pred[i])):\n        tn+=1\n    elif (y_pred[i]==1 and (y_test[i]==y_pred[i])):\n        tp+=1\n\nprecision=(tp)/(tp+fp)*100\nrecall=(tp)/(tp+fn)*100\nprint(\"Accuracy = \" + format((tp+tn)/(tp+tn+fp+fn)*100, '.2f') + \"%\")   \nprint(\"F1-Score = \" + format(((2*precision*recall)/(precision+recall)), '.2f') + \"%\")   \nprint(\"Recall = \" + format((tp)/(tp+fn)*100, '.2f') + \"%\")   \nprint(\"Precision = \" + format((tp)/(tp+fp)*100, '.2f') + \"%\")   \nprint(\"Specificity = \" + format((tn)/(tn+fp)*100, '.2f') + \"%\")  ",
   "outputs": [
    {
     "name": "stdout",
     "text": "Accuracy = 68.78%\nF1-Score = 75.57%\nRecall = 80.82%\nPrecision = 70.97%\nSpecificity = 50.91%\n",
     "output_type": "stream"
    }
   ],
   "execution_count": null
  },
  {
   "cell_type": "code",
   "metadata": {
    "tags": [],
    "deepnote_to_be_reexecuted": false,
    "source_hash": "b623e53d",
    "execution_start": 1650350090754,
    "execution_millis": 6,
    "cell_id": "00010-a11da251-9f41-4311-9ab1-d3d56f1dc8d7",
    "deepnote_cell_type": "code",
    "deepnote_cell_height": 81
   },
   "source": "",
   "outputs": [],
   "execution_count": null
  },
  {
   "cell_type": "code",
   "metadata": {
    "tags": [],
    "deepnote_to_be_reexecuted": false,
    "source_hash": "b623e53d",
    "execution_start": 1650350090765,
    "execution_millis": 7,
    "cell_id": "00011-96b18092-06c9-4b08-9ced-0187f43cbbec",
    "deepnote_cell_type": "code",
    "deepnote_cell_height": 81
   },
   "source": "",
   "outputs": [],
   "execution_count": null
  },
  {
   "cell_type": "code",
   "metadata": {
    "tags": [],
    "deepnote_to_be_reexecuted": false,
    "source_hash": "b623e53d",
    "execution_start": 1650350090774,
    "execution_millis": 7,
    "cell_id": "00012-8ea2300e-cf74-4b14-af69-0202bc6bf383",
    "deepnote_cell_type": "code",
    "deepnote_cell_height": 81
   },
   "source": "",
   "outputs": [],
   "execution_count": null
  },
  {
   "cell_type": "code",
   "metadata": {
    "tags": [],
    "deepnote_to_be_reexecuted": false,
    "source_hash": "79bc8afb",
    "execution_start": 1650350090791,
    "execution_millis": 419,
    "cell_id": "00013-651d27d4-5755-4562-a551-62ba5f9e47ad",
    "deepnote_cell_type": "code",
    "deepnote_cell_height": 573.796875,
    "deepnote_output_heights": [
     null,
     280
    ]
   },
   "source": "# Draw the confusion matrix\ndef plot_cmat(yte, ypred):\n    '''Plotting confusion matrix'''\n    skplt.plot_confusion_matrix(yte, ypred)\n    plt.grid(False)\n    plt.show()\n    \nplot_cmat(y_test, y_pred)",
   "outputs": [
    {
     "name": "stderr",
     "text": "/shared-libs/python3.7/py/lib/python3.7/site-packages/sklearn/utils/deprecation.py:87: FutureWarning: Function plot_confusion_matrix is deprecated; This will be removed in v0.4.0. Please use scikitplot.metrics.plot_confusion_matrix instead.\n  warnings.warn(msg, category=FutureWarning)\n",
     "output_type": "stream"
    },
    {
     "data": {
      "text/plain": "<Figure size 432x288 with 2 Axes>",
      "image/png": "[encoded data removed]"
     },
     "metadata": {
      "needs_background": "light",
      "image/png": {
       "width": 312,
       "height": 278
      }
     },
     "output_type": "display_data"
    }
   ],
   "execution_count": null
  },
  {
   "cell_type": "code",
   "metadata": {
    "tags": [],
    "deepnote_to_be_reexecuted": false,
    "source_hash": "b623e53d",
    "execution_start": 1650350091228,
    "execution_millis": 7,
    "cell_id": "00014-1cbe14ad-c8de-478e-bd54-f22002349de5",
    "deepnote_cell_type": "code",
    "deepnote_cell_height": 81
   },
   "source": "",
   "outputs": [],
   "execution_count": null
  },
  {
   "cell_type": "markdown",
   "source": "<a style='text-decoration:none;line-height:16px;display:flex;color:#5B5B62;padding:10px;justify-content:end;' href='https://deepnote.com?utm_source=created-in-deepnote-cell&projectId=3a2c2a1b-c190-4238-a7b0-93cabb99b4e1' target=\"_blank\">\n<img alt='Created in deepnote.com' style='display:inline;max-height:16px;margin:0px;margin-right:7.5px;' src='data:image/svg+xml;base64,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' > </img>\nCreated in <span style='font-weight:600;margin-left:4px;'>Deepnote</span></a>",
   "metadata": {
    "tags": [],
    "created_in_deepnote_cell": true,
    "deepnote_cell_type": "markdown"
   }
  }
 ],
 "nbformat": 4,
 "nbformat_minor": 4,
 "metadata": {
  "kernelspec": {
   "display_name": "Python 3",
   "language": "python",
   "name": "python3"
  },
  "language_info": {
   "codemirror_mode": {
    "name": "ipython",
    "version": 3
   },
   "file_extension": ".py",
   "mimetype": "text/x-python",
   "name": "python",
   "nbconvert_exporter": "python",
   "pygments_lexer": "ipython3",
   "version": "3.8.5"
  },
  "deepnote_notebook_id": "c692649e-28da-4ea7-85b2-2e69f769b52e",
  "deepnote": {},
  "deepnote_execution_queue": []
 }
}