{
 "cells": [
  {
   "cell_type": "code",
   "metadata": {
    "tags": [],
    "deepnote_to_be_reexecuted": false,
    "source_hash": "7176ae63",
    "execution_start": 1650349975259,
    "execution_millis": 2332,
    "cell_id": "defb497e-13b6-4743-8493-7d29fdf41cc1",
    "deepnote_cell_type": "code",
    "deepnote_cell_height": 168
   },
   "source": "import nltk\nnltk.download('stopwords')\nimport pickle",
   "outputs": [
    {
     "name": "stderr",
     "text": "[nltk_data] Downloading package stopwords to /root/nltk_data...\n[nltk_data]   Package stopwords is already up-to-date!\n",
     "output_type": "stream"
    }
   ],
   "execution_count": null
  },
  {
   "cell_type": "code",
   "metadata": {
    "deepnote_to_be_reexecuted": false,
    "source_hash": "35ddda69",
    "execution_start": 1650349977602,
    "execution_millis": 19701,
    "cell_id": "00001-043655d6-c028-4298-a64c-171b3465b31f",
    "owner_user_id": "90d8e9a7-4cf7-49f2-843d-0f73d1ab4387",
    "deepnote_cell_type": "code",
    "deepnote_cell_height": 726
   },
   "source": "#!/usr/bin/env python3\n# -*- coding: utf-8 -*-\n\n\"\"\"\nFake news detection\nLSTM model\n\"\"\"\nimport getEmbeddings\nimport matplotlib.pyplot as plt\nimport numpy as np\nfrom tensorflow import keras \nfrom tensorflow.keras import backend as K\nimport np_utils\nfrom tensorflow.keras.models import Sequential\nfrom tensorflow.keras.layers import Dense, Dropout, LSTM, Embedding, Input, RepeatVector\nfrom tensorflow.keras.optimizers import SGD\nfrom sklearn.preprocessing import LabelEncoder\nfrom sklearn.model_selection import train_test_split\nimport scikitplot.plotters as skplt\nimport os\nfrom tensorflow.keras.datasets import imdb\nfrom tensorflow.keras.layers import Embedding\nfrom tensorflow.keras.preprocessing import sequence\nfrom collections import Counter\nimport matplotlib.pyplot as plt\n\n\n\ntop_words = 5000\nepoch_num = 8\nbatch_size = 128\n\n\n",
   "outputs": [
    {
     "name": "stderr",
     "text": "[nltk_data] Downloading package stopwords to /root/nltk_data...\n[nltk_data]   Package stopwords is already up-to-date!\n",
     "output_type": "stream"
    }
   ],
   "execution_count": null
  },
  {
   "cell_type": "code",
   "metadata": {
    "tags": [],
    "deepnote_to_be_reexecuted": false,
    "source_hash": "b623e53d",
    "execution_start": 1650349997311,
    "execution_millis": 26,
    "cell_id": "00002-019a265f-18e3-4fc5-a069-38f19942d2a4",
    "deepnote_cell_type": "code",
    "deepnote_cell_height": 81
   },
   "source": "",
   "outputs": [],
   "execution_count": null
  },
  {
   "cell_type": "code",
   "metadata": {
    "tags": [],
    "deepnote_to_be_reexecuted": false,
    "source_hash": "b623e53d",
    "execution_start": 1650349997344,
    "execution_millis": 20,
    "cell_id": "00003-fde4d63a-d1ed-4f81-a056-3b5be29d1087",
    "deepnote_cell_type": "code",
    "deepnote_cell_height": 81
   },
   "source": "",
   "outputs": [],
   "execution_count": null
  },
  {
   "cell_type": "code",
   "metadata": {
    "deepnote_to_be_reexecuted": false,
    "source_hash": "e21176ab",
    "execution_start": 1650349997382,
    "execution_millis": 5158,
    "cell_id": "00004-26ee9996-42d7-4e25-8a07-2accfd0eb199",
    "deepnote_cell_type": "code",
    "deepnote_cell_height": 531
   },
   "source": "\n# # Read the text data\n# if not os.path.isfile('./xxtr_shuffled.npy') or \\\n#     not os.path.isfile('./xxte_shuffled.npy') or \\\n#     not os.path.isfile('./xytr_shuffled.npy') or \\\n#     not os.path.isfile('./xyte_shuffled.npy'):\n    \ngetEmbeddings.clean_data('datasets/news_articles.csv','./xxtr_shuffled.npy','./xxte_shuffled.npy','./xytr_shuffled.npy','./xyte_shuffled.npy')\n\n\nxtr = np.load('./xxtr_shuffled.npy', allow_pickle=True)\nxte = np.load('./xxte_shuffled.npy', allow_pickle=True)\ny_train = np.load('./xytr_shuffled.npy', allow_pickle=True)\ny_test = np.load('./xyte_shuffled.npy', allow_pickle=True)\ny_train=np.where(y_train==\"Real\",0,1)\ny_test=np.where(y_test==\"Real\",0,1)\n\ncnt = Counter()\nx_train = []\nfor x in xtr:\n    x_train.append(x.split())\n    for word in x_train[-1]:\n        cnt[word] += 1  \n\n\n",
   "outputs": [],
   "execution_count": null
  },
  {
   "cell_type": "code",
   "metadata": {
    "deepnote_to_be_reexecuted": false,
    "source_hash": "18ed0683",
    "execution_start": 1650350002558,
    "execution_millis": 21,
    "cell_id": "00005-de06998c-ce68-48a4-bf5f-a1f0809ea8c8",
    "deepnote_cell_type": "code",
    "deepnote_cell_height": 225
   },
   "source": "# Storing most common words\nmost_common = cnt.most_common(top_words + 1)\nword_bank = {}\nid_num = 1\nfor word, freq in most_common:\n    word_bank[word] = id_num\n    id_num += 1\n\n",
   "outputs": [],
   "execution_count": null
  },
  {
   "cell_type": "code",
   "metadata": {
    "deepnote_to_be_reexecuted": false,
    "source_hash": "dac300d",
    "execution_start": 1650350002597,
    "execution_millis": 178,
    "cell_id": "00006-ae0696c5-f088-4778-b407-b038307801b9",
    "deepnote_cell_type": "code",
    "deepnote_cell_height": 333
   },
   "source": "# Encode the sentences\nfor news in x_train:\n    i = 0\n    while i < len(news):\n        if news[i] in word_bank:\n            news[i] = word_bank[news[i]]\n            i += 1\n        else:\n            del news[i]\n\n\n\ny_train = list(y_train)\ny_test = list(y_test)\n",
   "outputs": [],
   "execution_count": null
  },
  {
   "cell_type": "code",
   "metadata": {
    "tags": [],
    "deepnote_to_be_reexecuted": false,
    "source_hash": "e21f93e6",
    "execution_start": 1650350002778,
    "execution_millis": 49,
    "cell_id": "00007-d5fe9628-d7d4-4193-85a5-f7f67107272a",
    "deepnote_cell_type": "code",
    "deepnote_cell_height": 116.796875
   },
   "source": "print(y_train)",
   "outputs": [
    {
     "name": "stdout",
     "text": "[1, 1, 0, 1, 1, 1, 1, 1, 1, 0, 1, 1, 1, 1, 0, 0, 0, 0, 0, 1, 0, 0, 0, 1, 1, 1, 1, 1, 1, 0, 1, 1, 1, 0, 1, 1, 0, 1, 0, 1, 1, 1, 1, 1, 0, 1, 1, 1, 0, 1, 1, 1, 1, 1, 0, 0, 1, 0, 1, 1, 1, 0, 1, 0, 1, 1, 0, 0, 1, 1, 0, 0, 1, 0, 1, 1, 1, 1, 1, 1, 1, 1, 1, 1, 0, 0, 0, 0, 1, 0, 1, 0, 0, 1, 0, 1, 1, 0, 1, 0, 1, 1, 0, 0, 1, 0, 1, 1, 0, 1, 1, 1, 1, 1, 1, 1, 1, 1, 1, 0, 0, 1, 1, 1, 1, 1, 1, 1, 1, 1, 1, 1, 1, 1, 0, 1, 1, 0, 1, 1, 0, 1, 0, 1, 1, 1, 1, 0, 1, 1, 1, 0, 0, 1, 1, 1, 0, 1, 0, 1, 1, 1, 1, 1, 0, 1, 1, 1, 1, 0, 1, 1, 1, 0, 0, 0, 1, 1, 1, 1, 1, 1, 0, 1, 0, 1, 0, 0, 1, 1, 1, 0, 1, 1, 0, 1, 1, 0, 0, 0, 0, 1, 1, 0, 1, 1, 0, 1, 1, 0, 1, 1, 0, 1, 0, 1, 1, 1, 1, 1, 1, 1, 1, 1, 0, 1, 1, 0, 1, 1, 0, 1, 1, 1, 0, 1, 1, 1, 1, 0, 1, 0, 1, 1, 0, 1, 0, 0, 0, 1, 0, 0, 1, 1, 1, 0, 0, 1, 1, 0, 1, 1, 1, 1, 0, 1, 1, 0, 1, 0, 0, 1, 1, 1, 1, 1, 1, 0, 1, 1, 1, 1, 0, 1, 1, 1, 1, 0, 1, 1, 0, 1, 1, 1, 1, 1, 1, 0, 0, 0, 0, 0, 1, 1, 0, 0, 1, 1, 1, 1, 0, 0, 0, 1, 1, 1, 0, 1, 1, 0, 1, 1, 1, 1, 0, 1, 1, 0, 1, 1, 0, 0, 1, 0, 0, 0, 1, 1, 1, 1, 1, 1, 1, 0, 1, 0, 1, 0, 0, 0, 0, 0, 1, 0, 1, 0, 0, 1, 1, 1, 1, 0, 0, 1, 1, 1, 0, 0, 1, 1, 0, 1, 0, 0, 0, 1, 1, 0, 1, 0, 1, 0, 1, 1, 0, 1, 1, 1, 0, 0, 1, 1, 0, 0, 1, 1, 1, 1, 1, 1, 0, 0, 1, 0, 1, 1, 1, 1, 0, 1, 1, 1, 1, 0, 0, 0, 0, 1, 1, 1, 1, 0, 0, 1, 0, 0, 1, 1, 1, 1, 0, 0, 1, 0, 0, 0, 0, 0, 0, 1, 0, 0, 0, 0, 0, 0, 1, 0, 1, 0, 1, 1, 0, 1, 1, 1, 0, 0, 1, 1, 0, 1, 1, 0, 1, 0, 1, 1, 1, 1, 0, 1, 1, 1, 0, 1, 1, 1, 0, 1, 0, 0, 0, 0, 0, 1, 1, 0, 0, 1, 0, 1, 1, 1, 0, 1, 1, 1, 1, 1, 0, 1, 1, 0, 0, 0, 0, 0, 1, 1, 1, 1, 1, 0, 0, 0, 1, 1, 0, 0, 0, 0, 1, 1, 1, 1, 1, 0, 0, 1, 1, 1, 1, 0, 1, 1, 1, 1, 0, 1, 0, 1, 1, 1, 1, 1, 1, 0, 1, 0, 1, 1, 1, 1, 1, 0, 1, 0, 0, 1, 0, 0, 0, 0, 0, 0, 0, 0, 1, 0, 0, 1, 0, 1, 1, 1, 1, 1, 1, 0, 1, 1, 0, 1, 1, 1, 0, 1, 1, 0, 0, 0, 1, 1, 1, 1, 1, 1, 0, 0, 1, 1, 0, 1, 1, 1, 1, 0, 0, 1, 0, 0, 1, 0, 1, 1, 1, 1, 0, 1, 1, 1, 1, 0, 1, 1, 0, 0, 0, 1, 1, 1, 1, 1, 1, 0, 1, 1, 0, 0, 1, 0, 0, 1, 1, 0, 1, 1, 0, 1, 1, 1, 1, 0, 0, 1, 1, 0, 1, 1, 1, 0, 0, 1, 1, 0, 1, 0, 1, 1, 1, 1, 1, 1, 1, 1, 0, 0, 1, 1, 1, 1, 0, 1, 1, 1, 1, 0, 0, 1, 1, 0, 0, 1, 1, 0, 0, 0, 1, 0, 1, 0, 1, 0, 1, 1, 0, 0, 1, 1, 0, 1, 0, 0, 1, 0, 1, 0, 0, 0, 0, 1, 1, 1, 0, 0, 1, 0, 0, 1, 1, 1, 1, 0, 1, 1, 1, 1, 0, 1, 0, 1, 0, 0, 1, 0, 0, 1, 1, 1, 0, 1, 1, 1, 1, 1, 1, 1, 0, 0, 1, 1, 1, 0, 0, 0, 1, 1, 1, 1, 1, 1, 1, 1, 0, 0, 1, 1, 1, 1, 1, 0, 1, 1, 0, 1, 1, 1, 1, 1, 1, 1, 1, 1, 1, 0, 0, 1, 1, 0, 1, 1, 0, 1, 0, 1, 1, 0, 1, 1, 1, 1, 0, 1, 1, 0, 0, 0, 1, 1, 1, 1, 1, 1, 1, 1, 1, 1, 0, 0, 1, 0, 1, 1, 1, 0, 1, 1, 1, 1, 1, 1, 1, 0, 1, 1, 1, 1, 0, 0, 1, 1, 1, 1, 1, 1, 0, 0, 0, 1, 0, 0, 0, 0, 1, 0, 1, 0, 1, 1, 1, 0, 1, 1, 1, 0, 1, 1, 0, 1, 1, 0, 1, 1, 1, 1, 1, 0, 0, 1, 1, 1, 1, 0, 1, 0, 1, 1, 0, 0, 1, 0, 0, 1, 1, 1, 1, 1, 0, 1, 1, 1, 1, 1, 0, 0, 1, 0, 1, 0, 0, 1, 1, 0, 0, 0, 1, 1, 1, 1, 1, 0, 1, 0, 0, 1, 1, 1, 1, 1, 1, 1, 0, 0, 1, 1, 0, 1, 1, 1, 1, 1, 1, 1, 1, 1, 0, 1, 0, 1, 1, 0, 1, 1, 1, 1, 1, 1, 0, 1, 1, 1, 1, 1, 1, 0, 0, 1, 1, 1, 0, 0, 1, 1, 0, 1, 0, 1, 1, 1, 1, 0, 1, 0, 0, 0, 1, 1, 1, 0, 1, 0, 0, 1, 1, 1, 1, 1, 1, 1, 0, 0, 0, 1, 1, 0, 0, 0, 0, 1, 1, 0, 1, 0, 0, 1, 1, 1, 1, 1, 0, 1, 1, 1, 0, 1, 1, 1, 0, 0, 1, 1, 1, 1, 1, 1, 0, 1, 0, 1, 0, 1, 1, 0, 1, 0, 0, 1, 1, 1, 1, 0, 1, 1, 1, 0, 0, 1, 0, 1, 1, 1, 1, 1, 1, 1, 0, 1, 1, 0, 0, 1, 1, 1, 0, 1, 0, 0, 1, 1, 0, 0, 0, 1, 1, 0, 0, 0, 1, 1, 1, 1, 1, 1, 1, 1, 1, 1, 0, 1, 0, 1, 1, 1, 1, 0, 1, 1, 0, 0, 0, 0, 1, 0, 1, 1, 0, 0, 1, 1, 0, 0, 1, 0, 1, 0, 1, 0, 1, 0, 0, 1, 1, 1, 0, 0, 0, 1, 1, 0, 1, 1, 1, 1, 1, 1, 1, 1, 0, 1, 0, 0, 0, 1, 1, 0, 0, 1, 1, 0, 1, 1, 1, 1, 1, 0, 1, 1, 1, 1, 1, 1, 1, 1, 1, 1, 0, 1, 1, 1, 1, 0, 1, 0, 0, 1, 0, 1, 1, 1, 1, 1, 1, 0, 0, 1, 1, 0, 1, 0, 1, 1, 0, 1, 0, 0, 1, 1, 1, 1, 1, 1, 1, 1, 1, 1, 0, 0, 1, 1, 1, 0, 1, 0, 1, 0, 1, 1, 1, 1, 1, 0, 0, 1, 0, 0, 1, 0, 1, 0, 0, 1, 1, 1, 1, 1, 0, 1, 1, 1, 1, 0, 0, 1, 1, 0, 1, 0, 1, 1, 1, 1, 0, 0, 1, 1, 1, 0, 1, 1, 0, 0, 1, 1, 1, 0, 1, 0, 1, 1, 1, 1, 1, 1, 0, 1, 1, 1, 0, 1, 1, 0, 1, 0, 0, 1, 0, 1, 1, 1, 0, 1, 1, 1, 1, 0, 0, 1, 1, 1, 1, 1, 1, 1, 0, 1, 0, 0, 1, 1, 0, 1, 1, 1, 1, 1, 0, 0, 1, 1, 0, 1, 0, 1, 1, 0, 0, 0, 1, 1, 1, 1, 1, 0, 0, 0, 1, 0, 0, 1, 1, 1, 1, 0, 1, 0, 1, 1, 0, 0, 0, 0, 1, 1, 1, 1, 1, 1, 1, 1, 0, 1, 1, 1, 1, 1, 1, 0, 0, 0, 0, 0, 1, 1, 0, 0, 1, 0, 1, 1, 1, 1, 1, 1, 0, 0, 1, 0, 1, 1, 1, 1, 0, 1, 1, 1, 1, 0, 1, 1, 1, 0, 0, 0, 1, 1, 1, 0, 1, 0, 1, 1, 0, 1, 1, 1, 0, 1, 1, 1, 1, 1, 1, 0, 1, 0, 0, 0, 1, 1, 1, 1, 0, 1, 1, 1, 1, 1, 1, 0, 0, 1, 1, 1, 0, 0, 1, 1, 0, 1, 0, 1, 0, 1, 1, 0, 1, 1, 0, 0, 0, 1, 1, 1, 0, 0, 0, 1, 1, 0, 1, 1, 1, 0, 1, 1, 1, 1, 1, 1, 0, 0, 1, 1, 0, 0, 0, 0, 1, 1, 0, 0, 0, 0, 1, 0, 1, 1, 1, 0, 0, 0, 1, 0, 0, 1, 1, 1, 1, 1, 0, 0, 1, 1, 1, 1, 0, 1, 1, 1, 0, 1, 0, 1, 0, 1, 0, 1, 1, 0, 0, 0, 0, 1, 1, 0, 0, 0, 1, 1, 1, 0, 1, 1, 1, 0, 0, 1, 0, 0, 0, 0, 0, 1, 0, 1, 0, 1, 1, 1, 1, 1, 1, 1, 1, 1, 0, 1, 0, 1, 1, 1, 1, 0, 0, 1, 0, 1, 0, 0, 1, 0, 1, 0, 1, 1, 1, 1, 1, 0, 1, 1, 0, 1, 1, 0, 0, 1, 1, 1, 1, 1, 1, 0, 1, 0, 0, 1, 1, 1, 1, 1, 1, 1, 0, 0, 1, 1, 1, 0]\n",
     "output_type": "stream"
    }
   ],
   "execution_count": null
  },
  {
   "cell_type": "code",
   "metadata": {
    "deepnote_to_be_reexecuted": false,
    "source_hash": "53190dad",
    "execution_start": 1650350002827,
    "execution_millis": 42,
    "cell_id": "00008-44694138-e591-4ba9-aec9-b07a16a9da77",
    "deepnote_cell_type": "code",
    "deepnote_cell_height": 639
   },
   "source": "# Delete the short news\ni = 0\nwhile i < len(x_train):\n    if len(x_train[i]) > 10:\n        i += 1\n    else:\n        del x_train[i]\n        del y_train[i]\n\n# Generating test data\nx_test = []\nfor x in xte:\n    x_test.append(x.split())\n\n# Encode the sentences\nfor news in x_test:\n    i = 0\n    while i < len(news):\n        if news[i] in word_bank:\n            news[i] = word_bank[news[i]]\n            i += 1\n        else:\n            del news[i]\n\n# Truncate and pad input sequences\nmax_review_length = 300\nX_train = sequence.pad_sequences(x_train, maxlen=max_review_length)\nX_test = sequence.pad_sequences(x_test, maxlen=max_review_length)\n\n# Convert to numpy arrays\ny_train = np.array(y_train)\ny_test = np.array(y_test)",
   "outputs": [],
   "execution_count": null
  },
  {
   "cell_type": "code",
   "metadata": {
    "deepnote_to_be_reexecuted": false,
    "source_hash": "e6c3a626",
    "execution_start": 1650350002918,
    "execution_millis": 85964,
    "cell_id": "00009-cfdec8ba-12ae-4e37-a0d6-e6f45ead8459",
    "deepnote_cell_type": "code",
    "deepnote_cell_height": 969.1875,
    "deepnote_output_heights": [
     null,
     21.1875
    ]
   },
   "source": "# Create the model\nembedding_vecor_length = 32\nmodel = Sequential()\nmodel.add(Embedding(top_words+2, embedding_vecor_length, input_length=max_review_length))\nmodel.add(LSTM(100))\nmodel.add(Dense(1, activation='sigmoid'))\nmodel.compile(loss='binary_crossentropy', optimizer='adam', metrics=['accuracy'])\nprint(model.summary())\nmodel.fit(X_train, y_train, validation_data=(X_test, y_test), epochs=epoch_num, batch_size=batch_size)\n\n\n\n",
   "outputs": [
    {
     "name": "stdout",
     "text": "Model: \"sequential\"\n_________________________________________________________________\n Layer (type)                Output Shape              Param #   \n=================================================================\n embedding (Embedding)       (None, 300, 32)           160064    \n                                                                 \n lstm (LSTM)                 (None, 100)               53200     \n                                                                 \n dense (Dense)               (None, 1)                 101       \n                                                                 \n=================================================================\nTotal params: 213,365\nTrainable params: 213,365\nNon-trainable params: 0\n_________________________________________________________________\nNone\nEpoch 1/8\n13/13 [==============================] - 11s 680ms/step - loss: 0.6774 - accuracy: 0.6214 - val_loss: 0.6592 - val_accuracy: 0.6122\nEpoch 2/8\n13/13 [==============================] - 9s 658ms/step - loss: 0.6382 - accuracy: 0.6311 - val_loss: 0.6408 - val_accuracy: 0.6122\nEpoch 3/8\n13/13 [==============================] - 9s 660ms/step - loss: 0.5632 - accuracy: 0.6460 - val_loss: 0.5663 - val_accuracy: 0.6634\nEpoch 4/8\n13/13 [==============================] - 9s 674ms/step - loss: 0.6014 - accuracy: 0.8712 - val_loss: 0.6065 - val_accuracy: 0.7073\nEpoch 5/8\n13/13 [==============================] - 8s 649ms/step - loss: 0.5398 - accuracy: 0.8926 - val_loss: 0.5889 - val_accuracy: 0.7220\nEpoch 6/8\n13/13 [==============================] - 8s 647ms/step - loss: 0.4906 - accuracy: 0.9172 - val_loss: 0.5622 - val_accuracy: 0.7220\nEpoch 7/8\n13/13 [==============================] - 15s 1s/step - loss: 0.4247 - accuracy: 0.9333 - val_loss: 0.5372 - val_accuracy: 0.7268\nEpoch 8/8\n13/13 [==============================] - 17s 1s/step - loss: 0.3526 - accuracy: 0.9443 - val_loss: 0.5210 - val_accuracy: 0.7268\n",
     "output_type": "stream"
    },
    {
     "output_type": "execute_result",
     "execution_count": 8,
     "data": {
      "text/plain": "<keras.callbacks.History at 0x7f388cea9e90>"
     },
     "metadata": {}
    }
   ],
   "execution_count": null
  },
  {
   "cell_type": "code",
   "metadata": {
    "tags": [],
    "deepnote_to_be_reexecuted": false,
    "source_hash": "8715c90c",
    "execution_start": 1650350088884,
    "execution_millis": 5910,
    "cell_id": "00010-db3361d6-2e5a-4d79-8089-cc25d50c77c9",
    "deepnote_cell_type": "code",
    "deepnote_cell_height": 194.796875
   },
   "source": "with open('lstm.sav', 'wb') as files:\n    pickle.dump(model, files)",
   "outputs": [
    {
     "name": "stderr",
     "text": "WARNING:absl:Found untraced functions such as lstm_cell_layer_call_fn, lstm_cell_layer_call_and_return_conditional_losses while saving (showing 2 of 2). These functions will not be directly callable after loading.\nINFO:tensorflow:Assets written to: ram://809fefae-e59b-4a19-8a89-f3d98e249598/assets\nINFO:tensorflow:Assets written to: ram://809fefae-e59b-4a19-8a89-f3d98e249598/assets\nWARNING:absl:<keras.layers.recurrent.LSTMCell object at 0x7f388cedf9d0> has the same name 'LSTMCell' as a built-in Keras object. Consider renaming <class 'keras.layers.recurrent.LSTMCell'> to avoid naming conflicts when loading with `tf.keras.models.load_model`. If renaming is not possible, pass the object in the `custom_objects` parameter of the load function.\n",
     "output_type": "stream"
    }
   ],
   "execution_count": null
  },
  {
   "cell_type": "code",
   "metadata": {
    "tags": [],
    "deepnote_to_be_reexecuted": false,
    "source_hash": "237ae0da",
    "execution_start": 1650350094755,
    "execution_millis": 1275,
    "cell_id": "00011-501fe544-74aa-4cd2-8209-347477ee0545",
    "deepnote_cell_type": "code",
    "deepnote_cell_height": 117
   },
   "source": "y_pred=model.predict(X_test)\ny_pred = np.where(y_pred>0.5, 1, 0)\n",
   "outputs": [],
   "execution_count": null
  },
  {
   "cell_type": "code",
   "metadata": {
    "tags": [],
    "deepnote_to_be_reexecuted": false,
    "source_hash": "a4f372a4",
    "execution_start": 1650350096049,
    "execution_millis": 2,
    "cell_id": "00012-74785b9c-1b09-4825-93cd-2097c2b10583",
    "deepnote_cell_type": "code",
    "deepnote_cell_height": 624
   },
   "source": "\n\n\nm = y_test.shape[0]\ntp=0\ntn=0\nfp=0\nfn=0\nfor i in range(m):\n    if (y_pred[i]==0 and (y_test[i]!=y_pred[i])):\n        fn+=1\n    elif (y_pred[i]==1 and (y_test[i]!=y_pred[i])):\n        fp+=1\n    elif (y_pred[i]==0 and (y_test[i]==y_pred[i])):\n        tn+=1\n    elif (y_pred[i]==1 and (y_test[i]==y_pred[i])):\n        tp+=1\n\nprecision=(tp)/(tp+fp)*100\nrecall=(tp)/(tp+fn)*100\nprint(\"Accuracy = \" + format((tp+tn)/(tp+tn+fp+fn)*100, '.2f') + \"%\")   \nprint(\"F1-Score = \" + format(((2*precision*recall)/(precision+recall)), '.2f') + \"%\")   \nprint(\"Recall = \" + format((tp)/(tp+fn)*100, '.2f') + \"%\")   \nprint(\"Precision = \" + format((tp)/(tp+fp)*100, '.2f') + \"%\")   \nprint(\"Specificity = \" + format((tn)/(tn+fp)*100, '.2f') + \"%\")  ",
   "outputs": [
    {
     "name": "stdout",
     "text": "Accuracy = 72.68%\nF1-Score = 78.95%\nRecall = 83.67%\nPrecision = 74.73%\nSpecificity = 55.35%\n",
     "output_type": "stream"
    }
   ],
   "execution_count": null
  },
  {
   "cell_type": "code",
   "metadata": {
    "tags": [],
    "deepnote_to_be_reexecuted": false,
    "source_hash": "79bc8afb",
    "execution_start": 1650350096061,
    "execution_millis": 495,
    "cell_id": "00013-bf37ea6c-1e50-4dd6-9e67-ed1198a6e83b",
    "deepnote_cell_type": "code",
    "deepnote_cell_height": 573.796875,
    "deepnote_output_heights": [
     null,
     280
    ]
   },
   "source": "# Draw the confusion matrix\ndef plot_cmat(yte, ypred):\n    '''Plotting confusion matrix'''\n    skplt.plot_confusion_matrix(yte, ypred)\n    plt.grid(False)\n    plt.show()\n    \nplot_cmat(y_test, y_pred)",
   "outputs": [
    {
     "name": "stderr",
     "text": "/shared-libs/python3.7/py/lib/python3.7/site-packages/sklearn/utils/deprecation.py:87: FutureWarning: Function plot_confusion_matrix is deprecated; This will be removed in v0.4.0. Please use scikitplot.metrics.plot_confusion_matrix instead.\n  warnings.warn(msg, category=FutureWarning)\n",
     "output_type": "stream"
    },
    {
     "data": {
      "text/plain": "<Figure size 432x288 with 2 Axes>",
      "image/png": "[encoded data removed]"
     },
     "metadata": {
      "needs_background": "light",
      "image/png": {
       "width": 312,
       "height": 278
      }
     },
     "output_type": "display_data"
    }
   ],
   "execution_count": null
  },
  {
   "cell_type": "code",
   "metadata": {
    "tags": [],
    "deepnote_to_be_reexecuted": false,
    "source_hash": "891f87f9",
    "execution_start": 1650350096563,
    "execution_millis": 0,
    "cell_id": "00014-1898d0a4-4f27-4a57-b9c6-079b6c1eee67",
    "deepnote_cell_type": "code",
    "deepnote_cell_height": 99
   },
   "source": "# filename = 'lstm.sav'\n# pickle.dump(model, open(filename, 'wb'))",
   "outputs": [],
   "execution_count": null
  },
  {
   "cell_type": "markdown",
   "source": "<a style='text-decoration:none;line-height:16px;display:flex;color:#5B5B62;padding:10px;justify-content:end;' href='https://deepnote.com?utm_source=created-in-deepnote-cell&projectId=3a2c2a1b-c190-4238-a7b0-93cabb99b4e1' target=\"_blank\">\n<img alt='Created in deepnote.com' style='display:inline;max-height:16px;margin:0px;margin-right:7.5px;' src='data:image/svg+xml;base64,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' > </img>\nCreated in <span style='font-weight:600;margin-left:4px;'>Deepnote</span></a>",
   "metadata": {
    "tags": [],
    "created_in_deepnote_cell": true,
    "deepnote_cell_type": "markdown"
   }
  }
 ],
 "nbformat": 4,
 "nbformat_minor": 4,
 "metadata": {
  "kernelspec": {
   "display_name": "Python 3",
   "language": "python",
   "name": "python3"
  },
  "language_info": {
   "codemirror_mode": {
    "name": "ipython",
    "version": 3
   },
   "file_extension": ".py",
   "mimetype": "text/x-python",
   "name": "python",
   "nbconvert_exporter": "python",
   "pygments_lexer": "ipython3",
   "version": "3.8.5"
  },
  "deepnote_notebook_id": "0450d16c-e3b8-4175-8dd1-1cad015a473d",
  "deepnote": {},
  "deepnote_execution_queue": []
 }
}