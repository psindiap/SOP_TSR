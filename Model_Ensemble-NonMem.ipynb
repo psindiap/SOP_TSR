{
 "cells": [
  {
   "cell_type": "code",
   "metadata": {
    "tags": [],
    "deepnote_to_be_reexecuted": false,
    "source_hash": "937d301f",
    "execution_start": 1650296625024,
    "execution_millis": 23590,
    "cell_id": "247d22ae-01dc-4092-9f96-9f30f1435e17",
    "deepnote_cell_type": "code",
    "deepnote_cell_height": 861.1875
   },
   "source": "!pip install Embeddings==0.0.8\n!pip install np_utils\n!pip install scikit-plot\n!pip install gensim==3.8.3\n!pip install vecstack\nimport nltk\nnltk.download('stopwords')",
   "execution_count": null,
   "outputs": [
    {
     "name": "stdout",
     "text": "Requirement already satisfied: Embeddings==0.0.8 in /root/venv/lib/python3.7/site-packages (0.0.8)\nRequirement already satisfied: requests in /shared-libs/python3.7/py/lib/python3.7/site-packages (from Embeddings==0.0.8) (2.27.1)\nRequirement already satisfied: tqdm in /shared-libs/python3.7/py/lib/python3.7/site-packages (from Embeddings==0.0.8) (4.63.0)\nRequirement already satisfied: numpy in /shared-libs/python3.7/py/lib/python3.7/site-packages (from Embeddings==0.0.8) (1.21.5)\nRequirement already satisfied: charset-normalizer~=2.0.0; python_version >= \"3\" in /shared-libs/python3.7/py-core/lib/python3.7/site-packages (from requests->Embeddings==0.0.8) (2.0.12)\nRequirement already satisfied: idna<4,>=2.5; python_version >= \"3\" in /shared-libs/python3.7/py-core/lib/python3.7/site-packages (from requests->Embeddings==0.0.8) (3.3)\nRequirement already satisfied: certifi>=2017.4.17 in /shared-libs/python3.7/py/lib/python3.7/site-packages (from requests->Embeddings==0.0.8) (2021.10.8)\nRequirement already satisfied: urllib3<1.27,>=1.21.1 in /shared-libs/python3.7/py/lib/python3.7/site-packages (from requests->Embeddings==0.0.8) (1.26.9)\n\u001b[33mWARNING: You are using pip version 20.1.1; however, version 22.0.4 is available.\nYou should consider upgrading via the '/root/venv/bin/python -m pip install --upgrade pip' command.\u001b[0m\nRequirement already satisfied: np_utils in /root/venv/lib/python3.7/site-packages (0.6.0)\nRequirement already satisfied: numpy>=1.0 in /shared-libs/python3.7/py/lib/python3.7/site-packages (from np_utils) (1.21.5)\n\u001b[33mWARNING: You are using pip version 20.1.1; however, version 22.0.4 is available.\nYou should consider upgrading via the '/root/venv/bin/python -m pip install --upgrade pip' command.\u001b[0m\nRequirement already satisfied: scikit-plot in /root/venv/lib/python3.7/site-packages (0.3.7)\nRequirement already satisfied: scikit-learn>=0.18 in /shared-libs/python3.7/py/lib/python3.7/site-packages (from scikit-plot) (1.0.2)\nRequirement already satisfied: joblib>=0.10 in /shared-libs/python3.7/py/lib/python3.7/site-packages (from scikit-plot) (1.1.0)\nRequirement already satisfied: scipy>=0.9 in /shared-libs/python3.7/py/lib/python3.7/site-packages (from scikit-plot) (1.7.3)\nRequirement already satisfied: matplotlib>=1.4.0 in /shared-libs/python3.7/py/lib/python3.7/site-packages (from scikit-plot) (3.5.1)\nRequirement already satisfied: threadpoolctl>=2.0.0 in /shared-libs/python3.7/py/lib/python3.7/site-packages (from scikit-learn>=0.18->scikit-plot) (3.1.0)\nRequirement already satisfied: numpy>=1.14.6 in /shared-libs/python3.7/py/lib/python3.7/site-packages (from scikit-learn>=0.18->scikit-plot) (1.21.5)\nRequirement already satisfied: fonttools>=4.22.0 in /shared-libs/python3.7/py/lib/python3.7/site-packages (from matplotlib>=1.4.0->scikit-plot) (4.31.2)\nRequirement already satisfied: pillow>=6.2.0 in /shared-libs/python3.7/py/lib/python3.7/site-packages (from matplotlib>=1.4.0->scikit-plot) (9.0.1)\nRequirement already satisfied: kiwisolver>=1.0.1 in /shared-libs/python3.7/py/lib/python3.7/site-packages (from matplotlib>=1.4.0->scikit-plot) (1.4.0)\nRequirement already satisfied: pyparsing>=2.2.1 in /shared-libs/python3.7/py-core/lib/python3.7/site-packages (from matplotlib>=1.4.0->scikit-plot) (3.0.7)\nRequirement already satisfied: cycler>=0.10 in /shared-libs/python3.7/py/lib/python3.7/site-packages (from matplotlib>=1.4.0->scikit-plot) (0.11.0)\nRequirement already satisfied: packaging>=20.0 in /shared-libs/python3.7/py-core/lib/python3.7/site-packages (from matplotlib>=1.4.0->scikit-plot) (21.3)\nRequirement already satisfied: python-dateutil>=2.7 in /shared-libs/python3.7/py-core/lib/python3.7/site-packages (from matplotlib>=1.4.0->scikit-plot) (2.8.2)\nRequirement already satisfied: typing-extensions; python_version < \"3.8\" in /shared-libs/python3.7/py-core/lib/python3.7/site-packages (from kiwisolver>=1.0.1->matplotlib>=1.4.0->scikit-plot) (4.1.1)\nRequirement already satisfied: six>=1.5 in /shared-libs/python3.7/py-core/lib/python3.7/site-packages (from python-dateutil>=2.7->matplotlib>=1.4.0->scikit-plot) (1.16.0)\n\u001b[33mWARNING: You are using pip version 20.1.1; however, version 22.0.4 is available.\nYou should consider upgrading via the '/root/venv/bin/python -m pip install --upgrade pip' command.\u001b[0m\nRequirement already satisfied: gensim==3.8.3 in /root/venv/lib/python3.7/site-packages (3.8.3)\nRequirement already satisfied: scipy>=0.18.1 in /shared-libs/python3.7/py/lib/python3.7/site-packages (from gensim==3.8.3) (1.7.3)\nRequirement already satisfied: six>=1.5.0 in /shared-libs/python3.7/py-core/lib/python3.7/site-packages (from gensim==3.8.3) (1.16.0)\nRequirement already satisfied: numpy>=1.11.3 in /shared-libs/python3.7/py/lib/python3.7/site-packages (from gensim==3.8.3) (1.21.5)\nRequirement already satisfied: smart-open>=1.8.1 in /shared-libs/python3.7/py/lib/python3.7/site-packages (from gensim==3.8.3) (5.2.1)\n\u001b[33mWARNING: You are using pip version 20.1.1; however, version 22.0.4 is available.\nYou should consider upgrading via the '/root/venv/bin/python -m pip install --upgrade pip' command.\u001b[0m\nRequirement already satisfied: vecstack in /root/venv/lib/python3.7/site-packages (0.4.0)\nRequirement already satisfied: scikit-learn>=0.18 in /shared-libs/python3.7/py/lib/python3.7/site-packages (from vecstack) (1.0.2)\nRequirement already satisfied: scipy in /shared-libs/python3.7/py/lib/python3.7/site-packages (from vecstack) (1.7.3)\nRequirement already satisfied: numpy in /shared-libs/python3.7/py/lib/python3.7/site-packages (from vecstack) (1.21.5)\nRequirement already satisfied: threadpoolctl>=2.0.0 in /shared-libs/python3.7/py/lib/python3.7/site-packages (from scikit-learn>=0.18->vecstack) (3.1.0)\nRequirement already satisfied: joblib>=0.11 in /shared-libs/python3.7/py/lib/python3.7/site-packages (from scikit-learn>=0.18->vecstack) (1.1.0)\n\u001b[33mWARNING: You are using pip version 20.1.1; however, version 22.0.4 is available.\nYou should consider upgrading via the '/root/venv/bin/python -m pip install --upgrade pip' command.\u001b[0m\n[nltk_data] Downloading package stopwords to /root/nltk_data...\n[nltk_data]   Package stopwords is already up-to-date!\n",
     "output_type": "stream"
    },
    {
     "output_type": "execute_result",
     "execution_count": 1,
     "data": {
      "text/plain": "True"
     },
     "metadata": {}
    }
   ]
  },
  {
   "cell_type": "code",
   "metadata": {
    "deepnote_to_be_reexecuted": false,
    "source_hash": "8ae59b6e",
    "execution_start": 1650296648626,
    "execution_millis": 10829,
    "cell_id": "00001-62c44c48-2fc2-4402-a559-0b0933f1e506",
    "deepnote_cell_type": "code",
    "deepnote_cell_height": 952.796875
   },
   "source": "#!/usr/bin/env python3\n# -*- coding: utf-8 -*-\n\n\"\"\"\nFake news detection\nLSTM model\n\"\"\"\nfrom getEmbeddings import *\nimport matplotlib.pyplot as plt\nimport numpy as np\nimport tensorflow.compat.v1 as tf\ntf.disable_v2_behavior()\nfrom tensorflow import keras \nfrom tensorflow.keras import backend as K\nimport pandas as pd\nimport np_utils\nimport tensorflow.compat.v1 as tf\ntf.disable_v2_behavior()\nfrom nntf import *\nfrom sklearn.linear_model import LinearRegression\nfrom vecstack import stacking\nfrom tensorflow.keras.models import Sequential\nfrom tensorflow.keras.layers import Dense, Dropout, LSTM, Embedding, Input, RepeatVector,Bidirectional\nfrom tensorflow.keras.optimizers import SGD\nfrom sklearn.preprocessing import LabelEncoder\nfrom sklearn.model_selection import train_test_split\nimport scikitplot.plotters as skplt\nimport os\nfrom sklearn.svm import SVC\nfrom tensorflow.keras.datasets import imdb\nfrom tensorflow.keras.layers import Embedding\nfrom tensorflow.keras.preprocessing import sequence\nfrom collections import Counter\nimport matplotlib.pyplot as plt\n\n\n\ntop_words = 5000\nepoch_num = 8\nbatch_size = 128\n\n\n",
   "execution_count": null,
   "outputs": [
    {
     "name": "stderr",
     "text": "[nltk_data] Downloading package stopwords to /root/nltk_data...\n[nltk_data]   Package stopwords is already up-to-date!\nWARNING:tensorflow:From /shared-libs/python3.7/py/lib/python3.7/site-packages/tensorflow/python/compat/v2_compat.py:107: disable_resource_variables (from tensorflow.python.ops.variable_scope) is deprecated and will be removed in a future version.\nInstructions for updating:\nnon-resource variables are not supported in the long term\n",
     "output_type": "stream"
    }
   ]
  },
  {
   "cell_type": "code",
   "metadata": {
    "tags": [],
    "deepnote_to_be_reexecuted": false,
    "source_hash": "549066d0",
    "execution_start": 1650296659455,
    "execution_millis": 6,
    "cell_id": "00002-64eae9ca-bfc8-41b1-9971-038be68bb0ea",
    "deepnote_cell_type": "code",
    "deepnote_cell_height": 81
   },
   "source": "import pickle",
   "execution_count": null,
   "outputs": []
  },
  {
   "cell_type": "code",
   "metadata": {
    "tags": [],
    "deepnote_to_be_reexecuted": false,
    "source_hash": "d9113a60",
    "execution_start": 1650296659467,
    "execution_millis": 20791,
    "cell_id": "00003-3c7a7617-b215-41e9-9fa4-31773ac7a40c",
    "deepnote_cell_type": "code",
    "deepnote_cell_height": 621
   },
   "source": "from sklearn.model_selection import train_test_split\ntrain_ratio = 0.70\nvalidation_ratio = 0.20\ntest_ratio = 0.10\n\n\npath = 'datasets/train.csv'\nvector_dimension=300\n\ndata = pd.read_csv(path)\n\nmissing_rows = []\nfor i in range(len(data)):\n        if data.loc[i, 'text'] != data.loc[i, 'text']:\n            missing_rows.append(i)\ndata = data.drop(missing_rows).reset_index().drop(['index','id'],axis=1)\n\nfor i in range(len(data)):\n        data.loc[i, 'text'] = cleanup(data.loc[i,'text'])\n\n# data = data.sample(frac=1).reset_index(drop=True)\n\n# x_l = data.loc[:,'text'].values\n# y_l = data.loc[:,'label'].values\n\n# xtr, xte, y_train, y_test = train_test_split(\n#     x_l, y_l, test_size=1 - train_ratio)\n \n# # performing test validation split\n# xvl, xte, y_val, y_test = train_test_split(\n#     xte, y_test, test_size=test_ratio/(test_ratio + validation_ratio))",
   "execution_count": null,
   "outputs": []
  },
  {
   "cell_type": "code",
   "metadata": {
    "cell_id": "7ba9f64047f445529c30e32cded5bdf9",
    "tags": [],
    "deepnote_to_be_reexecuted": false,
    "source_hash": "a25b81af",
    "execution_start": 1650296680286,
    "execution_millis": 480605,
    "deepnote_cell_type": "code",
    "deepnote_cell_height": 675
   },
   "source": "x = constructLabeledSentences(data['text'])\ny = data['label'].values\ny = np.where(y<1, 1, 0)\n\ntext_model = Doc2Vec(min_count=1, window=5, vector_size=vector_dimension, sample=1e-4, negative=5, workers=7, epochs=20,\n                         seed=1)\ntext_model.build_vocab(x)\ntext_model.train(x, total_examples=text_model.corpus_count, epochs=text_model.epochs)\n\ntrain_size = int(0.7 * len(x))\ntest_size = int(0.1 * len(x))\nval_size=len(x)-train_size-test_size\n\ntext_train_arrays = np.zeros((train_size, vector_dimension))\ntext_test_arrays = np.zeros((test_size, vector_dimension))\ntext_val_arrays = np.zeros((val_size, vector_dimension))\ntrain_labels = np.zeros(train_size)\ntest_labels = np.zeros(test_size)\nval_labels = np.zeros(val_size)\n\nfor i in range(train_size):\n        text_train_arrays[i] = text_model.docvecs['Text_' + str(i)]\n        train_labels[i] = y[i]\n\nj = 0\nfor i in range(train_size, train_size + test_size):\n        text_test_arrays[j] = text_model.docvecs['Text_' + str(i)]\n        test_labels[j] = y[i]\n        j = j + 1\nj = 0\nfor i in range(train_size+test_size, train_size + test_size+val_size):\n        text_val_arrays[j] = text_model.docvecs['Text_' + str(i)]\n        val_labels[j] = y[i]\n        j = j + 1",
   "execution_count": null,
   "outputs": []
  },
  {
   "cell_type": "code",
   "metadata": {
    "cell_id": "e2377cd66e67414b89818d36435a4914",
    "tags": [],
    "deepnote_to_be_reexecuted": false,
    "source_hash": "b623e53d",
    "execution_start": 1650297160891,
    "execution_millis": 9390220,
    "deepnote_cell_type": "code",
    "deepnote_cell_height": 81
   },
   "source": "",
   "execution_count": null,
   "outputs": []
  },
  {
   "cell_type": "code",
   "metadata": {
    "tags": [],
    "deepnote_to_be_reexecuted": false,
    "source_hash": "31d3f8b",
    "execution_start": 1650297160892,
    "execution_millis": 1977,
    "cell_id": "00009-fb45671d-de67-4a79-a9a7-4f6821341ef3",
    "deepnote_cell_type": "code",
    "deepnote_cell_height": 408.796875
   },
   "source": "model_2=SVC()\nwith open('keras.sav' , 'rb') as f:\n    model_1 = pickle.load(f)\nwith open('rf.sav' , 'rb') as f:\n     model_3 = pickle.load(f)\n \n# putting all base model objects in one list\nall_models = [model_1, model_2,model_3]\n\nX_train=text_train_arrays\nX_val=text_val_arrays\nX_test=text_test_arrays\ny_train=train_labels\ny_val=val_labels\ny_test=test_labels",
   "execution_count": null,
   "outputs": [
    {
     "name": "stdout",
     "text": "WARNING:tensorflow:From /shared-libs/python3.7/py/lib/python3.7/site-packages/keras/initializers/initializers_v1.py:160: calling RandomNormal.__init__ (from tensorflow.python.ops.init_ops) with dtype is deprecated and will be removed in a future version.\nInstructions for updating:\nCall initializer instance with the dtype argument instead of passing it to the constructor\n",
     "output_type": "stream"
    }
   ]
  },
  {
   "cell_type": "code",
   "metadata": {
    "tags": [],
    "deepnote_to_be_reexecuted": false,
    "source_hash": "69054a29",
    "execution_start": 1650297162871,
    "execution_millis": 2349,
    "cell_id": "00010-d9740bf6-7630-4804-93da-1bb51c864146",
    "deepnote_cell_type": "code",
    "deepnote_cell_height": 654.796875
   },
   "source": "# training first model\nmodel_1.fit(X_train, y_train)\nval_pred_1 = model_1.predict(X_val)\ntest_pred_1 = model_1.predict(X_test)\n \n# converting to dataframe\nval_pred_1 = pd.DataFrame(val_pred_1)\ntest_pred_1 = pd.DataFrame(test_pred_1)\nprint(val_pred_1)\n\n\n",
   "execution_count": null,
   "outputs": [
    {
     "name": "stdout",
     "text": "Train on 6995 samples\n6995/6995 [==============================] - 2s 244us/sample - loss: 0.3970 - accuracy: 0.8380\n/shared-libs/python3.7/py/lib/python3.7/site-packages/keras/engine/training_v1.py:2079: UserWarning: `Model.state_updates` will be removed in a future version. This property should not be used in TensorFlow 2.0, as `updates` are applied automatically.\n  updates=self.state_updates,\n             0\n0     0.088856\n1     0.884111\n2     0.860888\n3     0.067014\n4     0.095858\n...        ...\n1995  0.992996\n1996  0.948201\n1997  0.119885\n1998  0.364748\n1999  0.999882\n\n[2000 rows x 1 columns]\n",
     "output_type": "stream"
    }
   ]
  },
  {
   "cell_type": "code",
   "metadata": {
    "tags": [],
    "deepnote_to_be_reexecuted": false,
    "source_hash": "9610e3f0",
    "execution_start": 1650297165224,
    "execution_millis": 4,
    "cell_id": "00011-aae7c564-293c-41a3-bd8b-391da165f348",
    "deepnote_cell_type": "code",
    "deepnote_cell_height": 206
   },
   "source": "\nprint(test_pred_1.shape)\nprint(val_pred_1.shape)\nprint(len(x))",
   "execution_count": null,
   "outputs": [
    {
     "name": "stdout",
     "text": "(999, 1)\n(2000, 1)\n9994\n",
     "output_type": "stream"
    }
   ]
  },
  {
   "cell_type": "code",
   "metadata": {
    "tags": [],
    "deepnote_to_be_reexecuted": false,
    "source_hash": "fbcbce6d",
    "execution_start": 1650297165274,
    "execution_millis": 8142,
    "cell_id": "00012-9a4bdaf5-835e-4210-ac85-c45e9ac70f9a",
    "deepnote_cell_type": "code",
    "deepnote_cell_height": 207
   },
   "source": "# training second model\nmodel_2.fit(X_train, y_train)\nval_pred_2 = model_2.predict(X_val)\ntest_pred_2 = model_2.predict(X_test)\n \n# converting to dataframe\nval_pred_2 = pd.DataFrame(val_pred_2)\ntest_pred_2 = pd.DataFrame(test_pred_2)",
   "execution_count": null,
   "outputs": []
  },
  {
   "cell_type": "code",
   "metadata": {
    "cell_id": "44adc84cda114178944fe728808e3f59",
    "tags": [],
    "deepnote_to_be_reexecuted": false,
    "source_hash": "80fef12c",
    "execution_start": 1650297173418,
    "execution_millis": 0,
    "deepnote_cell_type": "code",
    "deepnote_cell_height": 117
   },
   "source": "# y_train = y_train.reshape((-1, 1)).astype(np.int32)\n# y_test = y_test.reshape((-1, 1)).astype(np.int32)\n# y_val = y_val.reshape((-1, 1)).astype(np.int32)",
   "execution_count": null,
   "outputs": []
  },
  {
   "cell_type": "code",
   "metadata": {
    "cell_id": "621494c2913d48dfa5d170f008c65962",
    "tags": [],
    "deepnote_to_be_reexecuted": false,
    "source_hash": "b623e53d",
    "execution_start": 1650297173424,
    "execution_millis": 9387176,
    "deepnote_cell_type": "code",
    "deepnote_cell_height": 81
   },
   "source": "",
   "execution_count": null,
   "outputs": []
  },
  {
   "cell_type": "code",
   "metadata": {
    "cell_id": "a1fcbaf18d5148738debb0b4afd4c341",
    "tags": [],
    "deepnote_to_be_reexecuted": false,
    "source_hash": "62ba4eee",
    "execution_start": 1650297173431,
    "execution_millis": 139423,
    "deepnote_cell_type": "code",
    "deepnote_cell_height": 207
   },
   "source": "# training second model\nmodel_3.fit(X_train, y_train)\nval_pred_3 = model_3.predict(X_val)\ntest_pred_3 = model_3.predict(X_test)\n \n# converting to dataframe\nval_pred_3 = pd.DataFrame(val_pred_3)\ntest_pred_3 = pd.DataFrame(test_pred_3)",
   "execution_count": null,
   "outputs": []
  },
  {
   "cell_type": "code",
   "metadata": {
    "tags": [],
    "deepnote_to_be_reexecuted": false,
    "source_hash": "50f19a31",
    "execution_start": 1650297312885,
    "execution_millis": 1,
    "cell_id": "00013-3facbe17-6f2d-49db-8888-d9947d23061c",
    "deepnote_cell_type": "code",
    "deepnote_cell_height": 207
   },
   "source": "X_val = pd.DataFrame(X_val)\nval_pred_1 = pd.DataFrame(val_pred_1)\nval_pred_2 = pd.DataFrame(val_pred_2)\nval_pred_3 = pd.DataFrame(val_pred_3)\ndf_val = pd.concat([X_val, val_pred_1, val_pred_2,val_pred_3], axis=1)\n#df_val = pd.concat([X_val, val_pred_1, val_pred_2], axis=1)\ndf_val=np.array(df_val)\n",
   "execution_count": null,
   "outputs": []
  },
  {
   "cell_type": "code",
   "metadata": {
    "tags": [],
    "deepnote_to_be_reexecuted": false,
    "source_hash": "7dd8358c",
    "execution_start": 1650297312886,
    "execution_millis": 0,
    "cell_id": "00014-2f7200c0-58f0-4607-b2b1-8e15aa45e2cf",
    "deepnote_cell_type": "code",
    "deepnote_cell_height": 189
   },
   "source": "X_test = pd.DataFrame(X_test)\ntest_pred_1 = pd.DataFrame(test_pred_1)\ntest_pred_2 = pd.DataFrame(test_pred_2)\ntest_pred_3 = pd.DataFrame(test_pred_3)\ndf_test = pd.concat([X_test, test_pred_1, test_pred_2,test_pred_3], axis=1)\n#df_test = pd.concat([X_test, test_pred_1, test_pred_2], axis=1)\ndf_test=np.array(df_test)",
   "execution_count": null,
   "outputs": []
  },
  {
   "cell_type": "code",
   "metadata": {
    "tags": [],
    "deepnote_to_be_reexecuted": false,
    "source_hash": "12335e69",
    "execution_start": 1650297312887,
    "execution_millis": 60,
    "cell_id": "00015-17c11aac-d206-4a77-aaf4-66b7e11428af",
    "deepnote_cell_type": "code",
    "deepnote_cell_height": 394.796875
   },
   "source": "print(df_val)\nprint(y_val)",
   "execution_count": null,
   "outputs": [
    {
     "name": "stdout",
     "text": "[[-1.39022723e-01 -7.61283338e-02  1.46912504e-03 ...  8.88558328e-02\n   0.00000000e+00  9.00000000e-02]\n [-2.15691738e-02  3.42938095e-01 -2.73601376e-02 ...  8.84110570e-01\n   1.00000000e+00  7.60000000e-01]\n [ 4.51736823e-02  1.38629153e-01  5.43448627e-02 ...  8.60888004e-01\n   1.00000000e+00  8.70000000e-01]\n ...\n [-5.37322938e-01 -4.22047257e-01 -1.17062306e+00 ...  1.19885176e-01\n   0.00000000e+00  3.50000000e-01]\n [ 2.29876971e+00  6.68410301e-01  5.03316343e-01 ...  3.64748061e-01\n   0.00000000e+00  4.20000000e-01]\n [ 1.71854664e-02  7.53672495e-02 -3.84056717e-01 ...  9.99882340e-01\n   1.00000000e+00  8.20000000e-01]]\n[0. 1. 1. ... 1. 0. 1.]\n",
     "output_type": "stream"
    }
   ]
  },
  {
   "cell_type": "code",
   "metadata": {
    "tags": [],
    "deepnote_to_be_reexecuted": false,
    "source_hash": "8d2189b3",
    "execution_start": 1650297312943,
    "execution_millis": 149,
    "cell_id": "00016-862c29bd-6447-497a-b685-bdbfa88de1e7",
    "deepnote_cell_type": "code",
    "deepnote_cell_height": 189
   },
   "source": "# concatenating validation dataset along with all the predicted validation data (meta features)\n# making the final model using the meta features\nfinal_model = LinearRegression()\nfinal_model.fit(df_val, y_val)\n \n# getting the final output\nfinal_pred = final_model.predict(df_test)",
   "execution_count": null,
   "outputs": []
  },
  {
   "cell_type": "code",
   "metadata": {
    "tags": [],
    "deepnote_to_be_reexecuted": false,
    "source_hash": "4e41e03c",
    "execution_start": 1650297313097,
    "execution_millis": 7,
    "cell_id": "00017-a4a9bafe-0be2-41e8-9fd6-a46f9d681fa1",
    "deepnote_cell_type": "code",
    "deepnote_cell_height": 351
   },
   "source": "\n \n# # computing the stack features\n# s_train, s_test = stacking(all_models, X_train, y_train, X_test,regression = True, n_folds = 4, shuffle=True )\n \n# # initializing the second-level model\n# final_model = model_1\n \n# # fitting the second level model with stack features\n# final_model = final_model.fit(s_train, y_train)\n \n# # predicting the final output using stacking\n# pred_final = final_model.predict(X_test)\n \n# # printing the root mean squared error between real value and predicted value\n# # print(mean_squared_error(y_test, pred_final))",
   "execution_count": null,
   "outputs": []
  },
  {
   "cell_type": "code",
   "metadata": {
    "tags": [],
    "deepnote_to_be_reexecuted": false,
    "source_hash": "cfdf59da",
    "execution_start": 1650297313111,
    "execution_millis": 41,
    "cell_id": "00018-54925abc-e44c-4d8e-9968-1b5727b2f40d",
    "deepnote_cell_type": "code",
    "deepnote_cell_height": 99
   },
   "source": "y_pred = final_pred\ny_pred = np.where(y_pred>0.5, 1, 0)",
   "execution_count": null,
   "outputs": []
  },
  {
   "cell_type": "code",
   "metadata": {
    "tags": [],
    "deepnote_to_be_reexecuted": false,
    "source_hash": "27a0c00a",
    "execution_start": 1650297313159,
    "execution_millis": 8,
    "cell_id": "00019-0de88d1b-219b-44f8-9f72-70e3829dedbf",
    "deepnote_cell_type": "code",
    "deepnote_cell_height": 636.796875
   },
   "source": "print(y_pred)",
   "execution_count": null,
   "outputs": [
    {
     "name": "stdout",
     "text": "[1 1 1 0 1 1 1 0 1 0 1 0 1 0 0 1 0 1 0 1 0 0 0 0 0 1 1 1 0 0 0 0 1 1 1 0 0\n 0 0 1 0 0 0 1 0 1 0 0 0 0 0 0 0 0 1 0 0 1 1 0 0 1 1 1 0 0 1 0 0 1 1 0 0 0\n 1 0 0 1 0 0 0 1 0 0 1 1 0 0 0 1 1 0 0 1 1 0 0 1 0 1 0 0 0 1 0 1 1 1 1 1 1\n 0 0 0 0 0 1 0 1 0 0 0 0 0 0 1 1 0 1 0 0 0 1 0 1 1 0 1 1 0 0 0 0 1 0 1 1 1\n 0 0 1 0 0 0 1 1 0 0 1 0 0 1 0 1 1 1 1 1 0 1 1 1 1 0 1 0 0 1 0 0 0 0 1 0 0\n 1 1 0 0 0 1 0 0 0 0 1 0 1 0 1 1 0 0 0 1 0 0 1 1 1 1 1 1 0 0 1 0 0 1 1 1 0\n 0 0 0 1 0 1 0 1 0 1 0 1 1 0 1 1 1 0 0 0 0 0 0 1 0 0 1 0 0 1 0 1 0 0 1 0 1\n 1 1 1 0 1 0 0 0 1 0 1 0 1 1 1 1 0 0 0 1 1 0 1 0 0 0 0 1 1 0 0 1 1 0 0 1 1\n 0 1 1 1 0 0 1 1 0 0 0 1 0 0 1 1 0 0 1 1 0 0 0 0 1 1 0 1 0 1 0 1 0 1 1 0 0\n 1 0 1 1 1 1 0 0 0 1 1 1 0 0 0 0 0 1 0 0 0 1 0 0 1 1 0 1 0 0 1 0 1 1 0 0 0\n 1 0 0 0 1 0 0 1 0 1 1 0 0 0 0 1 1 0 0 1 0 1 1 1 0 1 0 1 0 0 0 1 0 1 1 0 1\n 0 1 0 1 1 0 0 1 0 0 1 0 1 0 0 1 1 0 0 0 0 0 1 0 1 1 0 0 1 0 0 0 1 1 1 0 1\n 1 1 1 0 1 0 0 0 1 0 1 1 0 0 0 1 1 0 0 0 0 0 1 0 0 1 0 0 1 1 0 0 1 0 1 1 0\n 0 1 1 1 0 1 0 0 1 1 1 0 0 1 0 0 0 1 0 0 1 0 0 1 0 0 1 0 1 1 0 0 1 0 0 1 1\n 0 0 1 0 0 1 1 0 0 1 1 0 0 0 0 1 1 0 1 0 0 0 1 0 0 1 0 1 1 0 1 0 0 0 1 1 1\n 1 0 0 1 0 1 0 1 0 0 1 1 1 1 1 0 0 0 0 0 1 0 1 1 1 0 1 0 1 1 1 1 0 0 0 0 1\n 0 1 1 0 1 1 0 0 0 0 0 1 0 1 1 0 0 0 0 1 0 0 0 0 1 1 1 0 0 1 1 1 1 1 1 0 1\n 1 1 1 0 1 1 1 0 0 0 0 1 1 1 0 0 0 1 0 0 0 1 1 0 0 0 1 0 1 1 0 1 1 0 0 1 0\n 0 0 0 0 1 1 1 1 1 0 1 1 0 0 1 0 1 0 1 1 1 1 0 0 0 0 1 0 1 1 1 0 0 0 0 1 0\n 0 0 1 1 0 1 1 0 1 0 0 1 0 1 1 1 0 0 1 0 1 0 0 0 1 0 1 0 1 1 0 1 0 1 0 0 0\n 1 0 0 1 1 0 0 0 0 1 0 0 1 0 1 0 1 1 0 1 0 0 1 0 1 1 1 0 0 1 0 1 0 0 1 1 0\n 1 1 0 0 0 0 0 0 1 0 0 1 0 0 1 1 1 0 0 0 1 0 1 1 1 1 0 1 1 0 0 0 1 0 0 0 0\n 0 0 0 1 1 1 0 1 1 0 1 1 1 0 1 1 1 0 1 0 0 1 0 0 0 0 0 0 1 0 0 1 1 0 1 1 0\n 0 1 0 1 0 0 0 0 1 0 1 0 1 0 0 1 1 0 1 0 1 1 0 1 1 0 0 0 0 0 0 1 0 1 0 1 1\n 0 1 1 1 0 1 0 0 0 0 0 0 0 1 1 0 1 0 0 0 0 0 0 1 1 0 0 1 1 1 1 0 0 1 0 1 1\n 0 0 1 0 1 0 0 0 0 0 1 0 1 1 1 0 0 0 0 0 1 0 0 0 1 1 0 1 1 0 1 0 0 0 0 0 0\n 0 1 1 1 1 0 0 0 0 0 0 0 0 1 1 0 0 1 0 1 0 0 0 0 0 1 1 1 0 1 1 1 0 1 1 1 0]\n",
     "output_type": "stream"
    }
   ]
  },
  {
   "cell_type": "code",
   "metadata": {
    "tags": [],
    "deepnote_to_be_reexecuted": false,
    "source_hash": "d973b3b1",
    "execution_start": 1650297313214,
    "execution_millis": 3,
    "cell_id": "00020-d59477ae-19cc-42ed-9524-ba27c1d6fe00",
    "owner_user_id": "90d8e9a7-4cf7-49f2-843d-0f73d1ab4387",
    "deepnote_cell_type": "code",
    "deepnote_cell_height": 570
   },
   "source": "m = y_test.shape[0]\ntp=0\ntn=0\nfp=0\nfn=0\nfor i in range(m):\n    if (y_pred[i]==0 and (y_test[i]!=y_pred[i])):\n        fn+=1\n    elif (y_pred[i]==1 and (y_test[i]!=y_pred[i])):\n        fp+=1\n    elif (y_pred[i]==0 and (y_test[i]==y_pred[i])):\n        tn+=1\n    elif (y_pred[i]==1 and (y_test[i]==y_pred[i])):\n        tp+=1\n\nprecision=(tp)/(tp+fp)*100\nrecall=(tp)/(tp+fn)*100\nprint(\"Accuracy = \" + format((tp+tn)/(tp+tn+fp+fn)*100, '.2f') + \"%\")   \nprint(\"F1-Score = \" + format(((2*precision*recall)/(precision+recall)), '.2f') + \"%\")   \nprint(\"Recall = \" + format((tp)/(tp+fn)*100, '.2f') + \"%\")   \nprint(\"Precision = \" + format((tp)/(tp+fp)*100, '.2f') + \"%\")   \nprint(\"Specificity = \" + format((tn)/(tn+fp)*100, '.2f') + \"%\")  ",
   "execution_count": null,
   "outputs": [
    {
     "name": "stdout",
     "text": "Accuracy = 86.39%\nF1-Score = 85.31%\nRecall = 82.46%\nPrecision = 88.37%\nSpecificity = 90.00%\n",
     "output_type": "stream"
    }
   ]
  },
  {
   "cell_type": "code",
   "metadata": {
    "tags": [],
    "deepnote_to_be_reexecuted": false,
    "source_hash": "714f65a4",
    "execution_start": 1650297313215,
    "execution_millis": 286,
    "cell_id": "00021-a2c22ad3-065c-4288-b727-540130b06bfc",
    "deepnote_cell_type": "code",
    "deepnote_cell_height": 557.546875,
    "deepnote_output_heights": [
     null,
     263.75
    ]
   },
   "source": "# Draw the confusion matrix\ndef plot_cmat(y_test, ypred):\n    '''Plotting confusion matrix'''\n    skplt.plot_confusion_matrix(y_test, ypred)\n    plt.grid(False)\n    plt.show()\n    \nplot_cmat(y_test, y_pred)",
   "execution_count": null,
   "outputs": [
    {
     "name": "stderr",
     "text": "/shared-libs/python3.7/py/lib/python3.7/site-packages/sklearn/utils/deprecation.py:87: FutureWarning: Function plot_confusion_matrix is deprecated; This will be removed in v0.4.0. Please use scikitplot.metrics.plot_confusion_matrix instead.\n  warnings.warn(msg, category=FutureWarning)\n",
     "output_type": "stream"
    },
    {
     "data": {
      "text/plain": "<Figure size 432x288 with 2 Axes>",
      "image/png": "[encoded data removed]"
     },
     "metadata": {
      "needs_background": "light",
      "image/png": {
       "width": 322,
       "height": 278
      }
     },
     "output_type": "display_data"
    }
   ]
  },
  {
   "cell_type": "markdown",
   "source": "<a style='text-decoration:none;line-height:16px;display:flex;color:#5B5B62;padding:10px;justify-content:end;' href='https://deepnote.com?utm_source=created-in-deepnote-cell&projectId=3a2c2a1b-c190-4238-a7b0-93cabb99b4e1' target=\"_blank\">\n<img alt='Created in deepnote.com' style='display:inline;max-height:16px;margin:0px;margin-right:7.5px;' src='data:image/svg+xml;base64,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' > </img>\nCreated in <span style='font-weight:600;margin-left:4px;'>Deepnote</span></a>",
   "metadata": {
    "tags": [],
    "created_in_deepnote_cell": true,
    "deepnote_cell_type": "markdown"
   }
  }
 ],
 "nbformat": 4,
 "nbformat_minor": 4,
 "metadata": {
  "kernelspec": {
   "display_name": "Python 3",
   "language": "python",
   "name": "python3"
  },
  "language_info": {
   "codemirror_mode": {
    "name": "ipython",
    "version": 3
   },
   "file_extension": ".py",
   "mimetype": "text/x-python",
   "name": "python",
   "nbconvert_exporter": "python",
   "pygments_lexer": "ipython3",
   "version": "3.8.5"
  },
  "deepnote_notebook_id": "5c7f210d-18bb-4d38-845d-1184aefe5eb9",
  "deepnote": {
   "is_reactive": false
  },
  "deepnote_execution_queue": []
 }
}